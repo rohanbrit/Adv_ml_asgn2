{
 "cells": [
  {
   "cell_type": "markdown",
   "id": "3bd9271b-67c7-457c-a019-b8fe743f9eb4",
   "metadata": {},
   "source": [
    "# Advanced Machine Learning Application - Assignment 2\n",
    "### Rohan Rocky Britto - Student ID: 24610990"
   ]
  },
  {
   "cell_type": "markdown",
   "id": "a60dbbcb-6604-485d-8725-36d163b09216",
   "metadata": {},
   "source": [
    "## Data Import and Preparation"
   ]
  },
  {
   "cell_type": "markdown",
   "id": "56c298d7-d836-477a-909c-fd58a3d84b1d",
   "metadata": {},
   "source": [
    "Importing required packages"
   ]
  },
  {
   "cell_type": "code",
   "execution_count": 1,
   "id": "035af9a6-9dea-4996-8984-3aec3421cb9c",
   "metadata": {
    "tags": []
   },
   "outputs": [
    {
     "name": "stderr",
     "output_type": "stream",
     "text": [
      "C:\\Users\\rohan\\AppData\\Local\\pypoetry\\Cache\\virtualenvs\\adv-ml-asgn2-Ywkfmj9z-py3.11\\Lib\\site-packages\\tqdm\\auto.py:21: TqdmWarning: IProgress not found. Please update jupyter and ipywidgets. See https://ipywidgets.readthedocs.io/en/stable/user_install.html\n",
      "  from .autonotebook import tqdm as notebook_tqdm\n",
      "Importing plotly failed. Interactive plots will not work.\n"
     ]
    }
   ],
   "source": [
    "import pandas as pd\n",
    "import numpy as np\n",
    "from joblib import dump\n",
    "from prophet import Prophet\n",
    "from sklearn.metrics import mean_absolute_error, mean_squared_error"
   ]
  },
  {
   "cell_type": "markdown",
   "id": "5cc2d35e-6da0-435d-bb65-e98ade35498c",
   "metadata": {},
   "source": [
    "Importing the function developed and saved to evaluate the model"
   ]
  },
  {
   "cell_type": "code",
   "execution_count": 2,
   "id": "78883f1b-78f1-49ef-a882-be68c3b41615",
   "metadata": {
    "tags": []
   },
   "outputs": [],
   "source": [
    "import sys\n",
    "sys.path.append('../../src')\n",
    "from functions import evaluate_model"
   ]
  },
  {
   "cell_type": "markdown",
   "id": "bcfa5408-3d61-49b6-b288-a3a28c1471a2",
   "metadata": {},
   "source": [
    "Read the training and validation files"
   ]
  },
  {
   "cell_type": "code",
   "execution_count": 3,
   "id": "898a272a-82e4-4435-8efc-ed8c64342836",
   "metadata": {
    "tags": []
   },
   "outputs": [
    {
     "name": "stderr",
     "output_type": "stream",
     "text": [
      "C:\\Users\\rohan\\AppData\\Local\\Temp\\ipykernel_6744\\2698241436.py:1: DtypeWarning: Columns (10,11) have mixed types. Specify dtype option on import or set low_memory=False.\n",
      "  df_train = pd.read_csv('../../data/processed/train_processed.csv')\n",
      "C:\\Users\\rohan\\AppData\\Local\\Temp\\ipykernel_6744\\2698241436.py:2: DtypeWarning: Columns (10,11) have mixed types. Specify dtype option on import or set low_memory=False.\n",
      "  df_validation = pd.read_csv('../../data/processed/validation_processed.csv')\n",
      "C:\\Users\\rohan\\AppData\\Local\\Temp\\ipykernel_6744\\2698241436.py:3: DtypeWarning: Columns (10,11) have mixed types. Specify dtype option on import or set low_memory=False.\n",
      "  df_test = pd.read_csv('../../data/processed/test_processed.csv')\n"
     ]
    }
   ],
   "source": [
    "df_train = pd.read_csv('../../data/processed/train_processed.csv')\n",
    "df_validation = pd.read_csv('../../data/processed/validation_processed.csv')\n",
    "df_test = pd.read_csv('../../data/processed/test_processed.csv')"
   ]
  },
  {
   "cell_type": "markdown",
   "id": "12b7455d-01ea-4337-abe5-4d3a59c8931a",
   "metadata": {},
   "source": [
    "Grouping all the rows based on dates to find the total sales revenue on a particular day"
   ]
  },
  {
   "cell_type": "code",
   "execution_count": 4,
   "id": "4e479952-376b-415f-b3a1-4b40a3bc5ca4",
   "metadata": {
    "tags": []
   },
   "outputs": [],
   "source": [
    "df_train_grouped = df_train[['date', 'sale_revenue']].groupby(['date'], as_index=False).sum()\n",
    "df_validation_grouped = df_validation[['date', 'sale_revenue']].groupby(['date'], as_index=False).sum()\n",
    "df_test_grouped = df_test[['date', 'sale_revenue']].groupby(['date'], as_index=False).sum()"
   ]
  },
  {
   "cell_type": "markdown",
   "id": "426411b9-1f87-40cb-ad14-438e6f55a25e",
   "metadata": {
    "tags": []
   },
   "source": [
    "Converting the datatype of date field to datetime and sale_revenue to int"
   ]
  },
  {
   "cell_type": "code",
   "execution_count": 5,
   "id": "cb2ad09d-eaec-4191-9334-9ddde3c0cc40",
   "metadata": {
    "tags": []
   },
   "outputs": [],
   "source": [
    "df_train_grouped['date'] = pd.to_datetime(df_train_grouped['date'])\n",
    "df_train_grouped['sale_revenue'] = df_train_grouped['sale_revenue'].astype(int)\n",
    "\n",
    "df_validation_grouped['date'] = pd.to_datetime(df_validation_grouped['date'])\n",
    "df_validation_grouped['sale_revenue'] = df_validation_grouped['sale_revenue'].astype(int)\n",
    "\n",
    "df_test_grouped['date'] = pd.to_datetime(df_test_grouped['date'])\n",
    "df_test_grouped['sale_revenue'] = df_test_grouped['sale_revenue'].astype(int)"
   ]
  },
  {
   "cell_type": "markdown",
   "id": "521e342e-a634-4e69-bb97-ca695d68df54",
   "metadata": {},
   "source": [
    "Checking the basic features and values of the dataset"
   ]
  },
  {
   "cell_type": "code",
   "execution_count": 6,
   "id": "3fd6c064-5988-4123-8544-d0e9b6413abb",
   "metadata": {
    "tags": []
   },
   "outputs": [
    {
     "name": "stdout",
     "output_type": "stream",
     "text": [
      "<class 'pandas.core.frame.DataFrame'>\n",
      "RangeIndex: 1071 entries, 0 to 1070\n",
      "Data columns (total 2 columns):\n",
      " #   Column        Non-Null Count  Dtype         \n",
      "---  ------        --------------  -----         \n",
      " 0   date          1071 non-null   datetime64[ns]\n",
      " 1   sale_revenue  1071 non-null   int32         \n",
      "dtypes: datetime64[ns](1), int32(1)\n",
      "memory usage: 12.7 KB\n"
     ]
    }
   ],
   "source": [
    "df_train_grouped.info()"
   ]
  },
  {
   "cell_type": "code",
   "execution_count": 7,
   "id": "42ab8a0b-0f92-4fe5-97a1-51c2ef7d8f2b",
   "metadata": {
    "tags": []
   },
   "outputs": [
    {
     "data": {
      "text/html": [
       "<div>\n",
       "<style scoped>\n",
       "    .dataframe tbody tr th:only-of-type {\n",
       "        vertical-align: middle;\n",
       "    }\n",
       "\n",
       "    .dataframe tbody tr th {\n",
       "        vertical-align: top;\n",
       "    }\n",
       "\n",
       "    .dataframe thead th {\n",
       "        text-align: right;\n",
       "    }\n",
       "</style>\n",
       "<table border=\"1\" class=\"dataframe\">\n",
       "  <thead>\n",
       "    <tr style=\"text-align: right;\">\n",
       "      <th></th>\n",
       "      <th>date</th>\n",
       "      <th>sale_revenue</th>\n",
       "    </tr>\n",
       "  </thead>\n",
       "  <tbody>\n",
       "    <tr>\n",
       "      <th>0</th>\n",
       "      <td>2011-01-29</td>\n",
       "      <td>81650</td>\n",
       "    </tr>\n",
       "    <tr>\n",
       "      <th>1</th>\n",
       "      <td>2011-01-30</td>\n",
       "      <td>78970</td>\n",
       "    </tr>\n",
       "    <tr>\n",
       "      <th>2</th>\n",
       "      <td>2011-01-31</td>\n",
       "      <td>57706</td>\n",
       "    </tr>\n",
       "    <tr>\n",
       "      <th>3</th>\n",
       "      <td>2011-02-01</td>\n",
       "      <td>60761</td>\n",
       "    </tr>\n",
       "    <tr>\n",
       "      <th>4</th>\n",
       "      <td>2011-02-02</td>\n",
       "      <td>46959</td>\n",
       "    </tr>\n",
       "  </tbody>\n",
       "</table>\n",
       "</div>"
      ],
      "text/plain": [
       "        date  sale_revenue\n",
       "0 2011-01-29         81650\n",
       "1 2011-01-30         78970\n",
       "2 2011-01-31         57706\n",
       "3 2011-02-01         60761\n",
       "4 2011-02-02         46959"
      ]
     },
     "execution_count": 7,
     "metadata": {},
     "output_type": "execute_result"
    }
   ],
   "source": [
    "df_train_grouped.head()"
   ]
  },
  {
   "cell_type": "markdown",
   "id": "bc26baf0-8974-4f9e-b03c-b8644f755394",
   "metadata": {},
   "source": [
    "Changing the column names of the train and test set as required by the prophet model"
   ]
  },
  {
   "cell_type": "code",
   "execution_count": 8,
   "id": "d41a52cd-0843-4a20-b99e-3148480da807",
   "metadata": {
    "tags": []
   },
   "outputs": [],
   "source": [
    "df_train_grouped.columns = ['ds', 'y']\n",
    "df_validation_grouped.columns = ['ds', 'y']\n",
    "df_test_grouped.columns = ['ds', 'y']"
   ]
  },
  {
   "cell_type": "markdown",
   "id": "43f92edb-2ef1-44e7-bee4-5239e1da1b54",
   "metadata": {
    "tags": []
   },
   "source": [
    "Storing the target values in a separate variable"
   ]
  },
  {
   "cell_type": "code",
   "execution_count": 9,
   "id": "6e859349-e73f-4f26-a24c-390eaa811d81",
   "metadata": {
    "tags": []
   },
   "outputs": [],
   "source": [
    "train_target = df_train_grouped['y']\n",
    "validation_target = df_validation_grouped['y']\n",
    "test_target = df_test_grouped['y']"
   ]
  },
  {
   "cell_type": "markdown",
   "id": "44323397-a730-4ae7-8e03-3cc7a3e39b50",
   "metadata": {},
   "source": [
    "### Baseline model"
   ]
  },
  {
   "cell_type": "markdown",
   "id": "aa42a426-640d-4933-acaf-45f25ebb61b4",
   "metadata": {},
   "source": [
    "Create a baseline model predicting the mean value of sale revenue for model performance comparison"
   ]
  },
  {
   "cell_type": "code",
   "execution_count": 10,
   "id": "d2c3a6be-dc53-4551-abe4-4a79eeb0aad9",
   "metadata": {
    "tags": []
   },
   "outputs": [],
   "source": [
    "mean_value = train_target.mean()\n",
    "base_preds = np.full((len(train_target), 1), mean_value)"
   ]
  },
  {
   "cell_type": "code",
   "execution_count": 34,
   "id": "dd6b3fe4-2ce5-485f-b89b-1396fdb189b2",
   "metadata": {
    "tags": []
   },
   "outputs": [
    {
     "name": "stdout",
     "output_type": "stream",
     "text": [
      "The Mean Absolute Error for the baseline model is  15218.63201053842\n",
      "The Mean Squared Error for the baseline model is  19756.530946780458\n"
     ]
    }
   ],
   "source": [
    "print('The Mean Absolute Error for the baseline model is ', mean_absolute_error(train_target, base_preds))\n",
    "print('The Mean Squared Error for the baseline model is ', mean_squared_error(train_target, base_preds, squared=False))"
   ]
  },
  {
   "cell_type": "markdown",
   "id": "2a92efc5-3673-402d-ad7e-c62ada7841f9",
   "metadata": {},
   "source": [
    "### Prophet model without event data"
   ]
  },
  {
   "cell_type": "markdown",
   "id": "ea2f1d81-98a4-4293-8c07-d6479ae9802b",
   "metadata": {},
   "source": [
    "Building a facebook prophet model"
   ]
  },
  {
   "cell_type": "code",
   "execution_count": 12,
   "id": "9219ccf2-682d-4b4f-a66e-0eb83f2076c6",
   "metadata": {
    "tags": []
   },
   "outputs": [],
   "source": [
    "prop = Prophet()"
   ]
  },
  {
   "cell_type": "code",
   "execution_count": 13,
   "id": "cfff5fb9-0f0d-4f53-8387-3ecb3de56549",
   "metadata": {
    "tags": []
   },
   "outputs": [
    {
     "name": "stderr",
     "output_type": "stream",
     "text": [
      "22:22:57 - cmdstanpy - INFO - Chain [1] start processing\n",
      "22:22:58 - cmdstanpy - INFO - Chain [1] done processing\n"
     ]
    },
    {
     "data": {
      "text/plain": [
       "<prophet.forecaster.Prophet at 0x24562a03710>"
      ]
     },
     "execution_count": 13,
     "metadata": {},
     "output_type": "execute_result"
    }
   ],
   "source": [
    "prop.fit(df_train_grouped)"
   ]
  },
  {
   "cell_type": "code",
   "execution_count": 14,
   "id": "4ccc336e-c185-4ede-9b6b-cedbb6e82e36",
   "metadata": {
    "tags": []
   },
   "outputs": [],
   "source": [
    "train_preds = prop.predict(df_train_grouped[['ds']])['yhat']"
   ]
  },
  {
   "cell_type": "code",
   "execution_count": 15,
   "id": "2cd3040f-baef-4372-8d86-ad3d3e3c30ac",
   "metadata": {
    "tags": []
   },
   "outputs": [],
   "source": [
    "validation_preds = prop.predict(df_validation_grouped[['ds']])['yhat']"
   ]
  },
  {
   "cell_type": "code",
   "execution_count": 16,
   "id": "da361391-aadc-495d-993f-3934cd684cc5",
   "metadata": {
    "tags": []
   },
   "outputs": [
    {
     "name": "stdout",
     "output_type": "stream",
     "text": [
      "The Mean Absolute Error for training set is  6280.557595565194\n",
      "The Mean Absolute Error for validation set is  8028.299534720642\n",
      "The Root Mean Squared Error for training set is  9631.75791947105\n",
      "The Root Mean Squared Error for validation set is  12248.39281334324\n"
     ]
    }
   ],
   "source": [
    "evaluate_model(train_target, train_preds, validation_target, validation_preds)"
   ]
  },
  {
   "cell_type": "code",
   "execution_count": 17,
   "id": "b97de3e2-f964-4399-9058-e3ed0cab015d",
   "metadata": {},
   "outputs": [],
   "source": [
    "df_train_grouped['prop_pred'] = prop.predict(df_train_grouped[['ds']])['yhat']"
   ]
  },
  {
   "cell_type": "code",
   "execution_count": 18,
   "id": "469da107-c6d8-4ee2-a813-6aeb0bf4cc46",
   "metadata": {},
   "outputs": [],
   "source": [
    "df_validation_grouped['prop_pred'] = prop.predict(df_validation_grouped[['ds']])['yhat']"
   ]
  },
  {
   "cell_type": "markdown",
   "id": "e0e86415-9d1b-4a34-8d58-3750bd72b8e5",
   "metadata": {},
   "source": [
    "### Prophet model with holiday/event data"
   ]
  },
  {
   "cell_type": "markdown",
   "id": "f615d626-9cef-4d5b-8dce-104f35c282c5",
   "metadata": {},
   "source": [
    "Passing the holiday/event data to the model to check if there is an improvement in performance"
   ]
  },
  {
   "cell_type": "code",
   "execution_count": 19,
   "id": "a9f0b0e6-44a2-404b-9234-a94161c158c8",
   "metadata": {
    "tags": []
   },
   "outputs": [],
   "source": [
    "df_holiday = pd.read_csv('../../data/raw/calendar_events.csv')"
   ]
  },
  {
   "cell_type": "code",
   "execution_count": 20,
   "id": "e7cf8475-8bf8-4f47-a303-9237c622df57",
   "metadata": {
    "tags": []
   },
   "outputs": [],
   "source": [
    "df_holiday = df_holiday[['date', 'event_name']]"
   ]
  },
  {
   "cell_type": "code",
   "execution_count": 21,
   "id": "13ec23e5-802e-4ae6-a761-8c449e9ef359",
   "metadata": {
    "tags": []
   },
   "outputs": [],
   "source": [
    "df_holiday.columns = ['ds', 'holiday']\n",
    "df_holiday['ds'] = pd.to_datetime(df_holiday['ds'])"
   ]
  },
  {
   "cell_type": "code",
   "execution_count": 22,
   "id": "6a79717e-7e48-46f1-8c09-a373bc0de465",
   "metadata": {
    "tags": []
   },
   "outputs": [],
   "source": [
    "prop_hol = Prophet(holidays=df_holiday)"
   ]
  },
  {
   "cell_type": "code",
   "execution_count": 23,
   "id": "5b1ff65c-9102-4db7-a2c4-142c51d5748d",
   "metadata": {
    "tags": []
   },
   "outputs": [
    {
     "name": "stderr",
     "output_type": "stream",
     "text": [
      "22:22:59 - cmdstanpy - INFO - Chain [1] start processing\n",
      "22:22:59 - cmdstanpy - INFO - Chain [1] done processing\n"
     ]
    },
    {
     "data": {
      "text/plain": [
       "<prophet.forecaster.Prophet at 0x24564154ad0>"
      ]
     },
     "execution_count": 23,
     "metadata": {},
     "output_type": "execute_result"
    }
   ],
   "source": [
    "prop_hol.fit(df_train_grouped)"
   ]
  },
  {
   "cell_type": "code",
   "execution_count": 24,
   "id": "3499c1a0-31a1-4a1c-9949-58639d448fc1",
   "metadata": {
    "tags": []
   },
   "outputs": [],
   "source": [
    "train_preds = prop_hol.predict(df_train_grouped[['ds']])['yhat']"
   ]
  },
  {
   "cell_type": "code",
   "execution_count": 25,
   "id": "cd22babf-bac8-4398-88f7-817d41c0017d",
   "metadata": {
    "tags": []
   },
   "outputs": [],
   "source": [
    "validation_preds = prop_hol.predict(df_validation_grouped[['ds']])['yhat']"
   ]
  },
  {
   "cell_type": "code",
   "execution_count": 26,
   "id": "22dd5788-2224-40ba-a615-44f5f8fc9c1e",
   "metadata": {
    "tags": []
   },
   "outputs": [
    {
     "name": "stdout",
     "output_type": "stream",
     "text": [
      "The Mean Absolute Error for training set is  5548.515861379955\n",
      "The Mean Absolute Error for validation set is  7856.410096578735\n",
      "The Root Mean Squared Error for training set is  7204.706030049829\n",
      "The Root Mean Squared Error for validation set is  11400.73895079924\n"
     ]
    }
   ],
   "source": [
    "evaluate_model(train_target, train_preds, validation_target, validation_preds)"
   ]
  },
  {
   "cell_type": "code",
   "execution_count": 27,
   "id": "d41b13af-9f82-473b-9f35-b0866128b5c2",
   "metadata": {},
   "outputs": [],
   "source": [
    "df_train_grouped['prop_hol_pred'] = prop_hol.predict(df_train_grouped[['ds']])['yhat']"
   ]
  },
  {
   "cell_type": "code",
   "execution_count": 28,
   "id": "c6bce315-e492-43df-bafd-6a7039978700",
   "metadata": {
    "tags": []
   },
   "outputs": [],
   "source": [
    "df_validation_grouped['prop_hol_pred'] = prop_hol.predict(df_validation_grouped[['ds']])['yhat']"
   ]
  },
  {
   "cell_type": "code",
   "execution_count": 29,
   "id": "a5ea9bfa-1db3-42e0-80e0-092b78c11428",
   "metadata": {},
   "outputs": [
    {
     "data": {
      "text/plain": [
       "['../../models/forecasting/prop_hol.joblib']"
      ]
     },
     "execution_count": 29,
     "metadata": {},
     "output_type": "execute_result"
    }
   ],
   "source": [
    "dump(prop_hol, '../../models/forecasting/prop_hol.joblib')"
   ]
  },
  {
   "cell_type": "markdown",
   "id": "03f08e12-1f90-45b0-acab-682f9b68af04",
   "metadata": {},
   "source": [
    "The model with holiday/event data seems to be performing better than the model without it. Hence, we will use this model to evaluate its performance on test data and also view some sample predictions vs actuals."
   ]
  },
  {
   "cell_type": "code",
   "execution_count": 30,
   "id": "a5406b91-2c97-44f9-b7bf-b77b63e475a6",
   "metadata": {},
   "outputs": [
    {
     "data": {
      "text/html": [
       "<div>\n",
       "<style scoped>\n",
       "    .dataframe tbody tr th:only-of-type {\n",
       "        vertical-align: middle;\n",
       "    }\n",
       "\n",
       "    .dataframe tbody tr th {\n",
       "        vertical-align: top;\n",
       "    }\n",
       "\n",
       "    .dataframe thead th {\n",
       "        text-align: right;\n",
       "    }\n",
       "</style>\n",
       "<table border=\"1\" class=\"dataframe\">\n",
       "  <thead>\n",
       "    <tr style=\"text-align: right;\">\n",
       "      <th></th>\n",
       "      <th>ds</th>\n",
       "      <th>y</th>\n",
       "      <th>prop_pred</th>\n",
       "      <th>prop_hol_pred</th>\n",
       "    </tr>\n",
       "  </thead>\n",
       "  <tbody>\n",
       "    <tr>\n",
       "      <th>422</th>\n",
       "      <td>2012-03-26</td>\n",
       "      <td>76432</td>\n",
       "      <td>82533.628412</td>\n",
       "      <td>81952.331022</td>\n",
       "    </tr>\n",
       "    <tr>\n",
       "      <th>892</th>\n",
       "      <td>2013-07-09</td>\n",
       "      <td>99078</td>\n",
       "      <td>91339.082073</td>\n",
       "      <td>96725.526423</td>\n",
       "    </tr>\n",
       "    <tr>\n",
       "      <th>490</th>\n",
       "      <td>2012-06-02</td>\n",
       "      <td>117199</td>\n",
       "      <td>108726.891295</td>\n",
       "      <td>108587.138320</td>\n",
       "    </tr>\n",
       "    <tr>\n",
       "      <th>759</th>\n",
       "      <td>2013-02-26</td>\n",
       "      <td>76897</td>\n",
       "      <td>89988.714749</td>\n",
       "      <td>90281.264433</td>\n",
       "    </tr>\n",
       "    <tr>\n",
       "      <th>25</th>\n",
       "      <td>2011-02-23</td>\n",
       "      <td>55070</td>\n",
       "      <td>57696.435793</td>\n",
       "      <td>58731.084424</td>\n",
       "    </tr>\n",
       "    <tr>\n",
       "      <th>896</th>\n",
       "      <td>2013-07-13</td>\n",
       "      <td>122543</td>\n",
       "      <td>120680.400734</td>\n",
       "      <td>119685.617208</td>\n",
       "    </tr>\n",
       "    <tr>\n",
       "      <th>252</th>\n",
       "      <td>2011-10-08</td>\n",
       "      <td>92848</td>\n",
       "      <td>93931.088591</td>\n",
       "      <td>93572.628776</td>\n",
       "    </tr>\n",
       "    <tr>\n",
       "      <th>818</th>\n",
       "      <td>2013-04-26</td>\n",
       "      <td>87257</td>\n",
       "      <td>97514.776894</td>\n",
       "      <td>94663.075257</td>\n",
       "    </tr>\n",
       "    <tr>\n",
       "      <th>1025</th>\n",
       "      <td>2013-11-19</td>\n",
       "      <td>78798</td>\n",
       "      <td>84226.494204</td>\n",
       "      <td>85724.220825</td>\n",
       "    </tr>\n",
       "    <tr>\n",
       "      <th>389</th>\n",
       "      <td>2012-02-22</td>\n",
       "      <td>67501</td>\n",
       "      <td>75946.647498</td>\n",
       "      <td>78910.986994</td>\n",
       "    </tr>\n",
       "  </tbody>\n",
       "</table>\n",
       "</div>"
      ],
      "text/plain": [
       "             ds       y      prop_pred  prop_hol_pred\n",
       "422  2012-03-26   76432   82533.628412   81952.331022\n",
       "892  2013-07-09   99078   91339.082073   96725.526423\n",
       "490  2012-06-02  117199  108726.891295  108587.138320\n",
       "759  2013-02-26   76897   89988.714749   90281.264433\n",
       "25   2011-02-23   55070   57696.435793   58731.084424\n",
       "896  2013-07-13  122543  120680.400734  119685.617208\n",
       "252  2011-10-08   92848   93931.088591   93572.628776\n",
       "818  2013-04-26   87257   97514.776894   94663.075257\n",
       "1025 2013-11-19   78798   84226.494204   85724.220825\n",
       "389  2012-02-22   67501   75946.647498   78910.986994"
      ]
     },
     "execution_count": 30,
     "metadata": {},
     "output_type": "execute_result"
    }
   ],
   "source": [
    "df_train_grouped.sample(10)"
   ]
  },
  {
   "cell_type": "code",
   "execution_count": 31,
   "id": "af3a4762-55a3-4f81-8c4f-3a1fff7ab245",
   "metadata": {
    "tags": []
   },
   "outputs": [
    {
     "data": {
      "text/html": [
       "<div>\n",
       "<style scoped>\n",
       "    .dataframe tbody tr th:only-of-type {\n",
       "        vertical-align: middle;\n",
       "    }\n",
       "\n",
       "    .dataframe tbody tr th {\n",
       "        vertical-align: top;\n",
       "    }\n",
       "\n",
       "    .dataframe thead th {\n",
       "        text-align: right;\n",
       "    }\n",
       "</style>\n",
       "<table border=\"1\" class=\"dataframe\">\n",
       "  <thead>\n",
       "    <tr style=\"text-align: right;\">\n",
       "      <th></th>\n",
       "      <th>ds</th>\n",
       "      <th>y</th>\n",
       "      <th>prop_pred</th>\n",
       "      <th>prop_hol_pred</th>\n",
       "    </tr>\n",
       "  </thead>\n",
       "  <tbody>\n",
       "    <tr>\n",
       "      <th>434</th>\n",
       "      <td>2015-03-14</td>\n",
       "      <td>137480</td>\n",
       "      <td>129469.339212</td>\n",
       "      <td>127272.860229</td>\n",
       "    </tr>\n",
       "    <tr>\n",
       "      <th>285</th>\n",
       "      <td>2014-10-16</td>\n",
       "      <td>92675</td>\n",
       "      <td>94406.001226</td>\n",
       "      <td>93533.906572</td>\n",
       "    </tr>\n",
       "    <tr>\n",
       "      <th>36</th>\n",
       "      <td>2014-02-09</td>\n",
       "      <td>137581</td>\n",
       "      <td>124218.610817</td>\n",
       "      <td>124489.808654</td>\n",
       "    </tr>\n",
       "    <tr>\n",
       "      <th>144</th>\n",
       "      <td>2014-05-28</td>\n",
       "      <td>81881</td>\n",
       "      <td>92358.643103</td>\n",
       "      <td>92380.825065</td>\n",
       "    </tr>\n",
       "    <tr>\n",
       "      <th>438</th>\n",
       "      <td>2015-03-18</td>\n",
       "      <td>93405</td>\n",
       "      <td>98968.093200</td>\n",
       "      <td>98005.591485</td>\n",
       "    </tr>\n",
       "    <tr>\n",
       "      <th>230</th>\n",
       "      <td>2014-08-22</td>\n",
       "      <td>104528</td>\n",
       "      <td>110565.634941</td>\n",
       "      <td>108317.019134</td>\n",
       "    </tr>\n",
       "    <tr>\n",
       "      <th>354</th>\n",
       "      <td>2014-12-24</td>\n",
       "      <td>90657</td>\n",
       "      <td>89697.317891</td>\n",
       "      <td>97423.655055</td>\n",
       "    </tr>\n",
       "    <tr>\n",
       "      <th>77</th>\n",
       "      <td>2014-03-22</td>\n",
       "      <td>117496</td>\n",
       "      <td>123230.823805</td>\n",
       "      <td>122439.269866</td>\n",
       "    </tr>\n",
       "    <tr>\n",
       "      <th>208</th>\n",
       "      <td>2014-07-31</td>\n",
       "      <td>89807</td>\n",
       "      <td>95249.421819</td>\n",
       "      <td>94878.622061</td>\n",
       "    </tr>\n",
       "    <tr>\n",
       "      <th>421</th>\n",
       "      <td>2015-03-01</td>\n",
       "      <td>148438</td>\n",
       "      <td>131797.993597</td>\n",
       "      <td>129604.667974</td>\n",
       "    </tr>\n",
       "  </tbody>\n",
       "</table>\n",
       "</div>"
      ],
      "text/plain": [
       "            ds       y      prop_pred  prop_hol_pred\n",
       "434 2015-03-14  137480  129469.339212  127272.860229\n",
       "285 2014-10-16   92675   94406.001226   93533.906572\n",
       "36  2014-02-09  137581  124218.610817  124489.808654\n",
       "144 2014-05-28   81881   92358.643103   92380.825065\n",
       "438 2015-03-18   93405   98968.093200   98005.591485\n",
       "230 2014-08-22  104528  110565.634941  108317.019134\n",
       "354 2014-12-24   90657   89697.317891   97423.655055\n",
       "77  2014-03-22  117496  123230.823805  122439.269866\n",
       "208 2014-07-31   89807   95249.421819   94878.622061\n",
       "421 2015-03-01  148438  131797.993597  129604.667974"
      ]
     },
     "execution_count": 31,
     "metadata": {},
     "output_type": "execute_result"
    }
   ],
   "source": [
    "df_validation_grouped.sample(10)"
   ]
  },
  {
   "cell_type": "code",
   "execution_count": 35,
   "id": "419fcf46-ba94-41e1-99b1-25e9c06a40ac",
   "metadata": {},
   "outputs": [],
   "source": [
    "df_test_grouped['prop_hol_pred'] = prop_hol.predict(df_test_grouped[['ds']])['yhat']"
   ]
  },
  {
   "cell_type": "code",
   "execution_count": 33,
   "id": "3e4a81e4-4980-4127-884b-4d29fca4f538",
   "metadata": {},
   "outputs": [
    {
     "data": {
      "text/html": [
       "<div>\n",
       "<style scoped>\n",
       "    .dataframe tbody tr th:only-of-type {\n",
       "        vertical-align: middle;\n",
       "    }\n",
       "\n",
       "    .dataframe tbody tr th {\n",
       "        vertical-align: top;\n",
       "    }\n",
       "\n",
       "    .dataframe thead th {\n",
       "        text-align: right;\n",
       "    }\n",
       "</style>\n",
       "<table border=\"1\" class=\"dataframe\">\n",
       "  <thead>\n",
       "    <tr style=\"text-align: right;\">\n",
       "      <th></th>\n",
       "      <th>ds</th>\n",
       "      <th>y</th>\n",
       "      <th>prop_hol_pred</th>\n",
       "    </tr>\n",
       "  </thead>\n",
       "  <tbody>\n",
       "    <tr>\n",
       "      <th>131</th>\n",
       "      <td>2015-08-28</td>\n",
       "      <td>106949</td>\n",
       "      <td>90963.677599</td>\n",
       "    </tr>\n",
       "    <tr>\n",
       "      <th>129</th>\n",
       "      <td>2015-08-26</td>\n",
       "      <td>96770</td>\n",
       "      <td>91406.664486</td>\n",
       "    </tr>\n",
       "    <tr>\n",
       "      <th>283</th>\n",
       "      <td>2016-01-27</td>\n",
       "      <td>99298</td>\n",
       "      <td>94509.215184</td>\n",
       "    </tr>\n",
       "    <tr>\n",
       "      <th>25</th>\n",
       "      <td>2015-05-14</td>\n",
       "      <td>102147</td>\n",
       "      <td>89788.777461</td>\n",
       "    </tr>\n",
       "    <tr>\n",
       "      <th>182</th>\n",
       "      <td>2015-10-18</td>\n",
       "      <td>155720</td>\n",
       "      <td>125605.908706</td>\n",
       "    </tr>\n",
       "    <tr>\n",
       "      <th>53</th>\n",
       "      <td>2015-06-11</td>\n",
       "      <td>106235</td>\n",
       "      <td>95131.766644</td>\n",
       "    </tr>\n",
       "    <tr>\n",
       "      <th>368</th>\n",
       "      <td>2016-04-21</td>\n",
       "      <td>110410</td>\n",
       "      <td>95265.116381</td>\n",
       "    </tr>\n",
       "    <tr>\n",
       "      <th>78</th>\n",
       "      <td>2015-07-06</td>\n",
       "      <td>124382</td>\n",
       "      <td>122931.194501</td>\n",
       "    </tr>\n",
       "    <tr>\n",
       "      <th>274</th>\n",
       "      <td>2016-01-18</td>\n",
       "      <td>121003</td>\n",
       "      <td>125785.468905</td>\n",
       "    </tr>\n",
       "    <tr>\n",
       "      <th>142</th>\n",
       "      <td>2015-09-08</td>\n",
       "      <td>107219</td>\n",
       "      <td>103324.037388</td>\n",
       "    </tr>\n",
       "  </tbody>\n",
       "</table>\n",
       "</div>"
      ],
      "text/plain": [
       "            ds       y  prop_hol_pred\n",
       "131 2015-08-28  106949   90963.677599\n",
       "129 2015-08-26   96770   91406.664486\n",
       "283 2016-01-27   99298   94509.215184\n",
       "25  2015-05-14  102147   89788.777461\n",
       "182 2015-10-18  155720  125605.908706\n",
       "53  2015-06-11  106235   95131.766644\n",
       "368 2016-04-21  110410   95265.116381\n",
       "78  2015-07-06  124382  122931.194501\n",
       "274 2016-01-18  121003  125785.468905\n",
       "142 2015-09-08  107219  103324.037388"
      ]
     },
     "execution_count": 33,
     "metadata": {},
     "output_type": "execute_result"
    }
   ],
   "source": [
    "df_test_grouped.sample(10)"
   ]
  },
  {
   "cell_type": "markdown",
   "id": "ff7e4e59-cba2-4312-91c5-cb22c928bfe6",
   "metadata": {},
   "source": [
    "**Conclusion:** The model seems to be performing much better than the baseline model and could be deployed in production. However, we will be working on reducing the overfitting of the model."
   ]
  }
 ],
 "metadata": {
  "kernelspec": {
   "display_name": "Python 3 (ipykernel)",
   "language": "python",
   "name": "python3"
  },
  "language_info": {
   "codemirror_mode": {
    "name": "ipython",
    "version": 3
   },
   "file_extension": ".py",
   "mimetype": "text/x-python",
   "name": "python",
   "nbconvert_exporter": "python",
   "pygments_lexer": "ipython3",
   "version": "3.11.4"
  }
 },
 "nbformat": 4,
 "nbformat_minor": 5
}
