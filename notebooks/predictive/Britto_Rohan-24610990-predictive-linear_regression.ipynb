{
 "cells": [
  {
   "cell_type": "markdown",
   "id": "24a47996-08f4-4f0a-8ec4-544cc004ab0c",
   "metadata": {},
   "source": [
    "# Advanced Machine Learning Application - Assignment 2\n",
    "### Rohan Rocky Britto - Student ID: 24610990"
   ]
  },
  {
   "cell_type": "markdown",
   "id": "f1d81430-6b6f-411d-a9ea-15c04f4d7104",
   "metadata": {},
   "source": [
    "## Data Import and Preparation"
   ]
  },
  {
   "cell_type": "markdown",
   "id": "46140911-f255-4730-9836-7259fe9400f6",
   "metadata": {
    "tags": []
   },
   "source": [
    "Import required packages"
   ]
  },
  {
   "cell_type": "code",
   "execution_count": 1,
   "id": "ca66777b-5f1a-454a-bb89-539a318be258",
   "metadata": {
    "tags": []
   },
   "outputs": [],
   "source": [
    "import pandas as pd\n",
    "import numpy as np"
   ]
  },
  {
   "cell_type": "markdown",
   "id": "45984a25-9a6c-464e-8e95-f60b808f1372",
   "metadata": {},
   "source": [
    "Reading csv files into dataframe"
   ]
  },
  {
   "cell_type": "code",
   "execution_count": 2,
   "id": "501553f1-ff78-4347-b6de-b3ffc3d4d2fd",
   "metadata": {
    "tags": []
   },
   "outputs": [],
   "source": [
    "df_train = pd.read_csv('../../data/raw/sales_train.csv')\n",
    "df_test = pd.read_csv('../../data/raw/sales_test.csv')\n",
    "df_calendar = pd.read_csv('../../data/raw/calendar.csv')\n",
    "df_events = pd.read_csv('../../data/raw/calendar_events.csv')\n",
    "df_sell_prices = pd.read_csv('../../data/raw/items_weekly_sell_prices.csv')"
   ]
  },
  {
   "cell_type": "markdown",
   "id": "42b5f9e3-4f91-4a44-af57-a29c41143053",
   "metadata": {},
   "source": [
    "Let us jave a quick look at the data"
   ]
  },
  {
   "cell_type": "code",
   "execution_count": 3,
   "id": "a4e4a07c-4723-4461-ad8b-09ca4ee250c2",
   "metadata": {
    "tags": []
   },
   "outputs": [
    {
     "data": {
      "text/html": [
       "<div>\n",
       "<style scoped>\n",
       "    .dataframe tbody tr th:only-of-type {\n",
       "        vertical-align: middle;\n",
       "    }\n",
       "\n",
       "    .dataframe tbody tr th {\n",
       "        vertical-align: top;\n",
       "    }\n",
       "\n",
       "    .dataframe thead th {\n",
       "        text-align: right;\n",
       "    }\n",
       "</style>\n",
       "<table border=\"1\" class=\"dataframe\">\n",
       "  <thead>\n",
       "    <tr style=\"text-align: right;\">\n",
       "      <th></th>\n",
       "      <th>id</th>\n",
       "      <th>item_id</th>\n",
       "      <th>dept_id</th>\n",
       "      <th>cat_id</th>\n",
       "      <th>store_id</th>\n",
       "      <th>state_id</th>\n",
       "      <th>d_1</th>\n",
       "      <th>d_2</th>\n",
       "      <th>d_3</th>\n",
       "      <th>d_4</th>\n",
       "      <th>...</th>\n",
       "      <th>d_1532</th>\n",
       "      <th>d_1533</th>\n",
       "      <th>d_1534</th>\n",
       "      <th>d_1535</th>\n",
       "      <th>d_1536</th>\n",
       "      <th>d_1537</th>\n",
       "      <th>d_1538</th>\n",
       "      <th>d_1539</th>\n",
       "      <th>d_1540</th>\n",
       "      <th>d_1541</th>\n",
       "    </tr>\n",
       "  </thead>\n",
       "  <tbody>\n",
       "    <tr>\n",
       "      <th>0</th>\n",
       "      <td>HOBBIES_1_001_CA_1_evaluation</td>\n",
       "      <td>HOBBIES_1_001</td>\n",
       "      <td>HOBBIES_1</td>\n",
       "      <td>HOBBIES</td>\n",
       "      <td>CA_1</td>\n",
       "      <td>CA</td>\n",
       "      <td>0</td>\n",
       "      <td>0</td>\n",
       "      <td>0</td>\n",
       "      <td>0</td>\n",
       "      <td>...</td>\n",
       "      <td>1</td>\n",
       "      <td>1</td>\n",
       "      <td>1</td>\n",
       "      <td>0</td>\n",
       "      <td>1</td>\n",
       "      <td>0</td>\n",
       "      <td>1</td>\n",
       "      <td>0</td>\n",
       "      <td>0</td>\n",
       "      <td>1</td>\n",
       "    </tr>\n",
       "    <tr>\n",
       "      <th>1</th>\n",
       "      <td>HOBBIES_1_002_CA_1_evaluation</td>\n",
       "      <td>HOBBIES_1_002</td>\n",
       "      <td>HOBBIES_1</td>\n",
       "      <td>HOBBIES</td>\n",
       "      <td>CA_1</td>\n",
       "      <td>CA</td>\n",
       "      <td>0</td>\n",
       "      <td>0</td>\n",
       "      <td>0</td>\n",
       "      <td>0</td>\n",
       "      <td>...</td>\n",
       "      <td>0</td>\n",
       "      <td>0</td>\n",
       "      <td>0</td>\n",
       "      <td>0</td>\n",
       "      <td>0</td>\n",
       "      <td>0</td>\n",
       "      <td>0</td>\n",
       "      <td>0</td>\n",
       "      <td>1</td>\n",
       "      <td>0</td>\n",
       "    </tr>\n",
       "    <tr>\n",
       "      <th>2</th>\n",
       "      <td>HOBBIES_1_003_CA_1_evaluation</td>\n",
       "      <td>HOBBIES_1_003</td>\n",
       "      <td>HOBBIES_1</td>\n",
       "      <td>HOBBIES</td>\n",
       "      <td>CA_1</td>\n",
       "      <td>CA</td>\n",
       "      <td>0</td>\n",
       "      <td>0</td>\n",
       "      <td>0</td>\n",
       "      <td>0</td>\n",
       "      <td>...</td>\n",
       "      <td>0</td>\n",
       "      <td>0</td>\n",
       "      <td>1</td>\n",
       "      <td>0</td>\n",
       "      <td>0</td>\n",
       "      <td>0</td>\n",
       "      <td>0</td>\n",
       "      <td>0</td>\n",
       "      <td>0</td>\n",
       "      <td>0</td>\n",
       "    </tr>\n",
       "    <tr>\n",
       "      <th>3</th>\n",
       "      <td>HOBBIES_1_004_CA_1_evaluation</td>\n",
       "      <td>HOBBIES_1_004</td>\n",
       "      <td>HOBBIES_1</td>\n",
       "      <td>HOBBIES</td>\n",
       "      <td>CA_1</td>\n",
       "      <td>CA</td>\n",
       "      <td>0</td>\n",
       "      <td>0</td>\n",
       "      <td>0</td>\n",
       "      <td>0</td>\n",
       "      <td>...</td>\n",
       "      <td>8</td>\n",
       "      <td>2</td>\n",
       "      <td>0</td>\n",
       "      <td>8</td>\n",
       "      <td>2</td>\n",
       "      <td>3</td>\n",
       "      <td>1</td>\n",
       "      <td>1</td>\n",
       "      <td>3</td>\n",
       "      <td>8</td>\n",
       "    </tr>\n",
       "    <tr>\n",
       "      <th>4</th>\n",
       "      <td>HOBBIES_1_005_CA_1_evaluation</td>\n",
       "      <td>HOBBIES_1_005</td>\n",
       "      <td>HOBBIES_1</td>\n",
       "      <td>HOBBIES</td>\n",
       "      <td>CA_1</td>\n",
       "      <td>CA</td>\n",
       "      <td>0</td>\n",
       "      <td>0</td>\n",
       "      <td>0</td>\n",
       "      <td>0</td>\n",
       "      <td>...</td>\n",
       "      <td>2</td>\n",
       "      <td>0</td>\n",
       "      <td>1</td>\n",
       "      <td>3</td>\n",
       "      <td>2</td>\n",
       "      <td>1</td>\n",
       "      <td>1</td>\n",
       "      <td>2</td>\n",
       "      <td>2</td>\n",
       "      <td>3</td>\n",
       "    </tr>\n",
       "  </tbody>\n",
       "</table>\n",
       "<p>5 rows × 1547 columns</p>\n",
       "</div>"
      ],
      "text/plain": [
       "                              id        item_id    dept_id   cat_id store_id   \n",
       "0  HOBBIES_1_001_CA_1_evaluation  HOBBIES_1_001  HOBBIES_1  HOBBIES     CA_1  \\\n",
       "1  HOBBIES_1_002_CA_1_evaluation  HOBBIES_1_002  HOBBIES_1  HOBBIES     CA_1   \n",
       "2  HOBBIES_1_003_CA_1_evaluation  HOBBIES_1_003  HOBBIES_1  HOBBIES     CA_1   \n",
       "3  HOBBIES_1_004_CA_1_evaluation  HOBBIES_1_004  HOBBIES_1  HOBBIES     CA_1   \n",
       "4  HOBBIES_1_005_CA_1_evaluation  HOBBIES_1_005  HOBBIES_1  HOBBIES     CA_1   \n",
       "\n",
       "  state_id  d_1  d_2  d_3  d_4  ...  d_1532  d_1533  d_1534  d_1535  d_1536   \n",
       "0       CA    0    0    0    0  ...       1       1       1       0       1  \\\n",
       "1       CA    0    0    0    0  ...       0       0       0       0       0   \n",
       "2       CA    0    0    0    0  ...       0       0       1       0       0   \n",
       "3       CA    0    0    0    0  ...       8       2       0       8       2   \n",
       "4       CA    0    0    0    0  ...       2       0       1       3       2   \n",
       "\n",
       "   d_1537  d_1538  d_1539  d_1540  d_1541  \n",
       "0       0       1       0       0       1  \n",
       "1       0       0       0       1       0  \n",
       "2       0       0       0       0       0  \n",
       "3       3       1       1       3       8  \n",
       "4       1       1       2       2       3  \n",
       "\n",
       "[5 rows x 1547 columns]"
      ]
     },
     "execution_count": 3,
     "metadata": {},
     "output_type": "execute_result"
    }
   ],
   "source": [
    "df_train.head()"
   ]
  },
  {
   "cell_type": "code",
   "execution_count": 4,
   "id": "fb84ba1a-2a16-458b-8a26-afdcba9316f4",
   "metadata": {
    "tags": []
   },
   "outputs": [
    {
     "data": {
      "text/html": [
       "<div>\n",
       "<style scoped>\n",
       "    .dataframe tbody tr th:only-of-type {\n",
       "        vertical-align: middle;\n",
       "    }\n",
       "\n",
       "    .dataframe tbody tr th {\n",
       "        vertical-align: top;\n",
       "    }\n",
       "\n",
       "    .dataframe thead th {\n",
       "        text-align: right;\n",
       "    }\n",
       "</style>\n",
       "<table border=\"1\" class=\"dataframe\">\n",
       "  <thead>\n",
       "    <tr style=\"text-align: right;\">\n",
       "      <th></th>\n",
       "      <th>d_1542</th>\n",
       "      <th>d_1543</th>\n",
       "      <th>d_1544</th>\n",
       "      <th>d_1545</th>\n",
       "      <th>d_1546</th>\n",
       "      <th>d_1547</th>\n",
       "      <th>d_1548</th>\n",
       "      <th>d_1549</th>\n",
       "      <th>d_1550</th>\n",
       "      <th>d_1551</th>\n",
       "      <th>...</th>\n",
       "      <th>d_1932</th>\n",
       "      <th>d_1933</th>\n",
       "      <th>d_1934</th>\n",
       "      <th>d_1935</th>\n",
       "      <th>d_1936</th>\n",
       "      <th>d_1937</th>\n",
       "      <th>d_1938</th>\n",
       "      <th>d_1939</th>\n",
       "      <th>d_1940</th>\n",
       "      <th>d_1941</th>\n",
       "    </tr>\n",
       "  </thead>\n",
       "  <tbody>\n",
       "    <tr>\n",
       "      <th>0</th>\n",
       "      <td>0</td>\n",
       "      <td>1</td>\n",
       "      <td>0</td>\n",
       "      <td>2</td>\n",
       "      <td>1</td>\n",
       "      <td>0</td>\n",
       "      <td>2</td>\n",
       "      <td>0</td>\n",
       "      <td>1</td>\n",
       "      <td>0</td>\n",
       "      <td>...</td>\n",
       "      <td>2</td>\n",
       "      <td>4</td>\n",
       "      <td>0</td>\n",
       "      <td>0</td>\n",
       "      <td>0</td>\n",
       "      <td>0</td>\n",
       "      <td>3</td>\n",
       "      <td>3</td>\n",
       "      <td>0</td>\n",
       "      <td>1</td>\n",
       "    </tr>\n",
       "    <tr>\n",
       "      <th>1</th>\n",
       "      <td>0</td>\n",
       "      <td>0</td>\n",
       "      <td>0</td>\n",
       "      <td>0</td>\n",
       "      <td>0</td>\n",
       "      <td>0</td>\n",
       "      <td>0</td>\n",
       "      <td>0</td>\n",
       "      <td>1</td>\n",
       "      <td>0</td>\n",
       "      <td>...</td>\n",
       "      <td>0</td>\n",
       "      <td>1</td>\n",
       "      <td>2</td>\n",
       "      <td>1</td>\n",
       "      <td>1</td>\n",
       "      <td>0</td>\n",
       "      <td>0</td>\n",
       "      <td>0</td>\n",
       "      <td>0</td>\n",
       "      <td>0</td>\n",
       "    </tr>\n",
       "    <tr>\n",
       "      <th>2</th>\n",
       "      <td>0</td>\n",
       "      <td>0</td>\n",
       "      <td>0</td>\n",
       "      <td>0</td>\n",
       "      <td>0</td>\n",
       "      <td>1</td>\n",
       "      <td>0</td>\n",
       "      <td>0</td>\n",
       "      <td>0</td>\n",
       "      <td>0</td>\n",
       "      <td>...</td>\n",
       "      <td>1</td>\n",
       "      <td>0</td>\n",
       "      <td>2</td>\n",
       "      <td>0</td>\n",
       "      <td>0</td>\n",
       "      <td>0</td>\n",
       "      <td>2</td>\n",
       "      <td>3</td>\n",
       "      <td>0</td>\n",
       "      <td>1</td>\n",
       "    </tr>\n",
       "    <tr>\n",
       "      <th>3</th>\n",
       "      <td>4</td>\n",
       "      <td>1</td>\n",
       "      <td>0</td>\n",
       "      <td>1</td>\n",
       "      <td>3</td>\n",
       "      <td>5</td>\n",
       "      <td>2</td>\n",
       "      <td>3</td>\n",
       "      <td>0</td>\n",
       "      <td>2</td>\n",
       "      <td>...</td>\n",
       "      <td>1</td>\n",
       "      <td>1</td>\n",
       "      <td>0</td>\n",
       "      <td>4</td>\n",
       "      <td>0</td>\n",
       "      <td>1</td>\n",
       "      <td>3</td>\n",
       "      <td>0</td>\n",
       "      <td>2</td>\n",
       "      <td>6</td>\n",
       "    </tr>\n",
       "    <tr>\n",
       "      <th>4</th>\n",
       "      <td>3</td>\n",
       "      <td>0</td>\n",
       "      <td>0</td>\n",
       "      <td>1</td>\n",
       "      <td>1</td>\n",
       "      <td>0</td>\n",
       "      <td>2</td>\n",
       "      <td>0</td>\n",
       "      <td>2</td>\n",
       "      <td>1</td>\n",
       "      <td>...</td>\n",
       "      <td>0</td>\n",
       "      <td>0</td>\n",
       "      <td>0</td>\n",
       "      <td>2</td>\n",
       "      <td>1</td>\n",
       "      <td>0</td>\n",
       "      <td>0</td>\n",
       "      <td>2</td>\n",
       "      <td>1</td>\n",
       "      <td>0</td>\n",
       "    </tr>\n",
       "  </tbody>\n",
       "</table>\n",
       "<p>5 rows × 400 columns</p>\n",
       "</div>"
      ],
      "text/plain": [
       "   d_1542  d_1543  d_1544  d_1545  d_1546  d_1547  d_1548  d_1549  d_1550   \n",
       "0       0       1       0       2       1       0       2       0       1  \\\n",
       "1       0       0       0       0       0       0       0       0       1   \n",
       "2       0       0       0       0       0       1       0       0       0   \n",
       "3       4       1       0       1       3       5       2       3       0   \n",
       "4       3       0       0       1       1       0       2       0       2   \n",
       "\n",
       "   d_1551  ...  d_1932  d_1933  d_1934  d_1935  d_1936  d_1937  d_1938   \n",
       "0       0  ...       2       4       0       0       0       0       3  \\\n",
       "1       0  ...       0       1       2       1       1       0       0   \n",
       "2       0  ...       1       0       2       0       0       0       2   \n",
       "3       2  ...       1       1       0       4       0       1       3   \n",
       "4       1  ...       0       0       0       2       1       0       0   \n",
       "\n",
       "   d_1939  d_1940  d_1941  \n",
       "0       3       0       1  \n",
       "1       0       0       0  \n",
       "2       3       0       1  \n",
       "3       0       2       6  \n",
       "4       2       1       0  \n",
       "\n",
       "[5 rows x 400 columns]"
      ]
     },
     "execution_count": 4,
     "metadata": {},
     "output_type": "execute_result"
    }
   ],
   "source": [
    "df_test.head()"
   ]
  },
  {
   "cell_type": "code",
   "execution_count": 5,
   "id": "01d36b08-cf34-4273-aff9-a043a640ef02",
   "metadata": {
    "tags": []
   },
   "outputs": [
    {
     "data": {
      "text/html": [
       "<div>\n",
       "<style scoped>\n",
       "    .dataframe tbody tr th:only-of-type {\n",
       "        vertical-align: middle;\n",
       "    }\n",
       "\n",
       "    .dataframe tbody tr th {\n",
       "        vertical-align: top;\n",
       "    }\n",
       "\n",
       "    .dataframe thead th {\n",
       "        text-align: right;\n",
       "    }\n",
       "</style>\n",
       "<table border=\"1\" class=\"dataframe\">\n",
       "  <thead>\n",
       "    <tr style=\"text-align: right;\">\n",
       "      <th></th>\n",
       "      <th>date</th>\n",
       "      <th>wm_yr_wk</th>\n",
       "      <th>d</th>\n",
       "    </tr>\n",
       "  </thead>\n",
       "  <tbody>\n",
       "    <tr>\n",
       "      <th>0</th>\n",
       "      <td>2011-01-29</td>\n",
       "      <td>11101</td>\n",
       "      <td>d_1</td>\n",
       "    </tr>\n",
       "    <tr>\n",
       "      <th>1</th>\n",
       "      <td>2011-01-30</td>\n",
       "      <td>11101</td>\n",
       "      <td>d_2</td>\n",
       "    </tr>\n",
       "    <tr>\n",
       "      <th>2</th>\n",
       "      <td>2011-01-31</td>\n",
       "      <td>11101</td>\n",
       "      <td>d_3</td>\n",
       "    </tr>\n",
       "    <tr>\n",
       "      <th>3</th>\n",
       "      <td>2011-02-01</td>\n",
       "      <td>11101</td>\n",
       "      <td>d_4</td>\n",
       "    </tr>\n",
       "    <tr>\n",
       "      <th>4</th>\n",
       "      <td>2011-02-02</td>\n",
       "      <td>11101</td>\n",
       "      <td>d_5</td>\n",
       "    </tr>\n",
       "  </tbody>\n",
       "</table>\n",
       "</div>"
      ],
      "text/plain": [
       "         date  wm_yr_wk    d\n",
       "0  2011-01-29     11101  d_1\n",
       "1  2011-01-30     11101  d_2\n",
       "2  2011-01-31     11101  d_3\n",
       "3  2011-02-01     11101  d_4\n",
       "4  2011-02-02     11101  d_5"
      ]
     },
     "execution_count": 5,
     "metadata": {},
     "output_type": "execute_result"
    }
   ],
   "source": [
    "df_calendar.head()"
   ]
  },
  {
   "cell_type": "code",
   "execution_count": 6,
   "id": "6d2f39a9-f68a-44b1-80c7-b06d62b156fb",
   "metadata": {
    "tags": []
   },
   "outputs": [
    {
     "data": {
      "text/html": [
       "<div>\n",
       "<style scoped>\n",
       "    .dataframe tbody tr th:only-of-type {\n",
       "        vertical-align: middle;\n",
       "    }\n",
       "\n",
       "    .dataframe tbody tr th {\n",
       "        vertical-align: top;\n",
       "    }\n",
       "\n",
       "    .dataframe thead th {\n",
       "        text-align: right;\n",
       "    }\n",
       "</style>\n",
       "<table border=\"1\" class=\"dataframe\">\n",
       "  <thead>\n",
       "    <tr style=\"text-align: right;\">\n",
       "      <th></th>\n",
       "      <th>date</th>\n",
       "      <th>event_name</th>\n",
       "      <th>event_type</th>\n",
       "    </tr>\n",
       "  </thead>\n",
       "  <tbody>\n",
       "    <tr>\n",
       "      <th>0</th>\n",
       "      <td>2011-02-06</td>\n",
       "      <td>SuperBowl</td>\n",
       "      <td>Sporting</td>\n",
       "    </tr>\n",
       "    <tr>\n",
       "      <th>1</th>\n",
       "      <td>2011-02-14</td>\n",
       "      <td>ValentinesDay</td>\n",
       "      <td>Cultural</td>\n",
       "    </tr>\n",
       "    <tr>\n",
       "      <th>2</th>\n",
       "      <td>2011-02-21</td>\n",
       "      <td>PresidentsDay</td>\n",
       "      <td>National</td>\n",
       "    </tr>\n",
       "    <tr>\n",
       "      <th>3</th>\n",
       "      <td>2011-03-09</td>\n",
       "      <td>LentStart</td>\n",
       "      <td>Religious</td>\n",
       "    </tr>\n",
       "    <tr>\n",
       "      <th>4</th>\n",
       "      <td>2011-03-16</td>\n",
       "      <td>LentWeek2</td>\n",
       "      <td>Religious</td>\n",
       "    </tr>\n",
       "  </tbody>\n",
       "</table>\n",
       "</div>"
      ],
      "text/plain": [
       "         date     event_name event_type\n",
       "0  2011-02-06      SuperBowl   Sporting\n",
       "1  2011-02-14  ValentinesDay   Cultural\n",
       "2  2011-02-21  PresidentsDay   National\n",
       "3  2011-03-09      LentStart  Religious\n",
       "4  2011-03-16      LentWeek2  Religious"
      ]
     },
     "execution_count": 6,
     "metadata": {},
     "output_type": "execute_result"
    }
   ],
   "source": [
    "df_events.head()"
   ]
  },
  {
   "cell_type": "code",
   "execution_count": 7,
   "id": "28851e1e-7ed2-47f7-8182-1037f5b89b15",
   "metadata": {
    "tags": []
   },
   "outputs": [
    {
     "data": {
      "text/html": [
       "<div>\n",
       "<style scoped>\n",
       "    .dataframe tbody tr th:only-of-type {\n",
       "        vertical-align: middle;\n",
       "    }\n",
       "\n",
       "    .dataframe tbody tr th {\n",
       "        vertical-align: top;\n",
       "    }\n",
       "\n",
       "    .dataframe thead th {\n",
       "        text-align: right;\n",
       "    }\n",
       "</style>\n",
       "<table border=\"1\" class=\"dataframe\">\n",
       "  <thead>\n",
       "    <tr style=\"text-align: right;\">\n",
       "      <th></th>\n",
       "      <th>store_id</th>\n",
       "      <th>item_id</th>\n",
       "      <th>wm_yr_wk</th>\n",
       "      <th>sell_price</th>\n",
       "    </tr>\n",
       "  </thead>\n",
       "  <tbody>\n",
       "    <tr>\n",
       "      <th>0</th>\n",
       "      <td>CA_1</td>\n",
       "      <td>HOBBIES_1_001</td>\n",
       "      <td>11325</td>\n",
       "      <td>9.58</td>\n",
       "    </tr>\n",
       "    <tr>\n",
       "      <th>1</th>\n",
       "      <td>CA_1</td>\n",
       "      <td>HOBBIES_1_001</td>\n",
       "      <td>11326</td>\n",
       "      <td>9.58</td>\n",
       "    </tr>\n",
       "    <tr>\n",
       "      <th>2</th>\n",
       "      <td>CA_1</td>\n",
       "      <td>HOBBIES_1_001</td>\n",
       "      <td>11327</td>\n",
       "      <td>8.26</td>\n",
       "    </tr>\n",
       "    <tr>\n",
       "      <th>3</th>\n",
       "      <td>CA_1</td>\n",
       "      <td>HOBBIES_1_001</td>\n",
       "      <td>11328</td>\n",
       "      <td>8.26</td>\n",
       "    </tr>\n",
       "    <tr>\n",
       "      <th>4</th>\n",
       "      <td>CA_1</td>\n",
       "      <td>HOBBIES_1_001</td>\n",
       "      <td>11329</td>\n",
       "      <td>8.26</td>\n",
       "    </tr>\n",
       "  </tbody>\n",
       "</table>\n",
       "</div>"
      ],
      "text/plain": [
       "  store_id        item_id  wm_yr_wk  sell_price\n",
       "0     CA_1  HOBBIES_1_001     11325        9.58\n",
       "1     CA_1  HOBBIES_1_001     11326        9.58\n",
       "2     CA_1  HOBBIES_1_001     11327        8.26\n",
       "3     CA_1  HOBBIES_1_001     11328        8.26\n",
       "4     CA_1  HOBBIES_1_001     11329        8.26"
      ]
     },
     "execution_count": 7,
     "metadata": {},
     "output_type": "execute_result"
    }
   ],
   "source": [
    "df_sell_prices.head()"
   ]
  },
  {
   "cell_type": "markdown",
   "id": "6554efc9-9e55-471a-bcb3-b261f7bb24fb",
   "metadata": {
    "tags": []
   },
   "source": [
    "Test file has only date fields. The other fields need to be fetched from train csv, hence, I have concatenated them"
   ]
  },
  {
   "cell_type": "code",
   "execution_count": 8,
   "id": "722e1f92-bcd1-47c6-9781-c93cc5e9c0ea",
   "metadata": {
    "tags": []
   },
   "outputs": [],
   "source": [
    "df_test = pd.concat([df_train[['id', 'item_id', 'dept_id', 'cat_id', 'store_id', 'state_id']], df_test], axis=1)"
   ]
  },
  {
   "cell_type": "markdown",
   "id": "65be8a5d-1652-4859-a64c-3f0156158a72",
   "metadata": {
    "tags": []
   },
   "source": [
    "The dates are stored in columns which leads to different columns in train and test files. We cannot train and test the model on different columns. We need to use melt function to unpivot the data and get the dates into rows."
   ]
  },
  {
   "cell_type": "code",
   "execution_count": 9,
   "id": "98165483-6a5a-4972-868d-8866fd1e54b3",
   "metadata": {
    "tags": []
   },
   "outputs": [],
   "source": [
    "df_train = df_train.melt(id_vars=['id', 'item_id', 'dept_id', 'cat_id', 'store_id', 'state_id'], var_name='d', value_name='items_sold')"
   ]
  },
  {
   "cell_type": "markdown",
   "id": "bac858b7-ada9-4013-b8e4-0f82b26090a0",
   "metadata": {},
   "source": [
    "Deleting rows where items_sold is 0 on a particular day and reseting the index of the dataframe"
   ]
  },
  {
   "cell_type": "code",
   "execution_count": 10,
   "id": "fc420722-3eca-443a-bd23-5e8444a03f9b",
   "metadata": {
    "tags": []
   },
   "outputs": [],
   "source": [
    "df_train = df_train[df_train['items_sold']!=0]\n",
    "df_train.reset_index(drop=True, inplace=True)"
   ]
  },
  {
   "cell_type": "markdown",
   "id": "bf596eaa-0695-415d-9234-457cbaa2f3ce",
   "metadata": {
    "tags": []
   },
   "source": [
    "Joining the events with the calendar based on date and setting 'None' when there are no events on a date"
   ]
  },
  {
   "cell_type": "code",
   "execution_count": 11,
   "id": "d89bd18f-0a52-4a8b-8182-65c7678dbf4b",
   "metadata": {
    "tags": []
   },
   "outputs": [],
   "source": [
    "df_calendar = df_calendar.join(df_events.set_index('date'), on='date').fillna('None')"
   ]
  },
  {
   "cell_type": "markdown",
   "id": "f7b25b72-3327-4700-b2e2-cb88c28b82bf",
   "metadata": {},
   "source": [
    "Joining the train and test dataframes with calendar and event details"
   ]
  },
  {
   "cell_type": "code",
   "execution_count": 12,
   "id": "48dca22d-7ebc-4b97-80aa-6e53109e5ba8",
   "metadata": {
    "tags": []
   },
   "outputs": [],
   "source": [
    "df_train = df_train.join(df_calendar.set_index('d'), on='d')"
   ]
  },
  {
   "cell_type": "markdown",
   "id": "aa13299a-4075-404e-bef2-c946c014f17b",
   "metadata": {},
   "source": [
    "Joining the train and test dataframes with sell prices based on store id, item id and week number"
   ]
  },
  {
   "cell_type": "code",
   "execution_count": 13,
   "id": "a465dece-0764-4c1d-b4b0-2db6e81d0e8d",
   "metadata": {
    "tags": []
   },
   "outputs": [],
   "source": [
    "df_train = df_train.join(df_sell_prices.set_index(['store_id', 'item_id', 'wm_yr_wk']), on=['store_id', 'item_id', 'wm_yr_wk'])"
   ]
  },
  {
   "cell_type": "code",
   "execution_count": 14,
   "id": "559056fd-9087-44e6-892a-602064c3b1dd",
   "metadata": {
    "tags": []
   },
   "outputs": [],
   "source": [
    "df_train['date'] = pd.to_datetime(df_train['date'])\n",
    "df_train['num_date'] = df_train['date'].dt.strftime('%Y%m%d')\n",
    "df_train['day_of_week'] = df_train['date'].dt.dayofweek"
   ]
  },
  {
   "cell_type": "code",
   "execution_count": 15,
   "id": "c6a8c91e-5a7b-43d6-8931-cee4aafa55b9",
   "metadata": {
    "tags": []
   },
   "outputs": [
    {
     "data": {
      "text/html": [
       "<div>\n",
       "<style scoped>\n",
       "    .dataframe tbody tr th:only-of-type {\n",
       "        vertical-align: middle;\n",
       "    }\n",
       "\n",
       "    .dataframe tbody tr th {\n",
       "        vertical-align: top;\n",
       "    }\n",
       "\n",
       "    .dataframe thead th {\n",
       "        text-align: right;\n",
       "    }\n",
       "</style>\n",
       "<table border=\"1\" class=\"dataframe\">\n",
       "  <thead>\n",
       "    <tr style=\"text-align: right;\">\n",
       "      <th></th>\n",
       "      <th>id</th>\n",
       "      <th>item_id</th>\n",
       "      <th>dept_id</th>\n",
       "      <th>cat_id</th>\n",
       "      <th>store_id</th>\n",
       "      <th>state_id</th>\n",
       "      <th>d</th>\n",
       "      <th>items_sold</th>\n",
       "      <th>date</th>\n",
       "      <th>wm_yr_wk</th>\n",
       "      <th>event_name</th>\n",
       "      <th>event_type</th>\n",
       "      <th>sell_price</th>\n",
       "      <th>num_date</th>\n",
       "      <th>day_of_week</th>\n",
       "    </tr>\n",
       "  </thead>\n",
       "  <tbody>\n",
       "    <tr>\n",
       "      <th>9452288</th>\n",
       "      <td>HOUSEHOLD_1_346_CA_3_evaluation</td>\n",
       "      <td>HOUSEHOLD_1_346</td>\n",
       "      <td>HOUSEHOLD_1</td>\n",
       "      <td>HOUSEHOLD</td>\n",
       "      <td>CA_3</td>\n",
       "      <td>CA</td>\n",
       "      <td>d_1128</td>\n",
       "      <td>1</td>\n",
       "      <td>2014-03-01</td>\n",
       "      <td>11405</td>\n",
       "      <td>None</td>\n",
       "      <td>None</td>\n",
       "      <td>3.98</td>\n",
       "      <td>20140301</td>\n",
       "      <td>5</td>\n",
       "    </tr>\n",
       "    <tr>\n",
       "      <th>780938</th>\n",
       "      <td>FOODS_3_116_WI_3_evaluation</td>\n",
       "      <td>FOODS_3_116</td>\n",
       "      <td>FOODS_3</td>\n",
       "      <td>FOODS</td>\n",
       "      <td>WI_3</td>\n",
       "      <td>WI</td>\n",
       "      <td>d_121</td>\n",
       "      <td>3</td>\n",
       "      <td>2011-05-29</td>\n",
       "      <td>11118</td>\n",
       "      <td>None</td>\n",
       "      <td>None</td>\n",
       "      <td>1.00</td>\n",
       "      <td>20110529</td>\n",
       "      <td>6</td>\n",
       "    </tr>\n",
       "    <tr>\n",
       "      <th>4445330</th>\n",
       "      <td>FOODS_3_057_TX_1_evaluation</td>\n",
       "      <td>FOODS_3_057</td>\n",
       "      <td>FOODS_3</td>\n",
       "      <td>FOODS</td>\n",
       "      <td>TX_1</td>\n",
       "      <td>TX</td>\n",
       "      <td>d_602</td>\n",
       "      <td>1</td>\n",
       "      <td>2012-09-21</td>\n",
       "      <td>11234</td>\n",
       "      <td>None</td>\n",
       "      <td>None</td>\n",
       "      <td>2.68</td>\n",
       "      <td>20120921</td>\n",
       "      <td>4</td>\n",
       "    </tr>\n",
       "    <tr>\n",
       "      <th>8850808</th>\n",
       "      <td>FOODS_2_079_CA_3_evaluation</td>\n",
       "      <td>FOODS_2_079</td>\n",
       "      <td>FOODS_2</td>\n",
       "      <td>FOODS</td>\n",
       "      <td>CA_3</td>\n",
       "      <td>CA</td>\n",
       "      <td>d_1068</td>\n",
       "      <td>2</td>\n",
       "      <td>2013-12-31</td>\n",
       "      <td>11349</td>\n",
       "      <td>None</td>\n",
       "      <td>None</td>\n",
       "      <td>3.87</td>\n",
       "      <td>20131231</td>\n",
       "      <td>1</td>\n",
       "    </tr>\n",
       "    <tr>\n",
       "      <th>8711086</th>\n",
       "      <td>FOODS_3_668_TX_2_evaluation</td>\n",
       "      <td>FOODS_3_668</td>\n",
       "      <td>FOODS_3</td>\n",
       "      <td>FOODS</td>\n",
       "      <td>TX_2</td>\n",
       "      <td>TX</td>\n",
       "      <td>d_1052</td>\n",
       "      <td>4</td>\n",
       "      <td>2013-12-15</td>\n",
       "      <td>11347</td>\n",
       "      <td>None</td>\n",
       "      <td>None</td>\n",
       "      <td>1.58</td>\n",
       "      <td>20131215</td>\n",
       "      <td>6</td>\n",
       "    </tr>\n",
       "  </tbody>\n",
       "</table>\n",
       "</div>"
      ],
      "text/plain": [
       "                                      id          item_id      dept_id   \n",
       "9452288  HOUSEHOLD_1_346_CA_3_evaluation  HOUSEHOLD_1_346  HOUSEHOLD_1  \\\n",
       "780938       FOODS_3_116_WI_3_evaluation      FOODS_3_116      FOODS_3   \n",
       "4445330      FOODS_3_057_TX_1_evaluation      FOODS_3_057      FOODS_3   \n",
       "8850808      FOODS_2_079_CA_3_evaluation      FOODS_2_079      FOODS_2   \n",
       "8711086      FOODS_3_668_TX_2_evaluation      FOODS_3_668      FOODS_3   \n",
       "\n",
       "            cat_id store_id state_id       d  items_sold       date  wm_yr_wk   \n",
       "9452288  HOUSEHOLD     CA_3       CA  d_1128           1 2014-03-01     11405  \\\n",
       "780938       FOODS     WI_3       WI   d_121           3 2011-05-29     11118   \n",
       "4445330      FOODS     TX_1       TX   d_602           1 2012-09-21     11234   \n",
       "8850808      FOODS     CA_3       CA  d_1068           2 2013-12-31     11349   \n",
       "8711086      FOODS     TX_2       TX  d_1052           4 2013-12-15     11347   \n",
       "\n",
       "        event_name event_type  sell_price  num_date  day_of_week  \n",
       "9452288       None       None        3.98  20140301            5  \n",
       "780938        None       None        1.00  20110529            6  \n",
       "4445330       None       None        2.68  20120921            4  \n",
       "8850808       None       None        3.87  20131231            1  \n",
       "8711086       None       None        1.58  20131215            6  "
      ]
     },
     "execution_count": 15,
     "metadata": {},
     "output_type": "execute_result"
    }
   ],
   "source": [
    "df_train.sample(5)"
   ]
  },
  {
   "cell_type": "code",
   "execution_count": 16,
   "id": "458387e5-6f9c-4648-9c4b-a8d318e0c44e",
   "metadata": {
    "tags": []
   },
   "outputs": [],
   "source": [
    "df_train['sale_revenue'] = df_train['items_sold'] * df_train['sell_price']"
   ]
  },
  {
   "cell_type": "markdown",
   "id": "913dc36c-6761-47cc-9d48-6b2e7dd38b4e",
   "metadata": {
    "tags": []
   },
   "source": [
    "Having a quick look at the structure of the data after the transformations"
   ]
  },
  {
   "cell_type": "code",
   "execution_count": 17,
   "id": "a88c75b0-2ccf-46aa-9074-06b0aff2f81c",
   "metadata": {
    "tags": []
   },
   "outputs": [
    {
     "data": {
      "text/plain": [
       "(14023073, 16)"
      ]
     },
     "execution_count": 17,
     "metadata": {},
     "output_type": "execute_result"
    }
   ],
   "source": [
    "df_train.shape"
   ]
  },
  {
   "cell_type": "code",
   "execution_count": 18,
   "id": "ec835180-44d6-4ab2-a067-cc95e69ca7dd",
   "metadata": {
    "tags": []
   },
   "outputs": [
    {
     "name": "stdout",
     "output_type": "stream",
     "text": [
      "<class 'pandas.core.frame.DataFrame'>\n",
      "Index: 14023073 entries, 0 to 13984704\n",
      "Data columns (total 16 columns):\n",
      " #   Column        Dtype         \n",
      "---  ------        -----         \n",
      " 0   id            object        \n",
      " 1   item_id       object        \n",
      " 2   dept_id       object        \n",
      " 3   cat_id        object        \n",
      " 4   store_id      object        \n",
      " 5   state_id      object        \n",
      " 6   d             object        \n",
      " 7   items_sold    int64         \n",
      " 8   date          datetime64[ns]\n",
      " 9   wm_yr_wk      int64         \n",
      " 10  event_name    object        \n",
      " 11  event_type    object        \n",
      " 12  sell_price    float64       \n",
      " 13  num_date      object        \n",
      " 14  day_of_week   int32         \n",
      " 15  sale_revenue  float64       \n",
      "dtypes: datetime64[ns](1), float64(2), int32(1), int64(2), object(10)\n",
      "memory usage: 1.7+ GB\n"
     ]
    }
   ],
   "source": [
    "df_train.info()"
   ]
  },
  {
   "cell_type": "code",
   "execution_count": 19,
   "id": "adff0f30-836a-447f-b835-7684d18b258f",
   "metadata": {
    "tags": []
   },
   "outputs": [
    {
     "data": {
      "text/html": [
       "<div>\n",
       "<style scoped>\n",
       "    .dataframe tbody tr th:only-of-type {\n",
       "        vertical-align: middle;\n",
       "    }\n",
       "\n",
       "    .dataframe tbody tr th {\n",
       "        vertical-align: top;\n",
       "    }\n",
       "\n",
       "    .dataframe thead th {\n",
       "        text-align: right;\n",
       "    }\n",
       "</style>\n",
       "<table border=\"1\" class=\"dataframe\">\n",
       "  <thead>\n",
       "    <tr style=\"text-align: right;\">\n",
       "      <th></th>\n",
       "      <th>id</th>\n",
       "      <th>item_id</th>\n",
       "      <th>dept_id</th>\n",
       "      <th>cat_id</th>\n",
       "      <th>store_id</th>\n",
       "      <th>state_id</th>\n",
       "      <th>d</th>\n",
       "      <th>items_sold</th>\n",
       "      <th>date</th>\n",
       "      <th>wm_yr_wk</th>\n",
       "      <th>event_name</th>\n",
       "      <th>event_type</th>\n",
       "      <th>sell_price</th>\n",
       "      <th>num_date</th>\n",
       "      <th>day_of_week</th>\n",
       "      <th>sale_revenue</th>\n",
       "    </tr>\n",
       "  </thead>\n",
       "  <tbody>\n",
       "    <tr>\n",
       "      <th>count</th>\n",
       "      <td>14023073</td>\n",
       "      <td>14023073</td>\n",
       "      <td>14023073</td>\n",
       "      <td>14023073</td>\n",
       "      <td>14023073</td>\n",
       "      <td>14023073</td>\n",
       "      <td>14023073</td>\n",
       "      <td>1.402307e+07</td>\n",
       "      <td>14023073</td>\n",
       "      <td>1.402307e+07</td>\n",
       "      <td>14023073</td>\n",
       "      <td>14023073</td>\n",
       "      <td>1.402307e+07</td>\n",
       "      <td>14023073</td>\n",
       "      <td>1.402307e+07</td>\n",
       "      <td>1.402307e+07</td>\n",
       "    </tr>\n",
       "    <tr>\n",
       "      <th>unique</th>\n",
       "      <td>30049</td>\n",
       "      <td>3049</td>\n",
       "      <td>7</td>\n",
       "      <td>3</td>\n",
       "      <td>10</td>\n",
       "      <td>3</td>\n",
       "      <td>1541</td>\n",
       "      <td>NaN</td>\n",
       "      <td>NaN</td>\n",
       "      <td>NaN</td>\n",
       "      <td>31</td>\n",
       "      <td>5</td>\n",
       "      <td>NaN</td>\n",
       "      <td>1541</td>\n",
       "      <td>NaN</td>\n",
       "      <td>NaN</td>\n",
       "    </tr>\n",
       "    <tr>\n",
       "      <th>top</th>\n",
       "      <td>FOODS_3_586_CA_2_evaluation</td>\n",
       "      <td>FOODS_3_586</td>\n",
       "      <td>FOODS_3</td>\n",
       "      <td>FOODS</td>\n",
       "      <td>CA_3</td>\n",
       "      <td>CA</td>\n",
       "      <td>d_1234</td>\n",
       "      <td>NaN</td>\n",
       "      <td>NaN</td>\n",
       "      <td>NaN</td>\n",
       "      <td>None</td>\n",
       "      <td>None</td>\n",
       "      <td>NaN</td>\n",
       "      <td>20140615</td>\n",
       "      <td>NaN</td>\n",
       "      <td>NaN</td>\n",
       "    </tr>\n",
       "    <tr>\n",
       "      <th>freq</th>\n",
       "      <td>1543</td>\n",
       "      <td>15373</td>\n",
       "      <td>4977961</td>\n",
       "      <td>7917388</td>\n",
       "      <td>1792739</td>\n",
       "      <td>5951758</td>\n",
       "      <td>22290</td>\n",
       "      <td>NaN</td>\n",
       "      <td>NaN</td>\n",
       "      <td>NaN</td>\n",
       "      <td>12897112</td>\n",
       "      <td>12897112</td>\n",
       "      <td>NaN</td>\n",
       "      <td>22290</td>\n",
       "      <td>NaN</td>\n",
       "      <td>NaN</td>\n",
       "    </tr>\n",
       "    <tr>\n",
       "      <th>mean</th>\n",
       "      <td>NaN</td>\n",
       "      <td>NaN</td>\n",
       "      <td>NaN</td>\n",
       "      <td>NaN</td>\n",
       "      <td>NaN</td>\n",
       "      <td>NaN</td>\n",
       "      <td>NaN</td>\n",
       "      <td>3.651708e+00</td>\n",
       "      <td>2013-05-24 12:28:54.247777792</td>\n",
       "      <td>1.130938e+04</td>\n",
       "      <td>NaN</td>\n",
       "      <td>NaN</td>\n",
       "      <td>3.784045e+00</td>\n",
       "      <td>NaN</td>\n",
       "      <td>3.110836e+00</td>\n",
       "      <td>1.018551e+01</td>\n",
       "    </tr>\n",
       "    <tr>\n",
       "      <th>min</th>\n",
       "      <td>NaN</td>\n",
       "      <td>NaN</td>\n",
       "      <td>NaN</td>\n",
       "      <td>NaN</td>\n",
       "      <td>NaN</td>\n",
       "      <td>NaN</td>\n",
       "      <td>NaN</td>\n",
       "      <td>1.000000e+00</td>\n",
       "      <td>2011-01-29 00:00:00</td>\n",
       "      <td>1.110100e+04</td>\n",
       "      <td>NaN</td>\n",
       "      <td>NaN</td>\n",
       "      <td>1.000000e-02</td>\n",
       "      <td>NaN</td>\n",
       "      <td>0.000000e+00</td>\n",
       "      <td>1.000000e-02</td>\n",
       "    </tr>\n",
       "    <tr>\n",
       "      <th>25%</th>\n",
       "      <td>NaN</td>\n",
       "      <td>NaN</td>\n",
       "      <td>NaN</td>\n",
       "      <td>NaN</td>\n",
       "      <td>NaN</td>\n",
       "      <td>NaN</td>\n",
       "      <td>NaN</td>\n",
       "      <td>1.000000e+00</td>\n",
       "      <td>2012-06-03 00:00:00</td>\n",
       "      <td>1.121900e+04</td>\n",
       "      <td>NaN</td>\n",
       "      <td>NaN</td>\n",
       "      <td>1.970000e+00</td>\n",
       "      <td>NaN</td>\n",
       "      <td>1.000000e+00</td>\n",
       "      <td>3.470000e+00</td>\n",
       "    </tr>\n",
       "    <tr>\n",
       "      <th>50%</th>\n",
       "      <td>NaN</td>\n",
       "      <td>NaN</td>\n",
       "      <td>NaN</td>\n",
       "      <td>NaN</td>\n",
       "      <td>NaN</td>\n",
       "      <td>NaN</td>\n",
       "      <td>NaN</td>\n",
       "      <td>2.000000e+00</td>\n",
       "      <td>2013-06-27 00:00:00</td>\n",
       "      <td>1.132200e+04</td>\n",
       "      <td>NaN</td>\n",
       "      <td>NaN</td>\n",
       "      <td>2.970000e+00</td>\n",
       "      <td>NaN</td>\n",
       "      <td>3.000000e+00</td>\n",
       "      <td>5.970000e+00</td>\n",
       "    </tr>\n",
       "    <tr>\n",
       "      <th>75%</th>\n",
       "      <td>NaN</td>\n",
       "      <td>NaN</td>\n",
       "      <td>NaN</td>\n",
       "      <td>NaN</td>\n",
       "      <td>NaN</td>\n",
       "      <td>NaN</td>\n",
       "      <td>NaN</td>\n",
       "      <td>4.000000e+00</td>\n",
       "      <td>2014-06-07 00:00:00</td>\n",
       "      <td>1.141900e+04</td>\n",
       "      <td>NaN</td>\n",
       "      <td>NaN</td>\n",
       "      <td>4.880000e+00</td>\n",
       "      <td>NaN</td>\n",
       "      <td>5.000000e+00</td>\n",
       "      <td>1.184000e+01</td>\n",
       "    </tr>\n",
       "    <tr>\n",
       "      <th>max</th>\n",
       "      <td>NaN</td>\n",
       "      <td>NaN</td>\n",
       "      <td>NaN</td>\n",
       "      <td>NaN</td>\n",
       "      <td>NaN</td>\n",
       "      <td>NaN</td>\n",
       "      <td>NaN</td>\n",
       "      <td>7.630000e+02</td>\n",
       "      <td>2015-04-18 00:00:00</td>\n",
       "      <td>1.151200e+04</td>\n",
       "      <td>NaN</td>\n",
       "      <td>NaN</td>\n",
       "      <td>1.073200e+02</td>\n",
       "      <td>NaN</td>\n",
       "      <td>6.000000e+00</td>\n",
       "      <td>2.164320e+03</td>\n",
       "    </tr>\n",
       "    <tr>\n",
       "      <th>std</th>\n",
       "      <td>NaN</td>\n",
       "      <td>NaN</td>\n",
       "      <td>NaN</td>\n",
       "      <td>NaN</td>\n",
       "      <td>NaN</td>\n",
       "      <td>NaN</td>\n",
       "      <td>NaN</td>\n",
       "      <td>6.529409e+00</td>\n",
       "      <td>NaN</td>\n",
       "      <td>1.184390e+02</td>\n",
       "      <td>NaN</td>\n",
       "      <td>NaN</td>\n",
       "      <td>3.002326e+00</td>\n",
       "      <td>NaN</td>\n",
       "      <td>2.026170e+00</td>\n",
       "      <td>1.448593e+01</td>\n",
       "    </tr>\n",
       "  </tbody>\n",
       "</table>\n",
       "</div>"
      ],
      "text/plain": [
       "                                 id      item_id   dept_id    cat_id   \n",
       "count                      14023073     14023073  14023073  14023073  \\\n",
       "unique                        30049         3049         7         3   \n",
       "top     FOODS_3_586_CA_2_evaluation  FOODS_3_586   FOODS_3     FOODS   \n",
       "freq                           1543        15373   4977961   7917388   \n",
       "mean                            NaN          NaN       NaN       NaN   \n",
       "min                             NaN          NaN       NaN       NaN   \n",
       "25%                             NaN          NaN       NaN       NaN   \n",
       "50%                             NaN          NaN       NaN       NaN   \n",
       "75%                             NaN          NaN       NaN       NaN   \n",
       "max                             NaN          NaN       NaN       NaN   \n",
       "std                             NaN          NaN       NaN       NaN   \n",
       "\n",
       "        store_id  state_id         d    items_sold   \n",
       "count   14023073  14023073  14023073  1.402307e+07  \\\n",
       "unique        10         3      1541           NaN   \n",
       "top         CA_3        CA    d_1234           NaN   \n",
       "freq     1792739   5951758     22290           NaN   \n",
       "mean         NaN       NaN       NaN  3.651708e+00   \n",
       "min          NaN       NaN       NaN  1.000000e+00   \n",
       "25%          NaN       NaN       NaN  1.000000e+00   \n",
       "50%          NaN       NaN       NaN  2.000000e+00   \n",
       "75%          NaN       NaN       NaN  4.000000e+00   \n",
       "max          NaN       NaN       NaN  7.630000e+02   \n",
       "std          NaN       NaN       NaN  6.529409e+00   \n",
       "\n",
       "                                 date      wm_yr_wk event_name event_type   \n",
       "count                        14023073  1.402307e+07   14023073   14023073  \\\n",
       "unique                            NaN           NaN         31          5   \n",
       "top                               NaN           NaN       None       None   \n",
       "freq                              NaN           NaN   12897112   12897112   \n",
       "mean    2013-05-24 12:28:54.247777792  1.130938e+04        NaN        NaN   \n",
       "min               2011-01-29 00:00:00  1.110100e+04        NaN        NaN   \n",
       "25%               2012-06-03 00:00:00  1.121900e+04        NaN        NaN   \n",
       "50%               2013-06-27 00:00:00  1.132200e+04        NaN        NaN   \n",
       "75%               2014-06-07 00:00:00  1.141900e+04        NaN        NaN   \n",
       "max               2015-04-18 00:00:00  1.151200e+04        NaN        NaN   \n",
       "std                               NaN  1.184390e+02        NaN        NaN   \n",
       "\n",
       "          sell_price  num_date   day_of_week  sale_revenue  \n",
       "count   1.402307e+07  14023073  1.402307e+07  1.402307e+07  \n",
       "unique           NaN      1541           NaN           NaN  \n",
       "top              NaN  20140615           NaN           NaN  \n",
       "freq             NaN     22290           NaN           NaN  \n",
       "mean    3.784045e+00       NaN  3.110836e+00  1.018551e+01  \n",
       "min     1.000000e-02       NaN  0.000000e+00  1.000000e-02  \n",
       "25%     1.970000e+00       NaN  1.000000e+00  3.470000e+00  \n",
       "50%     2.970000e+00       NaN  3.000000e+00  5.970000e+00  \n",
       "75%     4.880000e+00       NaN  5.000000e+00  1.184000e+01  \n",
       "max     1.073200e+02       NaN  6.000000e+00  2.164320e+03  \n",
       "std     3.002326e+00       NaN  2.026170e+00  1.448593e+01  "
      ]
     },
     "execution_count": 19,
     "metadata": {},
     "output_type": "execute_result"
    }
   ],
   "source": [
    "df_train.describe(include='all')"
   ]
  },
  {
   "cell_type": "markdown",
   "id": "b3a170be-2e59-4df3-a1ca-e2ddc0e00830",
   "metadata": {
    "tags": []
   },
   "source": [
    "## Training and Validation split"
   ]
  },
  {
   "cell_type": "code",
   "execution_count": 20,
   "id": "a4ed766d-6d5d-4752-adb9-a83d83c339b6",
   "metadata": {
    "tags": []
   },
   "outputs": [
    {
     "data": {
      "text/plain": [
       "Timestamp('2011-01-29 00:00:00')"
      ]
     },
     "execution_count": 20,
     "metadata": {},
     "output_type": "execute_result"
    }
   ],
   "source": [
    "df_train['date'].min()"
   ]
  },
  {
   "cell_type": "code",
   "execution_count": 21,
   "id": "b932af9b-da18-40e2-a67c-f81b9a96fcad",
   "metadata": {
    "tags": []
   },
   "outputs": [
    {
     "data": {
      "text/plain": [
       "Timestamp('2015-04-18 00:00:00')"
      ]
     },
     "execution_count": 21,
     "metadata": {},
     "output_type": "execute_result"
    }
   ],
   "source": [
    "df_train['date'].max()"
   ]
  },
  {
   "cell_type": "markdown",
   "id": "45d28b53-854d-4b4e-bd6e-63bfcd708526",
   "metadata": {
    "tags": []
   },
   "source": [
    "We have approximately 4 years and 3 months worth of data. We will use the last 1 year data for validation as we have a huge dataset."
   ]
  },
  {
   "cell_type": "code",
   "execution_count": 22,
   "id": "0a8770cc-ff84-4b08-82e4-06ec86558407",
   "metadata": {
    "tags": []
   },
   "outputs": [],
   "source": [
    "condition = df_train['date']>='01-04-2014'"
   ]
  },
  {
   "cell_type": "code",
   "execution_count": 23,
   "id": "c290ac93-87fb-45e7-baab-ebdd52188825",
   "metadata": {
    "tags": []
   },
   "outputs": [],
   "source": [
    "df_validation = df_train[condition]"
   ]
  },
  {
   "cell_type": "code",
   "execution_count": 24,
   "id": "3d0e78e1-cfc3-4af0-9889-8e7ac66f2890",
   "metadata": {
    "tags": []
   },
   "outputs": [],
   "source": [
    "df_train = df_train[~condition]"
   ]
  },
  {
   "cell_type": "code",
   "execution_count": 25,
   "id": "cdf81d91-4d27-4596-96f6-c7d988047a59",
   "metadata": {},
   "outputs": [],
   "source": [
    "df_train.to_csv('../../data/processed/train_processed.csv', index=False)"
   ]
  },
  {
   "cell_type": "code",
   "execution_count": 26,
   "id": "94885e7a-14a6-4334-beea-3db8a681cf1a",
   "metadata": {},
   "outputs": [],
   "source": [
    "df_validation.to_csv('../../data/processed/validation_processed.csv', index=False)"
   ]
  },
  {
   "cell_type": "markdown",
   "id": "9193c668-2bd1-40a4-9343-f92ebe814dd3",
   "metadata": {},
   "source": [
    "## Data Preprocessing"
   ]
  },
  {
   "cell_type": "markdown",
   "id": "ad199754-9041-45bb-9124-25fbbeb46bd4",
   "metadata": {},
   "source": [
    "I have not used some of the features for training the model. The features and the reasons are listed as follows:\n",
    "  - id: It is an identifier. Using this will cause the model to overfit.\n",
    "  - d, date: Year, month and day values have been extracted from the dates and hence, these columns are no longer required\n",
    "  - event_name: This feature is not used for 2 reasons - firstly, it can create a bias, and secondly, there are a lot more events than the ones listed. The model may not perform well for a new event that gets added in the future"
   ]
  },
  {
   "cell_type": "code",
   "execution_count": 27,
   "id": "60ea8c33-c917-44e5-8f3e-d35df372d8f4",
   "metadata": {
    "tags": []
   },
   "outputs": [],
   "source": [
    "cat_cols = ['item_id', 'dept_id', 'cat_id', 'store_id', 'state_id', 'event_type']\n",
    "num_cols = ['wm_yr_wk', 'sell_price', 'num_date', 'day_of_week']"
   ]
  },
  {
   "cell_type": "markdown",
   "id": "fd6b4b9d-f8de-48a7-97d6-a9625cb90647",
   "metadata": {
    "tags": []
   },
   "source": [
    "Let us check the number of unique values in the categorical columns, so that we can decide the appropriate encoding method to be used"
   ]
  },
  {
   "cell_type": "code",
   "execution_count": 28,
   "id": "031f9f29-38e9-4c88-814d-a742adbe7c8d",
   "metadata": {
    "tags": []
   },
   "outputs": [
    {
     "name": "stdout",
     "output_type": "stream",
     "text": [
      "The number of unique values in column  item_id  is:  2689\n",
      "The number of unique values in column  dept_id  is:  7\n",
      "The number of unique values in column  cat_id  is:  3\n",
      "The number of unique values in column  store_id  is:  10\n",
      "The number of unique values in column  state_id  is:  3\n",
      "The number of unique values in column  event_type  is:  5\n"
     ]
    }
   ],
   "source": [
    "for cat_col in cat_cols:\n",
    "    print('The number of unique values in column ', cat_col, ' is: ', len(df_train[cat_col].unique()))"
   ]
  },
  {
   "cell_type": "markdown",
   "id": "521df0ea-5d18-4d64-8ff7-a135910a5bf1",
   "metadata": {},
   "source": [
    "As there are a lot of unique values in item_id, dept_id and store_id fields, one-hot encoding them can lead to a lot of features in the dataset. I will be using target encoding on these columns and one-hot encoding on the other categorical features."
   ]
  },
  {
   "cell_type": "code",
   "execution_count": 29,
   "id": "e60099c7-d617-4d69-9fd4-9805c8afb8d3",
   "metadata": {
    "tags": []
   },
   "outputs": [],
   "source": [
    "cat_ohe_cols = ['cat_id', 'state_id', 'event_type']\n",
    "cat_tar_cols = ['item_id', 'dept_id', 'store_id']"
   ]
  },
  {
   "cell_type": "markdown",
   "id": "37dc9687-3ca9-49c9-939c-382158973542",
   "metadata": {},
   "source": [
    "Importing processing and pipeline related packages"
   ]
  },
  {
   "cell_type": "code",
   "execution_count": 30,
   "id": "93349f33-e36c-4aab-945b-b588f16fc157",
   "metadata": {
    "tags": []
   },
   "outputs": [],
   "source": [
    "from sklearn.pipeline import Pipeline\n",
    "from sklearn.compose import ColumnTransformer\n",
    "from sklearn.preprocessing import StandardScaler, OneHotEncoder, TargetEncoder\n",
    "from joblib import dump, load"
   ]
  },
  {
   "cell_type": "markdown",
   "id": "0af29b73-3b78-4a73-a6db-364c46c4f07d",
   "metadata": {
    "tags": []
   },
   "source": [
    "Creating a pipeline for standard scaling of numerical features, one-hot encoding of categorical features with few unique values and target encoding of categorical features with many unique values"
   ]
  },
  {
   "cell_type": "code",
   "execution_count": 31,
   "id": "ceb394dd-1069-4add-8ac7-577116c85c96",
   "metadata": {
    "tags": []
   },
   "outputs": [],
   "source": [
    "num_transformer = Pipeline(\n",
    "    steps=[\n",
    "        ('scaler', StandardScaler())\n",
    "    ]\n",
    ")"
   ]
  },
  {
   "cell_type": "code",
   "execution_count": 32,
   "id": "480ff492-76d2-4853-8f8c-7c5a2a4fab57",
   "metadata": {
    "tags": []
   },
   "outputs": [],
   "source": [
    "cat_ohe_transformer = Pipeline(\n",
    "    steps=[\n",
    "        ('one_hot_encoder', OneHotEncoder(sparse_output=False, drop='first', handle_unknown='ignore'))\n",
    "    ]\n",
    ")"
   ]
  },
  {
   "cell_type": "code",
   "execution_count": 33,
   "id": "e31c8eca-3c06-46a3-baab-ece325a7df85",
   "metadata": {
    "tags": []
   },
   "outputs": [],
   "source": [
    "cat_tar_transformer = Pipeline(\n",
    "    steps=[\n",
    "        ('target_encoder', TargetEncoder(random_state=8))\n",
    "    ]\n",
    ")"
   ]
  },
  {
   "cell_type": "markdown",
   "id": "d9653e1d-a211-4404-958c-30f292e1e66e",
   "metadata": {},
   "source": [
    "Creating a column transformer to build a column-wise transformation list"
   ]
  },
  {
   "cell_type": "code",
   "execution_count": 34,
   "id": "9264ab6e-6c7e-4dbf-ad55-faad13aa1c62",
   "metadata": {
    "tags": []
   },
   "outputs": [],
   "source": [
    "preprocessor = ColumnTransformer(\n",
    "    transformers=[\n",
    "        ('num_cols', num_transformer, num_cols),\n",
    "        ('cat_ohe_transformer', cat_ohe_transformer, cat_ohe_cols),\n",
    "        ('cat_tar_transformer', cat_tar_transformer, cat_tar_cols)\n",
    "    ]\n",
    ")"
   ]
  },
  {
   "cell_type": "markdown",
   "id": "b6efc887-38ba-451c-949b-02ab11e0b0b8",
   "metadata": {
    "tags": []
   },
   "source": [
    "Creating a preprocessor pipeline and storing it for future use"
   ]
  },
  {
   "cell_type": "code",
   "execution_count": 35,
   "id": "a8fe9856-a4c7-4f42-b7ea-1b74f4a557b4",
   "metadata": {
    "tags": []
   },
   "outputs": [],
   "source": [
    "preprocessor_pipe = Pipeline(\n",
    "    steps=[\n",
    "        ('preprocessor', preprocessor)\n",
    "    ]\n",
    ")"
   ]
  },
  {
   "cell_type": "code",
   "execution_count": 36,
   "id": "9cf5515a-9162-4930-b6dd-36403ddcdfa1",
   "metadata": {
    "tags": []
   },
   "outputs": [
    {
     "data": {
      "text/plain": [
       "['../../src/preprocessor_pipeline.joblib']"
      ]
     },
     "execution_count": 36,
     "metadata": {},
     "output_type": "execute_result"
    }
   ],
   "source": [
    "dump(preprocessor_pipe, '../../src/preprocessor_pipeline.joblib')"
   ]
  },
  {
   "cell_type": "code",
   "execution_count": 37,
   "id": "70879bc4-1383-4430-a2a6-883ae9795c78",
   "metadata": {
    "tags": []
   },
   "outputs": [],
   "source": [
    "train_target = df_train['sale_revenue']\n",
    "validation_target = df_validation['sale_revenue']"
   ]
  },
  {
   "cell_type": "markdown",
   "id": "9e6687cd-05b6-4537-abf7-2b3207f9a7aa",
   "metadata": {},
   "source": [
    "## Baseline Model"
   ]
  },
  {
   "cell_type": "markdown",
   "id": "b944ec75-fb65-4114-919b-4552c72553bf",
   "metadata": {},
   "source": [
    "Let us build a baseline model with mean values and test it using MAE and RMSE scores"
   ]
  },
  {
   "cell_type": "code",
   "execution_count": 38,
   "id": "540e7ae0-cf05-42a2-b147-946bc2d3ea5e",
   "metadata": {
    "tags": []
   },
   "outputs": [],
   "source": [
    "mean_value = train_target.mean()\n",
    "base_preds = np.full((len(train_target), 1), mean_value)"
   ]
  },
  {
   "cell_type": "code",
   "execution_count": 39,
   "id": "0f1ee228-bce7-4b4a-bb10-7dd1d63c4ba1",
   "metadata": {
    "tags": []
   },
   "outputs": [],
   "source": [
    "from sklearn.metrics import mean_absolute_error, mean_squared_error"
   ]
  },
  {
   "cell_type": "code",
   "execution_count": 40,
   "id": "3a423434-203f-4b12-8c9c-949f52a6dcaa",
   "metadata": {
    "tags": []
   },
   "outputs": [
    {
     "name": "stdout",
     "output_type": "stream",
     "text": [
      "The Mean Absolute Error for the baseline model is  7.825201167624908\n",
      "The Root Mean Squared Error for training set is  14.701932097001018\n"
     ]
    }
   ],
   "source": [
    "print('The Mean Absolute Error for the baseline model is ', mean_absolute_error(train_target, base_preds))\n",
    "print('The Root Mean Squared Error for training set is ', mean_squared_error(train_target, base_preds, squared=False))"
   ]
  },
  {
   "cell_type": "markdown",
   "id": "110ff28c-7ce5-4d93-852d-138513862258",
   "metadata": {},
   "source": [
    "## Model Building"
   ]
  },
  {
   "cell_type": "markdown",
   "id": "8ddf7e4b-931a-4df5-bd6f-269b971e2f55",
   "metadata": {},
   "source": [
    "Let us start by building a Linear Regression model and check if it is able to perform well"
   ]
  },
  {
   "cell_type": "code",
   "execution_count": 41,
   "id": "ba9d45f5-1d6f-4fc4-9799-c0b66c24d222",
   "metadata": {
    "tags": []
   },
   "outputs": [],
   "source": [
    "from sklearn.linear_model import LinearRegression"
   ]
  },
  {
   "cell_type": "code",
   "execution_count": 42,
   "id": "e9ed669a-38fa-41f2-bdb4-a9211cb1460f",
   "metadata": {
    "tags": []
   },
   "outputs": [],
   "source": [
    "lin_pipe = Pipeline(\n",
    "    steps=[\n",
    "        ('preprocessor', preprocessor_pipe),\n",
    "        ('lin', LinearRegression())\n",
    "    ]\n",
    ")"
   ]
  },
  {
   "cell_type": "code",
   "execution_count": 43,
   "id": "2b4cb059-c1f6-4fc9-8703-f0a3ac0064fe",
   "metadata": {
    "tags": []
   },
   "outputs": [
    {
     "data": {
      "text/html": [
       "<style>#sk-container-id-1 {color: black;}#sk-container-id-1 pre{padding: 0;}#sk-container-id-1 div.sk-toggleable {background-color: white;}#sk-container-id-1 label.sk-toggleable__label {cursor: pointer;display: block;width: 100%;margin-bottom: 0;padding: 0.3em;box-sizing: border-box;text-align: center;}#sk-container-id-1 label.sk-toggleable__label-arrow:before {content: \"▸\";float: left;margin-right: 0.25em;color: #696969;}#sk-container-id-1 label.sk-toggleable__label-arrow:hover:before {color: black;}#sk-container-id-1 div.sk-estimator:hover label.sk-toggleable__label-arrow:before {color: black;}#sk-container-id-1 div.sk-toggleable__content {max-height: 0;max-width: 0;overflow: hidden;text-align: left;background-color: #f0f8ff;}#sk-container-id-1 div.sk-toggleable__content pre {margin: 0.2em;color: black;border-radius: 0.25em;background-color: #f0f8ff;}#sk-container-id-1 input.sk-toggleable__control:checked~div.sk-toggleable__content {max-height: 200px;max-width: 100%;overflow: auto;}#sk-container-id-1 input.sk-toggleable__control:checked~label.sk-toggleable__label-arrow:before {content: \"▾\";}#sk-container-id-1 div.sk-estimator input.sk-toggleable__control:checked~label.sk-toggleable__label {background-color: #d4ebff;}#sk-container-id-1 div.sk-label input.sk-toggleable__control:checked~label.sk-toggleable__label {background-color: #d4ebff;}#sk-container-id-1 input.sk-hidden--visually {border: 0;clip: rect(1px 1px 1px 1px);clip: rect(1px, 1px, 1px, 1px);height: 1px;margin: -1px;overflow: hidden;padding: 0;position: absolute;width: 1px;}#sk-container-id-1 div.sk-estimator {font-family: monospace;background-color: #f0f8ff;border: 1px dotted black;border-radius: 0.25em;box-sizing: border-box;margin-bottom: 0.5em;}#sk-container-id-1 div.sk-estimator:hover {background-color: #d4ebff;}#sk-container-id-1 div.sk-parallel-item::after {content: \"\";width: 100%;border-bottom: 1px solid gray;flex-grow: 1;}#sk-container-id-1 div.sk-label:hover label.sk-toggleable__label {background-color: #d4ebff;}#sk-container-id-1 div.sk-serial::before {content: \"\";position: absolute;border-left: 1px solid gray;box-sizing: border-box;top: 0;bottom: 0;left: 50%;z-index: 0;}#sk-container-id-1 div.sk-serial {display: flex;flex-direction: column;align-items: center;background-color: white;padding-right: 0.2em;padding-left: 0.2em;position: relative;}#sk-container-id-1 div.sk-item {position: relative;z-index: 1;}#sk-container-id-1 div.sk-parallel {display: flex;align-items: stretch;justify-content: center;background-color: white;position: relative;}#sk-container-id-1 div.sk-item::before, #sk-container-id-1 div.sk-parallel-item::before {content: \"\";position: absolute;border-left: 1px solid gray;box-sizing: border-box;top: 0;bottom: 0;left: 50%;z-index: -1;}#sk-container-id-1 div.sk-parallel-item {display: flex;flex-direction: column;z-index: 1;position: relative;background-color: white;}#sk-container-id-1 div.sk-parallel-item:first-child::after {align-self: flex-end;width: 50%;}#sk-container-id-1 div.sk-parallel-item:last-child::after {align-self: flex-start;width: 50%;}#sk-container-id-1 div.sk-parallel-item:only-child::after {width: 0;}#sk-container-id-1 div.sk-dashed-wrapped {border: 1px dashed gray;margin: 0 0.4em 0.5em 0.4em;box-sizing: border-box;padding-bottom: 0.4em;background-color: white;}#sk-container-id-1 div.sk-label label {font-family: monospace;font-weight: bold;display: inline-block;line-height: 1.2em;}#sk-container-id-1 div.sk-label-container {text-align: center;}#sk-container-id-1 div.sk-container {/* jupyter's `normalize.less` sets `[hidden] { display: none; }` but bootstrap.min.css set `[hidden] { display: none !important; }` so we also need the `!important` here to be able to override the default hidden behavior on the sphinx rendered scikit-learn.org. See: https://github.com/scikit-learn/scikit-learn/issues/21755 */display: inline-block !important;position: relative;}#sk-container-id-1 div.sk-text-repr-fallback {display: none;}</style><div id=\"sk-container-id-1\" class=\"sk-top-container\"><div class=\"sk-text-repr-fallback\"><pre>Pipeline(steps=[(&#x27;preprocessor&#x27;,\n",
       "                 Pipeline(steps=[(&#x27;preprocessor&#x27;,\n",
       "                                  ColumnTransformer(transformers=[(&#x27;num_cols&#x27;,\n",
       "                                                                   Pipeline(steps=[(&#x27;scaler&#x27;,\n",
       "                                                                                    StandardScaler())]),\n",
       "                                                                   [&#x27;wm_yr_wk&#x27;,\n",
       "                                                                    &#x27;sell_price&#x27;,\n",
       "                                                                    &#x27;num_date&#x27;,\n",
       "                                                                    &#x27;day_of_week&#x27;]),\n",
       "                                                                  (&#x27;cat_ohe_transformer&#x27;,\n",
       "                                                                   Pipeline(steps=[(&#x27;one_hot_encoder&#x27;,\n",
       "                                                                                    OneHotEncoder(drop=&#x27;first&#x27;,\n",
       "                                                                                                  handle_unknown=&#x27;ignore&#x27;,\n",
       "                                                                                                  sparse_output=False))]),\n",
       "                                                                   [&#x27;cat_id&#x27;,\n",
       "                                                                    &#x27;state_id&#x27;,\n",
       "                                                                    &#x27;event_type&#x27;]),\n",
       "                                                                  (&#x27;cat_tar_transformer&#x27;,\n",
       "                                                                   Pipeline(steps=[(&#x27;target_encoder&#x27;,\n",
       "                                                                                    TargetEncoder(random_state=8))]),\n",
       "                                                                   [&#x27;item_id&#x27;,\n",
       "                                                                    &#x27;dept_id&#x27;,\n",
       "                                                                    &#x27;store_id&#x27;])]))])),\n",
       "                (&#x27;lin&#x27;, LinearRegression())])</pre><b>In a Jupyter environment, please rerun this cell to show the HTML representation or trust the notebook. <br />On GitHub, the HTML representation is unable to render, please try loading this page with nbviewer.org.</b></div><div class=\"sk-container\" hidden><div class=\"sk-item sk-dashed-wrapped\"><div class=\"sk-label-container\"><div class=\"sk-label sk-toggleable\"><input class=\"sk-toggleable__control sk-hidden--visually\" id=\"sk-estimator-id-1\" type=\"checkbox\" ><label for=\"sk-estimator-id-1\" class=\"sk-toggleable__label sk-toggleable__label-arrow\">Pipeline</label><div class=\"sk-toggleable__content\"><pre>Pipeline(steps=[(&#x27;preprocessor&#x27;,\n",
       "                 Pipeline(steps=[(&#x27;preprocessor&#x27;,\n",
       "                                  ColumnTransformer(transformers=[(&#x27;num_cols&#x27;,\n",
       "                                                                   Pipeline(steps=[(&#x27;scaler&#x27;,\n",
       "                                                                                    StandardScaler())]),\n",
       "                                                                   [&#x27;wm_yr_wk&#x27;,\n",
       "                                                                    &#x27;sell_price&#x27;,\n",
       "                                                                    &#x27;num_date&#x27;,\n",
       "                                                                    &#x27;day_of_week&#x27;]),\n",
       "                                                                  (&#x27;cat_ohe_transformer&#x27;,\n",
       "                                                                   Pipeline(steps=[(&#x27;one_hot_encoder&#x27;,\n",
       "                                                                                    OneHotEncoder(drop=&#x27;first&#x27;,\n",
       "                                                                                                  handle_unknown=&#x27;ignore&#x27;,\n",
       "                                                                                                  sparse_output=False))]),\n",
       "                                                                   [&#x27;cat_id&#x27;,\n",
       "                                                                    &#x27;state_id&#x27;,\n",
       "                                                                    &#x27;event_type&#x27;]),\n",
       "                                                                  (&#x27;cat_tar_transformer&#x27;,\n",
       "                                                                   Pipeline(steps=[(&#x27;target_encoder&#x27;,\n",
       "                                                                                    TargetEncoder(random_state=8))]),\n",
       "                                                                   [&#x27;item_id&#x27;,\n",
       "                                                                    &#x27;dept_id&#x27;,\n",
       "                                                                    &#x27;store_id&#x27;])]))])),\n",
       "                (&#x27;lin&#x27;, LinearRegression())])</pre></div></div></div><div class=\"sk-serial\"><div class=\"sk-item\"><div class=\"sk-label-container\"><div class=\"sk-label sk-toggleable\"><input class=\"sk-toggleable__control sk-hidden--visually\" id=\"sk-estimator-id-2\" type=\"checkbox\" ><label for=\"sk-estimator-id-2\" class=\"sk-toggleable__label sk-toggleable__label-arrow\">preprocessor: Pipeline</label><div class=\"sk-toggleable__content\"><pre>Pipeline(steps=[(&#x27;preprocessor&#x27;,\n",
       "                 ColumnTransformer(transformers=[(&#x27;num_cols&#x27;,\n",
       "                                                  Pipeline(steps=[(&#x27;scaler&#x27;,\n",
       "                                                                   StandardScaler())]),\n",
       "                                                  [&#x27;wm_yr_wk&#x27;, &#x27;sell_price&#x27;,\n",
       "                                                   &#x27;num_date&#x27;, &#x27;day_of_week&#x27;]),\n",
       "                                                 (&#x27;cat_ohe_transformer&#x27;,\n",
       "                                                  Pipeline(steps=[(&#x27;one_hot_encoder&#x27;,\n",
       "                                                                   OneHotEncoder(drop=&#x27;first&#x27;,\n",
       "                                                                                 handle_unknown=&#x27;ignore&#x27;,\n",
       "                                                                                 sparse_output=False))]),\n",
       "                                                  [&#x27;cat_id&#x27;, &#x27;state_id&#x27;,\n",
       "                                                   &#x27;event_type&#x27;]),\n",
       "                                                 (&#x27;cat_tar_transformer&#x27;,\n",
       "                                                  Pipeline(steps=[(&#x27;target_encoder&#x27;,\n",
       "                                                                   TargetEncoder(random_state=8))]),\n",
       "                                                  [&#x27;item_id&#x27;, &#x27;dept_id&#x27;,\n",
       "                                                   &#x27;store_id&#x27;])]))])</pre></div></div></div><div class=\"sk-serial\"><div class=\"sk-item sk-dashed-wrapped\"><div class=\"sk-label-container\"><div class=\"sk-label sk-toggleable\"><input class=\"sk-toggleable__control sk-hidden--visually\" id=\"sk-estimator-id-3\" type=\"checkbox\" ><label for=\"sk-estimator-id-3\" class=\"sk-toggleable__label sk-toggleable__label-arrow\">preprocessor: ColumnTransformer</label><div class=\"sk-toggleable__content\"><pre>ColumnTransformer(transformers=[(&#x27;num_cols&#x27;,\n",
       "                                 Pipeline(steps=[(&#x27;scaler&#x27;, StandardScaler())]),\n",
       "                                 [&#x27;wm_yr_wk&#x27;, &#x27;sell_price&#x27;, &#x27;num_date&#x27;,\n",
       "                                  &#x27;day_of_week&#x27;]),\n",
       "                                (&#x27;cat_ohe_transformer&#x27;,\n",
       "                                 Pipeline(steps=[(&#x27;one_hot_encoder&#x27;,\n",
       "                                                  OneHotEncoder(drop=&#x27;first&#x27;,\n",
       "                                                                handle_unknown=&#x27;ignore&#x27;,\n",
       "                                                                sparse_output=False))]),\n",
       "                                 [&#x27;cat_id&#x27;, &#x27;state_id&#x27;, &#x27;event_type&#x27;]),\n",
       "                                (&#x27;cat_tar_transformer&#x27;,\n",
       "                                 Pipeline(steps=[(&#x27;target_encoder&#x27;,\n",
       "                                                  TargetEncoder(random_state=8))]),\n",
       "                                 [&#x27;item_id&#x27;, &#x27;dept_id&#x27;, &#x27;store_id&#x27;])])</pre></div></div></div><div class=\"sk-parallel\"><div class=\"sk-parallel-item\"><div class=\"sk-item\"><div class=\"sk-label-container\"><div class=\"sk-label sk-toggleable\"><input class=\"sk-toggleable__control sk-hidden--visually\" id=\"sk-estimator-id-4\" type=\"checkbox\" ><label for=\"sk-estimator-id-4\" class=\"sk-toggleable__label sk-toggleable__label-arrow\">num_cols</label><div class=\"sk-toggleable__content\"><pre>[&#x27;wm_yr_wk&#x27;, &#x27;sell_price&#x27;, &#x27;num_date&#x27;, &#x27;day_of_week&#x27;]</pre></div></div></div><div class=\"sk-serial\"><div class=\"sk-item\"><div class=\"sk-serial\"><div class=\"sk-item\"><div class=\"sk-estimator sk-toggleable\"><input class=\"sk-toggleable__control sk-hidden--visually\" id=\"sk-estimator-id-5\" type=\"checkbox\" ><label for=\"sk-estimator-id-5\" class=\"sk-toggleable__label sk-toggleable__label-arrow\">StandardScaler</label><div class=\"sk-toggleable__content\"><pre>StandardScaler()</pre></div></div></div></div></div></div></div></div><div class=\"sk-parallel-item\"><div class=\"sk-item\"><div class=\"sk-label-container\"><div class=\"sk-label sk-toggleable\"><input class=\"sk-toggleable__control sk-hidden--visually\" id=\"sk-estimator-id-6\" type=\"checkbox\" ><label for=\"sk-estimator-id-6\" class=\"sk-toggleable__label sk-toggleable__label-arrow\">cat_ohe_transformer</label><div class=\"sk-toggleable__content\"><pre>[&#x27;cat_id&#x27;, &#x27;state_id&#x27;, &#x27;event_type&#x27;]</pre></div></div></div><div class=\"sk-serial\"><div class=\"sk-item\"><div class=\"sk-serial\"><div class=\"sk-item\"><div class=\"sk-estimator sk-toggleable\"><input class=\"sk-toggleable__control sk-hidden--visually\" id=\"sk-estimator-id-7\" type=\"checkbox\" ><label for=\"sk-estimator-id-7\" class=\"sk-toggleable__label sk-toggleable__label-arrow\">OneHotEncoder</label><div class=\"sk-toggleable__content\"><pre>OneHotEncoder(drop=&#x27;first&#x27;, handle_unknown=&#x27;ignore&#x27;, sparse_output=False)</pre></div></div></div></div></div></div></div></div><div class=\"sk-parallel-item\"><div class=\"sk-item\"><div class=\"sk-label-container\"><div class=\"sk-label sk-toggleable\"><input class=\"sk-toggleable__control sk-hidden--visually\" id=\"sk-estimator-id-8\" type=\"checkbox\" ><label for=\"sk-estimator-id-8\" class=\"sk-toggleable__label sk-toggleable__label-arrow\">cat_tar_transformer</label><div class=\"sk-toggleable__content\"><pre>[&#x27;item_id&#x27;, &#x27;dept_id&#x27;, &#x27;store_id&#x27;]</pre></div></div></div><div class=\"sk-serial\"><div class=\"sk-item\"><div class=\"sk-serial\"><div class=\"sk-item\"><div class=\"sk-estimator sk-toggleable\"><input class=\"sk-toggleable__control sk-hidden--visually\" id=\"sk-estimator-id-9\" type=\"checkbox\" ><label for=\"sk-estimator-id-9\" class=\"sk-toggleable__label sk-toggleable__label-arrow\">TargetEncoder</label><div class=\"sk-toggleable__content\"><pre>TargetEncoder(random_state=8)</pre></div></div></div></div></div></div></div></div></div></div></div></div><div class=\"sk-item\"><div class=\"sk-estimator sk-toggleable\"><input class=\"sk-toggleable__control sk-hidden--visually\" id=\"sk-estimator-id-10\" type=\"checkbox\" ><label for=\"sk-estimator-id-10\" class=\"sk-toggleable__label sk-toggleable__label-arrow\">LinearRegression</label><div class=\"sk-toggleable__content\"><pre>LinearRegression()</pre></div></div></div></div></div></div></div>"
      ],
      "text/plain": [
       "Pipeline(steps=[('preprocessor',\n",
       "                 Pipeline(steps=[('preprocessor',\n",
       "                                  ColumnTransformer(transformers=[('num_cols',\n",
       "                                                                   Pipeline(steps=[('scaler',\n",
       "                                                                                    StandardScaler())]),\n",
       "                                                                   ['wm_yr_wk',\n",
       "                                                                    'sell_price',\n",
       "                                                                    'num_date',\n",
       "                                                                    'day_of_week']),\n",
       "                                                                  ('cat_ohe_transformer',\n",
       "                                                                   Pipeline(steps=[('one_hot_encoder',\n",
       "                                                                                    OneHotEncoder(drop='first',\n",
       "                                                                                                  handle_unknown='ignore',\n",
       "                                                                                                  sparse_output=False))]),\n",
       "                                                                   ['cat_id',\n",
       "                                                                    'state_id',\n",
       "                                                                    'event_type']),\n",
       "                                                                  ('cat_tar_transformer',\n",
       "                                                                   Pipeline(steps=[('target_encoder',\n",
       "                                                                                    TargetEncoder(random_state=8))]),\n",
       "                                                                   ['item_id',\n",
       "                                                                    'dept_id',\n",
       "                                                                    'store_id'])]))])),\n",
       "                ('lin', LinearRegression())])"
      ]
     },
     "execution_count": 43,
     "metadata": {},
     "output_type": "execute_result"
    }
   ],
   "source": [
    "lin_pipe.fit(df_train, train_target)"
   ]
  },
  {
   "cell_type": "code",
   "execution_count": 44,
   "id": "3d4daa9c-11eb-4741-84a3-56f387d35715",
   "metadata": {
    "tags": []
   },
   "outputs": [],
   "source": [
    "train_preds = lin_pipe.predict(df_train)"
   ]
  },
  {
   "cell_type": "code",
   "execution_count": 45,
   "id": "6107d879-cb39-4cd4-a596-4e860ba24199",
   "metadata": {
    "tags": []
   },
   "outputs": [],
   "source": [
    "validation_preds = lin_pipe.predict(df_validation)"
   ]
  },
  {
   "cell_type": "markdown",
   "id": "92c22fed-0595-4467-bdd6-14c4f0672aad",
   "metadata": {},
   "source": [
    "Store the Linear Regression pipeline for future use"
   ]
  },
  {
   "cell_type": "code",
   "execution_count": 46,
   "id": "495a3837-80e9-4806-ba9f-b64be43712ce",
   "metadata": {
    "tags": []
   },
   "outputs": [
    {
     "data": {
      "text/plain": [
       "['../../models/predictive/lin_pipe.joblib']"
      ]
     },
     "execution_count": 46,
     "metadata": {},
     "output_type": "execute_result"
    }
   ],
   "source": [
    "dump(lin_pipe, '../../models/predictive/lin_pipe.joblib')"
   ]
  },
  {
   "cell_type": "markdown",
   "id": "ff7c3a73-0fcb-4a7e-b7a3-801ca445e5bb",
   "metadata": {},
   "source": [
    "## Evaluation"
   ]
  },
  {
   "cell_type": "markdown",
   "id": "5df79c1c-cd94-4033-be0e-da7bb1bdd8f8",
   "metadata": {},
   "source": [
    "Defining a function to evaluate the performance of the models on training and validation datasets. We will store this function in a python file for future use"
   ]
  },
  {
   "cell_type": "code",
   "execution_count": 47,
   "id": "f26aa4b2-dbf0-4b61-a2b8-5743df62b8c2",
   "metadata": {
    "tags": []
   },
   "outputs": [],
   "source": [
    "def evaluate_model(train_target, train_preds, validation_target, validation_preds):\n",
    "    \n",
    "    print('The Mean Absolute Error for training set is ', mean_absolute_error(train_target, train_preds))\n",
    "    print('The Mean Absolute Error for validation set is ', mean_absolute_error(validation_target, validation_preds))\n",
    "    \n",
    "    print('The Root Mean Squared Error for training set is ', mean_squared_error(train_target, train_preds, squared=False))\n",
    "    print('The Root Mean Squared Error for validation set is ', mean_squared_error(validation_target, validation_preds, squared=False))"
   ]
  },
  {
   "cell_type": "code",
   "execution_count": 48,
   "id": "c2ca6da8-63ae-422a-9339-3b61d2709651",
   "metadata": {
    "tags": []
   },
   "outputs": [
    {
     "name": "stdout",
     "output_type": "stream",
     "text": [
      "The Mean Absolute Error for training set is  5.628608338755452\n",
      "The Mean Absolute Error for validation set is  5.546183039844255\n",
      "The Root Mean Squared Error for training set is  11.037705840930432\n",
      "The Root Mean Squared Error for validation set is  11.118623683380077\n"
     ]
    }
   ],
   "source": [
    "evaluate_model(train_target, train_preds, validation_target, validation_preds)"
   ]
  },
  {
   "cell_type": "markdown",
   "id": "0af225ca-7ffc-4642-9503-05b8cbf88a4f",
   "metadata": {},
   "source": [
    "Looking at the MAE and MSE scores, the model seems to be performing slightly better than the base model. Let us compare the prediction values with the actual values by adding it in the dataframe and checking some sample cases."
   ]
  },
  {
   "cell_type": "code",
   "execution_count": 49,
   "id": "22c84f5c-4188-4020-b493-ef5a451ee478",
   "metadata": {
    "tags": []
   },
   "outputs": [],
   "source": [
    "df_train['prediction'] = train_preds"
   ]
  },
  {
   "cell_type": "code",
   "execution_count": 50,
   "id": "56dc06b8-0fcd-4560-8dbb-85b8fe66b35c",
   "metadata": {
    "tags": []
   },
   "outputs": [],
   "source": [
    "df_validation['prediction'] = validation_preds"
   ]
  },
  {
   "cell_type": "code",
   "execution_count": 51,
   "id": "ad055dbb-0c16-449d-9a70-4f0660172567",
   "metadata": {
    "tags": []
   },
   "outputs": [
    {
     "data": {
      "text/html": [
       "<div>\n",
       "<style scoped>\n",
       "    .dataframe tbody tr th:only-of-type {\n",
       "        vertical-align: middle;\n",
       "    }\n",
       "\n",
       "    .dataframe tbody tr th {\n",
       "        vertical-align: top;\n",
       "    }\n",
       "\n",
       "    .dataframe thead th {\n",
       "        text-align: right;\n",
       "    }\n",
       "</style>\n",
       "<table border=\"1\" class=\"dataframe\">\n",
       "  <thead>\n",
       "    <tr style=\"text-align: right;\">\n",
       "      <th></th>\n",
       "      <th>id</th>\n",
       "      <th>item_id</th>\n",
       "      <th>dept_id</th>\n",
       "      <th>cat_id</th>\n",
       "      <th>store_id</th>\n",
       "      <th>state_id</th>\n",
       "      <th>d</th>\n",
       "      <th>items_sold</th>\n",
       "      <th>date</th>\n",
       "      <th>wm_yr_wk</th>\n",
       "      <th>event_name</th>\n",
       "      <th>event_type</th>\n",
       "      <th>sell_price</th>\n",
       "      <th>num_date</th>\n",
       "      <th>day_of_week</th>\n",
       "      <th>sale_revenue</th>\n",
       "      <th>prediction</th>\n",
       "    </tr>\n",
       "  </thead>\n",
       "  <tbody>\n",
       "    <tr>\n",
       "      <th>6838756</th>\n",
       "      <td>FOODS_2_139_TX_2_evaluation</td>\n",
       "      <td>FOODS_2_139</td>\n",
       "      <td>FOODS_2</td>\n",
       "      <td>FOODS</td>\n",
       "      <td>TX_2</td>\n",
       "      <td>TX</td>\n",
       "      <td>d_865</td>\n",
       "      <td>3</td>\n",
       "      <td>2013-06-11</td>\n",
       "      <td>11320</td>\n",
       "      <td>None</td>\n",
       "      <td>None</td>\n",
       "      <td>2.98</td>\n",
       "      <td>20130611</td>\n",
       "      <td>1</td>\n",
       "      <td>8.94</td>\n",
       "      <td>8.039880</td>\n",
       "    </tr>\n",
       "    <tr>\n",
       "      <th>2075541</th>\n",
       "      <td>HOBBIES_1_074_CA_3_evaluation</td>\n",
       "      <td>HOBBIES_1_074</td>\n",
       "      <td>HOBBIES_1</td>\n",
       "      <td>HOBBIES</td>\n",
       "      <td>CA_3</td>\n",
       "      <td>CA</td>\n",
       "      <td>d_309</td>\n",
       "      <td>4</td>\n",
       "      <td>2011-12-03</td>\n",
       "      <td>11145</td>\n",
       "      <td>None</td>\n",
       "      <td>None</td>\n",
       "      <td>3.67</td>\n",
       "      <td>20111203</td>\n",
       "      <td>5</td>\n",
       "      <td>14.68</td>\n",
       "      <td>13.690158</td>\n",
       "    </tr>\n",
       "    <tr>\n",
       "      <th>7235180</th>\n",
       "      <td>FOODS_3_090_CA_4_evaluation</td>\n",
       "      <td>FOODS_3_090</td>\n",
       "      <td>FOODS_3</td>\n",
       "      <td>FOODS</td>\n",
       "      <td>CA_4</td>\n",
       "      <td>CA</td>\n",
       "      <td>d_905</td>\n",
       "      <td>45</td>\n",
       "      <td>2013-07-21</td>\n",
       "      <td>11326</td>\n",
       "      <td>None</td>\n",
       "      <td>None</td>\n",
       "      <td>1.38</td>\n",
       "      <td>20130721</td>\n",
       "      <td>6</td>\n",
       "      <td>62.10</td>\n",
       "      <td>102.948337</td>\n",
       "    </tr>\n",
       "    <tr>\n",
       "      <th>2829131</th>\n",
       "      <td>HOBBIES_1_415_TX_1_evaluation</td>\n",
       "      <td>HOBBIES_1_415</td>\n",
       "      <td>HOBBIES_1</td>\n",
       "      <td>HOBBIES</td>\n",
       "      <td>TX_1</td>\n",
       "      <td>TX</td>\n",
       "      <td>d_409</td>\n",
       "      <td>2</td>\n",
       "      <td>2012-03-12</td>\n",
       "      <td>11207</td>\n",
       "      <td>None</td>\n",
       "      <td>None</td>\n",
       "      <td>6.68</td>\n",
       "      <td>20120312</td>\n",
       "      <td>0</td>\n",
       "      <td>13.36</td>\n",
       "      <td>8.892590</td>\n",
       "    </tr>\n",
       "    <tr>\n",
       "      <th>6813825</th>\n",
       "      <td>HOBBIES_1_149_CA_2_evaluation</td>\n",
       "      <td>HOBBIES_1_149</td>\n",
       "      <td>HOBBIES_1</td>\n",
       "      <td>HOBBIES</td>\n",
       "      <td>CA_2</td>\n",
       "      <td>CA</td>\n",
       "      <td>d_863</td>\n",
       "      <td>3</td>\n",
       "      <td>2013-06-09</td>\n",
       "      <td>11320</td>\n",
       "      <td>None</td>\n",
       "      <td>None</td>\n",
       "      <td>1.56</td>\n",
       "      <td>20130609</td>\n",
       "      <td>6</td>\n",
       "      <td>4.68</td>\n",
       "      <td>3.042233</td>\n",
       "    </tr>\n",
       "  </tbody>\n",
       "</table>\n",
       "</div>"
      ],
      "text/plain": [
       "                                    id        item_id    dept_id   cat_id   \n",
       "6838756    FOODS_2_139_TX_2_evaluation    FOODS_2_139    FOODS_2    FOODS  \\\n",
       "2075541  HOBBIES_1_074_CA_3_evaluation  HOBBIES_1_074  HOBBIES_1  HOBBIES   \n",
       "7235180    FOODS_3_090_CA_4_evaluation    FOODS_3_090    FOODS_3    FOODS   \n",
       "2829131  HOBBIES_1_415_TX_1_evaluation  HOBBIES_1_415  HOBBIES_1  HOBBIES   \n",
       "6813825  HOBBIES_1_149_CA_2_evaluation  HOBBIES_1_149  HOBBIES_1  HOBBIES   \n",
       "\n",
       "        store_id state_id      d  items_sold       date  wm_yr_wk event_name   \n",
       "6838756     TX_2       TX  d_865           3 2013-06-11     11320       None  \\\n",
       "2075541     CA_3       CA  d_309           4 2011-12-03     11145       None   \n",
       "7235180     CA_4       CA  d_905          45 2013-07-21     11326       None   \n",
       "2829131     TX_1       TX  d_409           2 2012-03-12     11207       None   \n",
       "6813825     CA_2       CA  d_863           3 2013-06-09     11320       None   \n",
       "\n",
       "        event_type  sell_price  num_date  day_of_week  sale_revenue   \n",
       "6838756       None        2.98  20130611            1          8.94  \\\n",
       "2075541       None        3.67  20111203            5         14.68   \n",
       "7235180       None        1.38  20130721            6         62.10   \n",
       "2829131       None        6.68  20120312            0         13.36   \n",
       "6813825       None        1.56  20130609            6          4.68   \n",
       "\n",
       "         prediction  \n",
       "6838756    8.039880  \n",
       "2075541   13.690158  \n",
       "7235180  102.948337  \n",
       "2829131    8.892590  \n",
       "6813825    3.042233  "
      ]
     },
     "execution_count": 51,
     "metadata": {},
     "output_type": "execute_result"
    }
   ],
   "source": [
    "df_train.sample(5)"
   ]
  },
  {
   "cell_type": "markdown",
   "id": "bd594311-ad36-4d87-9f48-e446e9814fec",
   "metadata": {},
   "source": [
    "**Conclusion:** The model is performing better than the base model. We will build and evaluate some other algorithms in the next experiments to check if we are able to achieve better scores."
   ]
  }
 ],
 "metadata": {
  "kernelspec": {
   "display_name": "Python 3 (ipykernel)",
   "language": "python",
   "name": "python3"
  },
  "language_info": {
   "codemirror_mode": {
    "name": "ipython",
    "version": 3
   },
   "file_extension": ".py",
   "mimetype": "text/x-python",
   "name": "python",
   "nbconvert_exporter": "python",
   "pygments_lexer": "ipython3",
   "version": "3.11.4"
  }
 },
 "nbformat": 4,
 "nbformat_minor": 5
}
