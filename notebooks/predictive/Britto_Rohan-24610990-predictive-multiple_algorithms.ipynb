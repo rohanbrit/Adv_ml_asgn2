{
 "cells": [
  {
   "cell_type": "markdown",
   "id": "f4a8806b-6d06-4dfb-9e60-c1c4eb048fad",
   "metadata": {},
   "source": [
    "# Advanced Machine Learning Application - Assignment 2\n",
    "### Rohan Rocky Britto - Student ID: 24610990"
   ]
  },
  {
   "cell_type": "markdown",
   "id": "01d11e38-c0cb-4e56-8e07-88047348a333",
   "metadata": {
    "tags": []
   },
   "source": [
    "## Data Import and Preparation"
   ]
  },
  {
   "cell_type": "markdown",
   "id": "bf6d6571-1d51-458c-95ee-2e16667ad7c7",
   "metadata": {},
   "source": [
    "Importing required packages"
   ]
  },
  {
   "cell_type": "code",
   "execution_count": 1,
   "id": "9a600b70-08cb-4413-9411-0b20cf7c9177",
   "metadata": {
    "tags": []
   },
   "outputs": [],
   "source": [
    "import pandas as pd\n",
    "from joblib import dump, load\n",
    "from sklearn.pipeline import Pipeline"
   ]
  },
  {
   "cell_type": "markdown",
   "id": "5dca6da5-2ad4-4a9b-bb0c-021d2ed3abaf",
   "metadata": {},
   "source": [
    "Importing the function developed and saved to evaluate the model"
   ]
  },
  {
   "cell_type": "code",
   "execution_count": 2,
   "id": "356b17fb-5d23-4c0f-ab0e-262b5497c3ff",
   "metadata": {
    "tags": []
   },
   "outputs": [],
   "source": [
    "import sys\n",
    "sys.path.append('../../src')\n",
    "from functions import evaluate_model"
   ]
  },
  {
   "cell_type": "markdown",
   "id": "3071f65f-02ce-4a4e-8098-9d2bd326aeb8",
   "metadata": {},
   "source": [
    "Read the training and validation files"
   ]
  },
  {
   "cell_type": "code",
   "execution_count": 3,
   "id": "9d6320de-72bf-43ed-ae85-de825e8fbf49",
   "metadata": {
    "tags": []
   },
   "outputs": [
    {
     "name": "stderr",
     "output_type": "stream",
     "text": [
      "C:\\Users\\rohan\\AppData\\Local\\Temp\\ipykernel_16724\\2560510783.py:1: DtypeWarning: Columns (10,11) have mixed types. Specify dtype option on import or set low_memory=False.\n",
      "  df_train = pd.read_csv('../../data/processed/train_processed.csv')\n",
      "C:\\Users\\rohan\\AppData\\Local\\Temp\\ipykernel_16724\\2560510783.py:2: DtypeWarning: Columns (10,11) have mixed types. Specify dtype option on import or set low_memory=False.\n",
      "  df_validation = pd.read_csv('../../data/processed/validation_processed.csv')\n"
     ]
    }
   ],
   "source": [
    "df_train = pd.read_csv('../../data/processed/train_processed.csv')\n",
    "df_validation = pd.read_csv('../../data/processed/validation_processed.csv')"
   ]
  },
  {
   "cell_type": "markdown",
   "id": "428d9f9c-c4c6-4051-851b-8d4db4adfe07",
   "metadata": {},
   "source": [
    "Storing the target values in a separate variable"
   ]
  },
  {
   "cell_type": "code",
   "execution_count": 4,
   "id": "8b6346db-f896-4d9e-ab5a-0a5aef807113",
   "metadata": {
    "tags": []
   },
   "outputs": [],
   "source": [
    "train_target = df_train['sale_revenue']\n",
    "validation_target = df_validation['sale_revenue']"
   ]
  },
  {
   "cell_type": "markdown",
   "id": "962b115f-ede2-44a1-b9e7-bd47b8f4af60",
   "metadata": {},
   "source": [
    "Load the preprocessor pipeline"
   ]
  },
  {
   "cell_type": "code",
   "execution_count": 5,
   "id": "e70e60ed-68c3-41ab-bac9-d7a1450f6384",
   "metadata": {
    "tags": []
   },
   "outputs": [],
   "source": [
    "preprocessor_pipe = load('../../src/preprocessor_pipeline.joblib')"
   ]
  },
  {
   "cell_type": "markdown",
   "id": "b9bd6823-480f-4dc2-afbe-a2916d748fed",
   "metadata": {},
   "source": [
    "## Model Building"
   ]
  },
  {
   "cell_type": "markdown",
   "id": "572a9c59-918c-4270-9b82-f8bf12069b34",
   "metadata": {},
   "source": [
    "### Decision Tree"
   ]
  },
  {
   "cell_type": "markdown",
   "id": "6e3c381d-3e80-4bc3-8edc-6bd4bcc2e60b",
   "metadata": {},
   "source": [
    "Build a decision tree model and evaluate its performance"
   ]
  },
  {
   "cell_type": "code",
   "execution_count": 6,
   "id": "62d557b5-0be0-4dee-aab7-13f469f09260",
   "metadata": {
    "tags": []
   },
   "outputs": [],
   "source": [
    "from sklearn.tree import DecisionTreeRegressor"
   ]
  },
  {
   "cell_type": "code",
   "execution_count": 7,
   "id": "63abbcef-96dd-4728-9a43-aa6f2b5cb5d2",
   "metadata": {
    "tags": []
   },
   "outputs": [],
   "source": [
    "dtr_pipe = Pipeline(\n",
    "    steps=[\n",
    "        ('preprocessor', preprocessor_pipe),\n",
    "        ('dtr', DecisionTreeRegressor(random_state=8))\n",
    "    ]\n",
    ")"
   ]
  },
  {
   "cell_type": "code",
   "execution_count": 8,
   "id": "95f8f5f3-a768-467a-9bc0-08f6ffd6f50c",
   "metadata": {
    "tags": []
   },
   "outputs": [
    {
     "name": "stdout",
     "output_type": "stream",
     "text": [
      "CPU times: total: 2min 57s\n",
      "Wall time: 4min 31s\n"
     ]
    },
    {
     "data": {
      "text/html": [
       "<style>#sk-container-id-1 {color: black;}#sk-container-id-1 pre{padding: 0;}#sk-container-id-1 div.sk-toggleable {background-color: white;}#sk-container-id-1 label.sk-toggleable__label {cursor: pointer;display: block;width: 100%;margin-bottom: 0;padding: 0.3em;box-sizing: border-box;text-align: center;}#sk-container-id-1 label.sk-toggleable__label-arrow:before {content: \"▸\";float: left;margin-right: 0.25em;color: #696969;}#sk-container-id-1 label.sk-toggleable__label-arrow:hover:before {color: black;}#sk-container-id-1 div.sk-estimator:hover label.sk-toggleable__label-arrow:before {color: black;}#sk-container-id-1 div.sk-toggleable__content {max-height: 0;max-width: 0;overflow: hidden;text-align: left;background-color: #f0f8ff;}#sk-container-id-1 div.sk-toggleable__content pre {margin: 0.2em;color: black;border-radius: 0.25em;background-color: #f0f8ff;}#sk-container-id-1 input.sk-toggleable__control:checked~div.sk-toggleable__content {max-height: 200px;max-width: 100%;overflow: auto;}#sk-container-id-1 input.sk-toggleable__control:checked~label.sk-toggleable__label-arrow:before {content: \"▾\";}#sk-container-id-1 div.sk-estimator input.sk-toggleable__control:checked~label.sk-toggleable__label {background-color: #d4ebff;}#sk-container-id-1 div.sk-label input.sk-toggleable__control:checked~label.sk-toggleable__label {background-color: #d4ebff;}#sk-container-id-1 input.sk-hidden--visually {border: 0;clip: rect(1px 1px 1px 1px);clip: rect(1px, 1px, 1px, 1px);height: 1px;margin: -1px;overflow: hidden;padding: 0;position: absolute;width: 1px;}#sk-container-id-1 div.sk-estimator {font-family: monospace;background-color: #f0f8ff;border: 1px dotted black;border-radius: 0.25em;box-sizing: border-box;margin-bottom: 0.5em;}#sk-container-id-1 div.sk-estimator:hover {background-color: #d4ebff;}#sk-container-id-1 div.sk-parallel-item::after {content: \"\";width: 100%;border-bottom: 1px solid gray;flex-grow: 1;}#sk-container-id-1 div.sk-label:hover label.sk-toggleable__label {background-color: #d4ebff;}#sk-container-id-1 div.sk-serial::before {content: \"\";position: absolute;border-left: 1px solid gray;box-sizing: border-box;top: 0;bottom: 0;left: 50%;z-index: 0;}#sk-container-id-1 div.sk-serial {display: flex;flex-direction: column;align-items: center;background-color: white;padding-right: 0.2em;padding-left: 0.2em;position: relative;}#sk-container-id-1 div.sk-item {position: relative;z-index: 1;}#sk-container-id-1 div.sk-parallel {display: flex;align-items: stretch;justify-content: center;background-color: white;position: relative;}#sk-container-id-1 div.sk-item::before, #sk-container-id-1 div.sk-parallel-item::before {content: \"\";position: absolute;border-left: 1px solid gray;box-sizing: border-box;top: 0;bottom: 0;left: 50%;z-index: -1;}#sk-container-id-1 div.sk-parallel-item {display: flex;flex-direction: column;z-index: 1;position: relative;background-color: white;}#sk-container-id-1 div.sk-parallel-item:first-child::after {align-self: flex-end;width: 50%;}#sk-container-id-1 div.sk-parallel-item:last-child::after {align-self: flex-start;width: 50%;}#sk-container-id-1 div.sk-parallel-item:only-child::after {width: 0;}#sk-container-id-1 div.sk-dashed-wrapped {border: 1px dashed gray;margin: 0 0.4em 0.5em 0.4em;box-sizing: border-box;padding-bottom: 0.4em;background-color: white;}#sk-container-id-1 div.sk-label label {font-family: monospace;font-weight: bold;display: inline-block;line-height: 1.2em;}#sk-container-id-1 div.sk-label-container {text-align: center;}#sk-container-id-1 div.sk-container {/* jupyter's `normalize.less` sets `[hidden] { display: none; }` but bootstrap.min.css set `[hidden] { display: none !important; }` so we also need the `!important` here to be able to override the default hidden behavior on the sphinx rendered scikit-learn.org. See: https://github.com/scikit-learn/scikit-learn/issues/21755 */display: inline-block !important;position: relative;}#sk-container-id-1 div.sk-text-repr-fallback {display: none;}</style><div id=\"sk-container-id-1\" class=\"sk-top-container\"><div class=\"sk-text-repr-fallback\"><pre>Pipeline(steps=[(&#x27;preprocessor&#x27;,\n",
       "                 Pipeline(steps=[(&#x27;preprocessor&#x27;,\n",
       "                                  ColumnTransformer(transformers=[(&#x27;num_cols&#x27;,\n",
       "                                                                   Pipeline(steps=[(&#x27;scaler&#x27;,\n",
       "                                                                                    StandardScaler())]),\n",
       "                                                                   [&#x27;wm_yr_wk&#x27;,\n",
       "                                                                    &#x27;sell_price&#x27;,\n",
       "                                                                    &#x27;num_date&#x27;,\n",
       "                                                                    &#x27;day_of_week&#x27;]),\n",
       "                                                                  (&#x27;cat_ohe_transformer&#x27;,\n",
       "                                                                   Pipeline(steps=[(&#x27;one_hot_encoder&#x27;,\n",
       "                                                                                    OneHotEncoder(drop=&#x27;first&#x27;,\n",
       "                                                                                                  handle_unknown=&#x27;ignore&#x27;,\n",
       "                                                                                                  sparse_output=False))]),\n",
       "                                                                   [&#x27;cat_id&#x27;,\n",
       "                                                                    &#x27;state_id&#x27;,\n",
       "                                                                    &#x27;event_type&#x27;]),\n",
       "                                                                  (&#x27;cat_tar_transformer&#x27;,\n",
       "                                                                   Pipeline(steps=[(&#x27;target_encoder&#x27;,\n",
       "                                                                                    TargetEncoder(random_state=8))]),\n",
       "                                                                   [&#x27;item_id&#x27;,\n",
       "                                                                    &#x27;dept_id&#x27;,\n",
       "                                                                    &#x27;store_id&#x27;])]))])),\n",
       "                (&#x27;dtr&#x27;, DecisionTreeRegressor(random_state=8))])</pre><b>In a Jupyter environment, please rerun this cell to show the HTML representation or trust the notebook. <br />On GitHub, the HTML representation is unable to render, please try loading this page with nbviewer.org.</b></div><div class=\"sk-container\" hidden><div class=\"sk-item sk-dashed-wrapped\"><div class=\"sk-label-container\"><div class=\"sk-label sk-toggleable\"><input class=\"sk-toggleable__control sk-hidden--visually\" id=\"sk-estimator-id-1\" type=\"checkbox\" ><label for=\"sk-estimator-id-1\" class=\"sk-toggleable__label sk-toggleable__label-arrow\">Pipeline</label><div class=\"sk-toggleable__content\"><pre>Pipeline(steps=[(&#x27;preprocessor&#x27;,\n",
       "                 Pipeline(steps=[(&#x27;preprocessor&#x27;,\n",
       "                                  ColumnTransformer(transformers=[(&#x27;num_cols&#x27;,\n",
       "                                                                   Pipeline(steps=[(&#x27;scaler&#x27;,\n",
       "                                                                                    StandardScaler())]),\n",
       "                                                                   [&#x27;wm_yr_wk&#x27;,\n",
       "                                                                    &#x27;sell_price&#x27;,\n",
       "                                                                    &#x27;num_date&#x27;,\n",
       "                                                                    &#x27;day_of_week&#x27;]),\n",
       "                                                                  (&#x27;cat_ohe_transformer&#x27;,\n",
       "                                                                   Pipeline(steps=[(&#x27;one_hot_encoder&#x27;,\n",
       "                                                                                    OneHotEncoder(drop=&#x27;first&#x27;,\n",
       "                                                                                                  handle_unknown=&#x27;ignore&#x27;,\n",
       "                                                                                                  sparse_output=False))]),\n",
       "                                                                   [&#x27;cat_id&#x27;,\n",
       "                                                                    &#x27;state_id&#x27;,\n",
       "                                                                    &#x27;event_type&#x27;]),\n",
       "                                                                  (&#x27;cat_tar_transformer&#x27;,\n",
       "                                                                   Pipeline(steps=[(&#x27;target_encoder&#x27;,\n",
       "                                                                                    TargetEncoder(random_state=8))]),\n",
       "                                                                   [&#x27;item_id&#x27;,\n",
       "                                                                    &#x27;dept_id&#x27;,\n",
       "                                                                    &#x27;store_id&#x27;])]))])),\n",
       "                (&#x27;dtr&#x27;, DecisionTreeRegressor(random_state=8))])</pre></div></div></div><div class=\"sk-serial\"><div class=\"sk-item\"><div class=\"sk-label-container\"><div class=\"sk-label sk-toggleable\"><input class=\"sk-toggleable__control sk-hidden--visually\" id=\"sk-estimator-id-2\" type=\"checkbox\" ><label for=\"sk-estimator-id-2\" class=\"sk-toggleable__label sk-toggleable__label-arrow\">preprocessor: Pipeline</label><div class=\"sk-toggleable__content\"><pre>Pipeline(steps=[(&#x27;preprocessor&#x27;,\n",
       "                 ColumnTransformer(transformers=[(&#x27;num_cols&#x27;,\n",
       "                                                  Pipeline(steps=[(&#x27;scaler&#x27;,\n",
       "                                                                   StandardScaler())]),\n",
       "                                                  [&#x27;wm_yr_wk&#x27;, &#x27;sell_price&#x27;,\n",
       "                                                   &#x27;num_date&#x27;, &#x27;day_of_week&#x27;]),\n",
       "                                                 (&#x27;cat_ohe_transformer&#x27;,\n",
       "                                                  Pipeline(steps=[(&#x27;one_hot_encoder&#x27;,\n",
       "                                                                   OneHotEncoder(drop=&#x27;first&#x27;,\n",
       "                                                                                 handle_unknown=&#x27;ignore&#x27;,\n",
       "                                                                                 sparse_output=False))]),\n",
       "                                                  [&#x27;cat_id&#x27;, &#x27;state_id&#x27;,\n",
       "                                                   &#x27;event_type&#x27;]),\n",
       "                                                 (&#x27;cat_tar_transformer&#x27;,\n",
       "                                                  Pipeline(steps=[(&#x27;target_encoder&#x27;,\n",
       "                                                                   TargetEncoder(random_state=8))]),\n",
       "                                                  [&#x27;item_id&#x27;, &#x27;dept_id&#x27;,\n",
       "                                                   &#x27;store_id&#x27;])]))])</pre></div></div></div><div class=\"sk-serial\"><div class=\"sk-item sk-dashed-wrapped\"><div class=\"sk-label-container\"><div class=\"sk-label sk-toggleable\"><input class=\"sk-toggleable__control sk-hidden--visually\" id=\"sk-estimator-id-3\" type=\"checkbox\" ><label for=\"sk-estimator-id-3\" class=\"sk-toggleable__label sk-toggleable__label-arrow\">preprocessor: ColumnTransformer</label><div class=\"sk-toggleable__content\"><pre>ColumnTransformer(transformers=[(&#x27;num_cols&#x27;,\n",
       "                                 Pipeline(steps=[(&#x27;scaler&#x27;, StandardScaler())]),\n",
       "                                 [&#x27;wm_yr_wk&#x27;, &#x27;sell_price&#x27;, &#x27;num_date&#x27;,\n",
       "                                  &#x27;day_of_week&#x27;]),\n",
       "                                (&#x27;cat_ohe_transformer&#x27;,\n",
       "                                 Pipeline(steps=[(&#x27;one_hot_encoder&#x27;,\n",
       "                                                  OneHotEncoder(drop=&#x27;first&#x27;,\n",
       "                                                                handle_unknown=&#x27;ignore&#x27;,\n",
       "                                                                sparse_output=False))]),\n",
       "                                 [&#x27;cat_id&#x27;, &#x27;state_id&#x27;, &#x27;event_type&#x27;]),\n",
       "                                (&#x27;cat_tar_transformer&#x27;,\n",
       "                                 Pipeline(steps=[(&#x27;target_encoder&#x27;,\n",
       "                                                  TargetEncoder(random_state=8))]),\n",
       "                                 [&#x27;item_id&#x27;, &#x27;dept_id&#x27;, &#x27;store_id&#x27;])])</pre></div></div></div><div class=\"sk-parallel\"><div class=\"sk-parallel-item\"><div class=\"sk-item\"><div class=\"sk-label-container\"><div class=\"sk-label sk-toggleable\"><input class=\"sk-toggleable__control sk-hidden--visually\" id=\"sk-estimator-id-4\" type=\"checkbox\" ><label for=\"sk-estimator-id-4\" class=\"sk-toggleable__label sk-toggleable__label-arrow\">num_cols</label><div class=\"sk-toggleable__content\"><pre>[&#x27;wm_yr_wk&#x27;, &#x27;sell_price&#x27;, &#x27;num_date&#x27;, &#x27;day_of_week&#x27;]</pre></div></div></div><div class=\"sk-serial\"><div class=\"sk-item\"><div class=\"sk-serial\"><div class=\"sk-item\"><div class=\"sk-estimator sk-toggleable\"><input class=\"sk-toggleable__control sk-hidden--visually\" id=\"sk-estimator-id-5\" type=\"checkbox\" ><label for=\"sk-estimator-id-5\" class=\"sk-toggleable__label sk-toggleable__label-arrow\">StandardScaler</label><div class=\"sk-toggleable__content\"><pre>StandardScaler()</pre></div></div></div></div></div></div></div></div><div class=\"sk-parallel-item\"><div class=\"sk-item\"><div class=\"sk-label-container\"><div class=\"sk-label sk-toggleable\"><input class=\"sk-toggleable__control sk-hidden--visually\" id=\"sk-estimator-id-6\" type=\"checkbox\" ><label for=\"sk-estimator-id-6\" class=\"sk-toggleable__label sk-toggleable__label-arrow\">cat_ohe_transformer</label><div class=\"sk-toggleable__content\"><pre>[&#x27;cat_id&#x27;, &#x27;state_id&#x27;, &#x27;event_type&#x27;]</pre></div></div></div><div class=\"sk-serial\"><div class=\"sk-item\"><div class=\"sk-serial\"><div class=\"sk-item\"><div class=\"sk-estimator sk-toggleable\"><input class=\"sk-toggleable__control sk-hidden--visually\" id=\"sk-estimator-id-7\" type=\"checkbox\" ><label for=\"sk-estimator-id-7\" class=\"sk-toggleable__label sk-toggleable__label-arrow\">OneHotEncoder</label><div class=\"sk-toggleable__content\"><pre>OneHotEncoder(drop=&#x27;first&#x27;, handle_unknown=&#x27;ignore&#x27;, sparse_output=False)</pre></div></div></div></div></div></div></div></div><div class=\"sk-parallel-item\"><div class=\"sk-item\"><div class=\"sk-label-container\"><div class=\"sk-label sk-toggleable\"><input class=\"sk-toggleable__control sk-hidden--visually\" id=\"sk-estimator-id-8\" type=\"checkbox\" ><label for=\"sk-estimator-id-8\" class=\"sk-toggleable__label sk-toggleable__label-arrow\">cat_tar_transformer</label><div class=\"sk-toggleable__content\"><pre>[&#x27;item_id&#x27;, &#x27;dept_id&#x27;, &#x27;store_id&#x27;]</pre></div></div></div><div class=\"sk-serial\"><div class=\"sk-item\"><div class=\"sk-serial\"><div class=\"sk-item\"><div class=\"sk-estimator sk-toggleable\"><input class=\"sk-toggleable__control sk-hidden--visually\" id=\"sk-estimator-id-9\" type=\"checkbox\" ><label for=\"sk-estimator-id-9\" class=\"sk-toggleable__label sk-toggleable__label-arrow\">TargetEncoder</label><div class=\"sk-toggleable__content\"><pre>TargetEncoder(random_state=8)</pre></div></div></div></div></div></div></div></div></div></div></div></div><div class=\"sk-item\"><div class=\"sk-estimator sk-toggleable\"><input class=\"sk-toggleable__control sk-hidden--visually\" id=\"sk-estimator-id-10\" type=\"checkbox\" ><label for=\"sk-estimator-id-10\" class=\"sk-toggleable__label sk-toggleable__label-arrow\">DecisionTreeRegressor</label><div class=\"sk-toggleable__content\"><pre>DecisionTreeRegressor(random_state=8)</pre></div></div></div></div></div></div></div>"
      ],
      "text/plain": [
       "Pipeline(steps=[('preprocessor',\n",
       "                 Pipeline(steps=[('preprocessor',\n",
       "                                  ColumnTransformer(transformers=[('num_cols',\n",
       "                                                                   Pipeline(steps=[('scaler',\n",
       "                                                                                    StandardScaler())]),\n",
       "                                                                   ['wm_yr_wk',\n",
       "                                                                    'sell_price',\n",
       "                                                                    'num_date',\n",
       "                                                                    'day_of_week']),\n",
       "                                                                  ('cat_ohe_transformer',\n",
       "                                                                   Pipeline(steps=[('one_hot_encoder',\n",
       "                                                                                    OneHotEncoder(drop='first',\n",
       "                                                                                                  handle_unknown='ignore',\n",
       "                                                                                                  sparse_output=False))]),\n",
       "                                                                   ['cat_id',\n",
       "                                                                    'state_id',\n",
       "                                                                    'event_type']),\n",
       "                                                                  ('cat_tar_transformer',\n",
       "                                                                   Pipeline(steps=[('target_encoder',\n",
       "                                                                                    TargetEncoder(random_state=8))]),\n",
       "                                                                   ['item_id',\n",
       "                                                                    'dept_id',\n",
       "                                                                    'store_id'])]))])),\n",
       "                ('dtr', DecisionTreeRegressor(random_state=8))])"
      ]
     },
     "execution_count": 8,
     "metadata": {},
     "output_type": "execute_result"
    }
   ],
   "source": [
    "%%time\n",
    "dtr_pipe.fit(df_train, train_target)"
   ]
  },
  {
   "cell_type": "code",
   "execution_count": 9,
   "id": "6a223654-0da9-4698-a2f7-ca9c4f931280",
   "metadata": {
    "tags": []
   },
   "outputs": [],
   "source": [
    "train_preds = dtr_pipe.predict(df_train)"
   ]
  },
  {
   "cell_type": "code",
   "execution_count": 10,
   "id": "8811442d-5f46-4961-8aff-d8f7d6d0f7e9",
   "metadata": {
    "tags": []
   },
   "outputs": [],
   "source": [
    "validation_preds = dtr_pipe.predict(df_validation)"
   ]
  },
  {
   "cell_type": "code",
   "execution_count": 11,
   "id": "c117d1cc-6b31-4a3f-933b-0527e80e31b0",
   "metadata": {
    "tags": []
   },
   "outputs": [
    {
     "name": "stdout",
     "output_type": "stream",
     "text": [
      "The Mean Absolute Error for training set is  3.391042623025225\n",
      "The Mean Absolute Error for validation set is  6.88938695980446\n",
      "The Root Mean Squared Error for training set is  7.974908065841837\n",
      "The Root Mean Squared Error for validation set is  14.266072918946087\n"
     ]
    }
   ],
   "source": [
    "evaluate_model(train_target, train_preds, validation_target, validation_preds)"
   ]
  },
  {
   "cell_type": "code",
   "execution_count": 12,
   "id": "31d209b4-075d-4d6d-af4e-38de2598e5da",
   "metadata": {
    "tags": []
   },
   "outputs": [
    {
     "data": {
      "text/plain": [
       "['../../models/predictive/dtr_pipe.joblib']"
      ]
     },
     "execution_count": 12,
     "metadata": {},
     "output_type": "execute_result"
    }
   ],
   "source": [
    "dump(dtr_pipe, '../../models/predictive/dtr_pipe.joblib', compress=3)"
   ]
  },
  {
   "cell_type": "code",
   "execution_count": 13,
   "id": "e9d834ef-acbb-432d-b95b-ff40251f7a80",
   "metadata": {},
   "outputs": [],
   "source": [
    "df_train['dtr_preds'] = train_preds\n",
    "df_validation['dtr_preds'] = validation_preds"
   ]
  },
  {
   "cell_type": "markdown",
   "id": "a5bec315-c798-4c8e-b681-af9f71cbaf0d",
   "metadata": {},
   "source": [
    "### Adaboost"
   ]
  },
  {
   "cell_type": "markdown",
   "id": "0b89424c-fe39-493e-9bc5-e79a311f6b39",
   "metadata": {
    "tags": []
   },
   "source": [
    "Build a adaboost model and evaluate its performance"
   ]
  },
  {
   "cell_type": "code",
   "execution_count": 14,
   "id": "1f8b7e50-1c74-4a1c-b336-dd6cfa29b99d",
   "metadata": {
    "tags": []
   },
   "outputs": [],
   "source": [
    "from sklearn.ensemble import AdaBoostRegressor"
   ]
  },
  {
   "cell_type": "code",
   "execution_count": 15,
   "id": "044729b6-acd3-4780-8cfc-25ee49df8de9",
   "metadata": {
    "tags": []
   },
   "outputs": [],
   "source": [
    "adb_pipe = Pipeline(\n",
    "    steps=[\n",
    "        ('preprocessor', preprocessor_pipe),\n",
    "        ('adb', AdaBoostRegressor(random_state=8, n_estimators=100))\n",
    "    ]\n",
    ")"
   ]
  },
  {
   "cell_type": "code",
   "execution_count": 16,
   "id": "0e1d10c0-792a-4762-8d86-629fb8e60d50",
   "metadata": {
    "tags": []
   },
   "outputs": [
    {
     "name": "stdout",
     "output_type": "stream",
     "text": [
      "CPU times: total: 4min 43s\n",
      "Wall time: 9min 9s\n"
     ]
    },
    {
     "data": {
      "text/html": [
       "<style>#sk-container-id-2 {color: black;}#sk-container-id-2 pre{padding: 0;}#sk-container-id-2 div.sk-toggleable {background-color: white;}#sk-container-id-2 label.sk-toggleable__label {cursor: pointer;display: block;width: 100%;margin-bottom: 0;padding: 0.3em;box-sizing: border-box;text-align: center;}#sk-container-id-2 label.sk-toggleable__label-arrow:before {content: \"▸\";float: left;margin-right: 0.25em;color: #696969;}#sk-container-id-2 label.sk-toggleable__label-arrow:hover:before {color: black;}#sk-container-id-2 div.sk-estimator:hover label.sk-toggleable__label-arrow:before {color: black;}#sk-container-id-2 div.sk-toggleable__content {max-height: 0;max-width: 0;overflow: hidden;text-align: left;background-color: #f0f8ff;}#sk-container-id-2 div.sk-toggleable__content pre {margin: 0.2em;color: black;border-radius: 0.25em;background-color: #f0f8ff;}#sk-container-id-2 input.sk-toggleable__control:checked~div.sk-toggleable__content {max-height: 200px;max-width: 100%;overflow: auto;}#sk-container-id-2 input.sk-toggleable__control:checked~label.sk-toggleable__label-arrow:before {content: \"▾\";}#sk-container-id-2 div.sk-estimator input.sk-toggleable__control:checked~label.sk-toggleable__label {background-color: #d4ebff;}#sk-container-id-2 div.sk-label input.sk-toggleable__control:checked~label.sk-toggleable__label {background-color: #d4ebff;}#sk-container-id-2 input.sk-hidden--visually {border: 0;clip: rect(1px 1px 1px 1px);clip: rect(1px, 1px, 1px, 1px);height: 1px;margin: -1px;overflow: hidden;padding: 0;position: absolute;width: 1px;}#sk-container-id-2 div.sk-estimator {font-family: monospace;background-color: #f0f8ff;border: 1px dotted black;border-radius: 0.25em;box-sizing: border-box;margin-bottom: 0.5em;}#sk-container-id-2 div.sk-estimator:hover {background-color: #d4ebff;}#sk-container-id-2 div.sk-parallel-item::after {content: \"\";width: 100%;border-bottom: 1px solid gray;flex-grow: 1;}#sk-container-id-2 div.sk-label:hover label.sk-toggleable__label {background-color: #d4ebff;}#sk-container-id-2 div.sk-serial::before {content: \"\";position: absolute;border-left: 1px solid gray;box-sizing: border-box;top: 0;bottom: 0;left: 50%;z-index: 0;}#sk-container-id-2 div.sk-serial {display: flex;flex-direction: column;align-items: center;background-color: white;padding-right: 0.2em;padding-left: 0.2em;position: relative;}#sk-container-id-2 div.sk-item {position: relative;z-index: 1;}#sk-container-id-2 div.sk-parallel {display: flex;align-items: stretch;justify-content: center;background-color: white;position: relative;}#sk-container-id-2 div.sk-item::before, #sk-container-id-2 div.sk-parallel-item::before {content: \"\";position: absolute;border-left: 1px solid gray;box-sizing: border-box;top: 0;bottom: 0;left: 50%;z-index: -1;}#sk-container-id-2 div.sk-parallel-item {display: flex;flex-direction: column;z-index: 1;position: relative;background-color: white;}#sk-container-id-2 div.sk-parallel-item:first-child::after {align-self: flex-end;width: 50%;}#sk-container-id-2 div.sk-parallel-item:last-child::after {align-self: flex-start;width: 50%;}#sk-container-id-2 div.sk-parallel-item:only-child::after {width: 0;}#sk-container-id-2 div.sk-dashed-wrapped {border: 1px dashed gray;margin: 0 0.4em 0.5em 0.4em;box-sizing: border-box;padding-bottom: 0.4em;background-color: white;}#sk-container-id-2 div.sk-label label {font-family: monospace;font-weight: bold;display: inline-block;line-height: 1.2em;}#sk-container-id-2 div.sk-label-container {text-align: center;}#sk-container-id-2 div.sk-container {/* jupyter's `normalize.less` sets `[hidden] { display: none; }` but bootstrap.min.css set `[hidden] { display: none !important; }` so we also need the `!important` here to be able to override the default hidden behavior on the sphinx rendered scikit-learn.org. See: https://github.com/scikit-learn/scikit-learn/issues/21755 */display: inline-block !important;position: relative;}#sk-container-id-2 div.sk-text-repr-fallback {display: none;}</style><div id=\"sk-container-id-2\" class=\"sk-top-container\"><div class=\"sk-text-repr-fallback\"><pre>Pipeline(steps=[(&#x27;preprocessor&#x27;,\n",
       "                 Pipeline(steps=[(&#x27;preprocessor&#x27;,\n",
       "                                  ColumnTransformer(transformers=[(&#x27;num_cols&#x27;,\n",
       "                                                                   Pipeline(steps=[(&#x27;scaler&#x27;,\n",
       "                                                                                    StandardScaler())]),\n",
       "                                                                   [&#x27;wm_yr_wk&#x27;,\n",
       "                                                                    &#x27;sell_price&#x27;,\n",
       "                                                                    &#x27;num_date&#x27;,\n",
       "                                                                    &#x27;day_of_week&#x27;]),\n",
       "                                                                  (&#x27;cat_ohe_transformer&#x27;,\n",
       "                                                                   Pipeline(steps=[(&#x27;one_hot_encoder&#x27;,\n",
       "                                                                                    OneHotEncoder(drop=&#x27;first&#x27;,\n",
       "                                                                                                  handle_unknown=&#x27;ignore&#x27;,\n",
       "                                                                                                  sparse_output=False))]),\n",
       "                                                                   [&#x27;cat_id&#x27;,\n",
       "                                                                    &#x27;state_id&#x27;,\n",
       "                                                                    &#x27;event_type&#x27;]),\n",
       "                                                                  (&#x27;cat_tar_transformer&#x27;,\n",
       "                                                                   Pipeline(steps=[(&#x27;target_encoder&#x27;,\n",
       "                                                                                    TargetEncoder(random_state=8))]),\n",
       "                                                                   [&#x27;item_id&#x27;,\n",
       "                                                                    &#x27;dept_id&#x27;,\n",
       "                                                                    &#x27;store_id&#x27;])]))])),\n",
       "                (&#x27;adb&#x27;, AdaBoostRegressor(n_estimators=100, random_state=8))])</pre><b>In a Jupyter environment, please rerun this cell to show the HTML representation or trust the notebook. <br />On GitHub, the HTML representation is unable to render, please try loading this page with nbviewer.org.</b></div><div class=\"sk-container\" hidden><div class=\"sk-item sk-dashed-wrapped\"><div class=\"sk-label-container\"><div class=\"sk-label sk-toggleable\"><input class=\"sk-toggleable__control sk-hidden--visually\" id=\"sk-estimator-id-11\" type=\"checkbox\" ><label for=\"sk-estimator-id-11\" class=\"sk-toggleable__label sk-toggleable__label-arrow\">Pipeline</label><div class=\"sk-toggleable__content\"><pre>Pipeline(steps=[(&#x27;preprocessor&#x27;,\n",
       "                 Pipeline(steps=[(&#x27;preprocessor&#x27;,\n",
       "                                  ColumnTransformer(transformers=[(&#x27;num_cols&#x27;,\n",
       "                                                                   Pipeline(steps=[(&#x27;scaler&#x27;,\n",
       "                                                                                    StandardScaler())]),\n",
       "                                                                   [&#x27;wm_yr_wk&#x27;,\n",
       "                                                                    &#x27;sell_price&#x27;,\n",
       "                                                                    &#x27;num_date&#x27;,\n",
       "                                                                    &#x27;day_of_week&#x27;]),\n",
       "                                                                  (&#x27;cat_ohe_transformer&#x27;,\n",
       "                                                                   Pipeline(steps=[(&#x27;one_hot_encoder&#x27;,\n",
       "                                                                                    OneHotEncoder(drop=&#x27;first&#x27;,\n",
       "                                                                                                  handle_unknown=&#x27;ignore&#x27;,\n",
       "                                                                                                  sparse_output=False))]),\n",
       "                                                                   [&#x27;cat_id&#x27;,\n",
       "                                                                    &#x27;state_id&#x27;,\n",
       "                                                                    &#x27;event_type&#x27;]),\n",
       "                                                                  (&#x27;cat_tar_transformer&#x27;,\n",
       "                                                                   Pipeline(steps=[(&#x27;target_encoder&#x27;,\n",
       "                                                                                    TargetEncoder(random_state=8))]),\n",
       "                                                                   [&#x27;item_id&#x27;,\n",
       "                                                                    &#x27;dept_id&#x27;,\n",
       "                                                                    &#x27;store_id&#x27;])]))])),\n",
       "                (&#x27;adb&#x27;, AdaBoostRegressor(n_estimators=100, random_state=8))])</pre></div></div></div><div class=\"sk-serial\"><div class=\"sk-item\"><div class=\"sk-label-container\"><div class=\"sk-label sk-toggleable\"><input class=\"sk-toggleable__control sk-hidden--visually\" id=\"sk-estimator-id-12\" type=\"checkbox\" ><label for=\"sk-estimator-id-12\" class=\"sk-toggleable__label sk-toggleable__label-arrow\">preprocessor: Pipeline</label><div class=\"sk-toggleable__content\"><pre>Pipeline(steps=[(&#x27;preprocessor&#x27;,\n",
       "                 ColumnTransformer(transformers=[(&#x27;num_cols&#x27;,\n",
       "                                                  Pipeline(steps=[(&#x27;scaler&#x27;,\n",
       "                                                                   StandardScaler())]),\n",
       "                                                  [&#x27;wm_yr_wk&#x27;, &#x27;sell_price&#x27;,\n",
       "                                                   &#x27;num_date&#x27;, &#x27;day_of_week&#x27;]),\n",
       "                                                 (&#x27;cat_ohe_transformer&#x27;,\n",
       "                                                  Pipeline(steps=[(&#x27;one_hot_encoder&#x27;,\n",
       "                                                                   OneHotEncoder(drop=&#x27;first&#x27;,\n",
       "                                                                                 handle_unknown=&#x27;ignore&#x27;,\n",
       "                                                                                 sparse_output=False))]),\n",
       "                                                  [&#x27;cat_id&#x27;, &#x27;state_id&#x27;,\n",
       "                                                   &#x27;event_type&#x27;]),\n",
       "                                                 (&#x27;cat_tar_transformer&#x27;,\n",
       "                                                  Pipeline(steps=[(&#x27;target_encoder&#x27;,\n",
       "                                                                   TargetEncoder(random_state=8))]),\n",
       "                                                  [&#x27;item_id&#x27;, &#x27;dept_id&#x27;,\n",
       "                                                   &#x27;store_id&#x27;])]))])</pre></div></div></div><div class=\"sk-serial\"><div class=\"sk-item sk-dashed-wrapped\"><div class=\"sk-label-container\"><div class=\"sk-label sk-toggleable\"><input class=\"sk-toggleable__control sk-hidden--visually\" id=\"sk-estimator-id-13\" type=\"checkbox\" ><label for=\"sk-estimator-id-13\" class=\"sk-toggleable__label sk-toggleable__label-arrow\">preprocessor: ColumnTransformer</label><div class=\"sk-toggleable__content\"><pre>ColumnTransformer(transformers=[(&#x27;num_cols&#x27;,\n",
       "                                 Pipeline(steps=[(&#x27;scaler&#x27;, StandardScaler())]),\n",
       "                                 [&#x27;wm_yr_wk&#x27;, &#x27;sell_price&#x27;, &#x27;num_date&#x27;,\n",
       "                                  &#x27;day_of_week&#x27;]),\n",
       "                                (&#x27;cat_ohe_transformer&#x27;,\n",
       "                                 Pipeline(steps=[(&#x27;one_hot_encoder&#x27;,\n",
       "                                                  OneHotEncoder(drop=&#x27;first&#x27;,\n",
       "                                                                handle_unknown=&#x27;ignore&#x27;,\n",
       "                                                                sparse_output=False))]),\n",
       "                                 [&#x27;cat_id&#x27;, &#x27;state_id&#x27;, &#x27;event_type&#x27;]),\n",
       "                                (&#x27;cat_tar_transformer&#x27;,\n",
       "                                 Pipeline(steps=[(&#x27;target_encoder&#x27;,\n",
       "                                                  TargetEncoder(random_state=8))]),\n",
       "                                 [&#x27;item_id&#x27;, &#x27;dept_id&#x27;, &#x27;store_id&#x27;])])</pre></div></div></div><div class=\"sk-parallel\"><div class=\"sk-parallel-item\"><div class=\"sk-item\"><div class=\"sk-label-container\"><div class=\"sk-label sk-toggleable\"><input class=\"sk-toggleable__control sk-hidden--visually\" id=\"sk-estimator-id-14\" type=\"checkbox\" ><label for=\"sk-estimator-id-14\" class=\"sk-toggleable__label sk-toggleable__label-arrow\">num_cols</label><div class=\"sk-toggleable__content\"><pre>[&#x27;wm_yr_wk&#x27;, &#x27;sell_price&#x27;, &#x27;num_date&#x27;, &#x27;day_of_week&#x27;]</pre></div></div></div><div class=\"sk-serial\"><div class=\"sk-item\"><div class=\"sk-serial\"><div class=\"sk-item\"><div class=\"sk-estimator sk-toggleable\"><input class=\"sk-toggleable__control sk-hidden--visually\" id=\"sk-estimator-id-15\" type=\"checkbox\" ><label for=\"sk-estimator-id-15\" class=\"sk-toggleable__label sk-toggleable__label-arrow\">StandardScaler</label><div class=\"sk-toggleable__content\"><pre>StandardScaler()</pre></div></div></div></div></div></div></div></div><div class=\"sk-parallel-item\"><div class=\"sk-item\"><div class=\"sk-label-container\"><div class=\"sk-label sk-toggleable\"><input class=\"sk-toggleable__control sk-hidden--visually\" id=\"sk-estimator-id-16\" type=\"checkbox\" ><label for=\"sk-estimator-id-16\" class=\"sk-toggleable__label sk-toggleable__label-arrow\">cat_ohe_transformer</label><div class=\"sk-toggleable__content\"><pre>[&#x27;cat_id&#x27;, &#x27;state_id&#x27;, &#x27;event_type&#x27;]</pre></div></div></div><div class=\"sk-serial\"><div class=\"sk-item\"><div class=\"sk-serial\"><div class=\"sk-item\"><div class=\"sk-estimator sk-toggleable\"><input class=\"sk-toggleable__control sk-hidden--visually\" id=\"sk-estimator-id-17\" type=\"checkbox\" ><label for=\"sk-estimator-id-17\" class=\"sk-toggleable__label sk-toggleable__label-arrow\">OneHotEncoder</label><div class=\"sk-toggleable__content\"><pre>OneHotEncoder(drop=&#x27;first&#x27;, handle_unknown=&#x27;ignore&#x27;, sparse_output=False)</pre></div></div></div></div></div></div></div></div><div class=\"sk-parallel-item\"><div class=\"sk-item\"><div class=\"sk-label-container\"><div class=\"sk-label sk-toggleable\"><input class=\"sk-toggleable__control sk-hidden--visually\" id=\"sk-estimator-id-18\" type=\"checkbox\" ><label for=\"sk-estimator-id-18\" class=\"sk-toggleable__label sk-toggleable__label-arrow\">cat_tar_transformer</label><div class=\"sk-toggleable__content\"><pre>[&#x27;item_id&#x27;, &#x27;dept_id&#x27;, &#x27;store_id&#x27;]</pre></div></div></div><div class=\"sk-serial\"><div class=\"sk-item\"><div class=\"sk-serial\"><div class=\"sk-item\"><div class=\"sk-estimator sk-toggleable\"><input class=\"sk-toggleable__control sk-hidden--visually\" id=\"sk-estimator-id-19\" type=\"checkbox\" ><label for=\"sk-estimator-id-19\" class=\"sk-toggleable__label sk-toggleable__label-arrow\">TargetEncoder</label><div class=\"sk-toggleable__content\"><pre>TargetEncoder(random_state=8)</pre></div></div></div></div></div></div></div></div></div></div></div></div><div class=\"sk-item\"><div class=\"sk-estimator sk-toggleable\"><input class=\"sk-toggleable__control sk-hidden--visually\" id=\"sk-estimator-id-20\" type=\"checkbox\" ><label for=\"sk-estimator-id-20\" class=\"sk-toggleable__label sk-toggleable__label-arrow\">AdaBoostRegressor</label><div class=\"sk-toggleable__content\"><pre>AdaBoostRegressor(n_estimators=100, random_state=8)</pre></div></div></div></div></div></div></div>"
      ],
      "text/plain": [
       "Pipeline(steps=[('preprocessor',\n",
       "                 Pipeline(steps=[('preprocessor',\n",
       "                                  ColumnTransformer(transformers=[('num_cols',\n",
       "                                                                   Pipeline(steps=[('scaler',\n",
       "                                                                                    StandardScaler())]),\n",
       "                                                                   ['wm_yr_wk',\n",
       "                                                                    'sell_price',\n",
       "                                                                    'num_date',\n",
       "                                                                    'day_of_week']),\n",
       "                                                                  ('cat_ohe_transformer',\n",
       "                                                                   Pipeline(steps=[('one_hot_encoder',\n",
       "                                                                                    OneHotEncoder(drop='first',\n",
       "                                                                                                  handle_unknown='ignore',\n",
       "                                                                                                  sparse_output=False))]),\n",
       "                                                                   ['cat_id',\n",
       "                                                                    'state_id',\n",
       "                                                                    'event_type']),\n",
       "                                                                  ('cat_tar_transformer',\n",
       "                                                                   Pipeline(steps=[('target_encoder',\n",
       "                                                                                    TargetEncoder(random_state=8))]),\n",
       "                                                                   ['item_id',\n",
       "                                                                    'dept_id',\n",
       "                                                                    'store_id'])]))])),\n",
       "                ('adb', AdaBoostRegressor(n_estimators=100, random_state=8))])"
      ]
     },
     "execution_count": 16,
     "metadata": {},
     "output_type": "execute_result"
    }
   ],
   "source": [
    "%%time\n",
    "adb_pipe.fit(df_train, train_target)"
   ]
  },
  {
   "cell_type": "code",
   "execution_count": 17,
   "id": "4eef2520-72cb-45d6-bae2-497bc52ac941",
   "metadata": {
    "tags": []
   },
   "outputs": [],
   "source": [
    "train_preds = adb_pipe.predict(df_train)"
   ]
  },
  {
   "cell_type": "code",
   "execution_count": 18,
   "id": "f3817552-e7da-4bb9-94db-eae623716f5f",
   "metadata": {
    "tags": []
   },
   "outputs": [],
   "source": [
    "validation_preds = adb_pipe.predict(df_validation)"
   ]
  },
  {
   "cell_type": "code",
   "execution_count": 19,
   "id": "eaebbbc4-ab49-4e58-a91c-f1994e2b623e",
   "metadata": {
    "tags": []
   },
   "outputs": [
    {
     "name": "stdout",
     "output_type": "stream",
     "text": [
      "The Mean Absolute Error for training set is  7.084637991693634\n",
      "The Mean Absolute Error for validation set is  7.153253882854609\n",
      "The Root Mean Squared Error for training set is  12.403508894278552\n",
      "The Root Mean Squared Error for validation set is  13.298755768992525\n"
     ]
    }
   ],
   "source": [
    "evaluate_model(train_target, train_preds, validation_target, validation_preds)"
   ]
  },
  {
   "cell_type": "code",
   "execution_count": 20,
   "id": "805b5bb1-3672-45fd-9765-eef27c84c493",
   "metadata": {
    "tags": []
   },
   "outputs": [
    {
     "data": {
      "text/plain": [
       "['../../models/predictive/adb_pipe.joblib']"
      ]
     },
     "execution_count": 20,
     "metadata": {},
     "output_type": "execute_result"
    }
   ],
   "source": [
    "dump(adb_pipe, '../../models/predictive/adb_pipe.joblib', compress=3)"
   ]
  },
  {
   "cell_type": "code",
   "execution_count": 21,
   "id": "25a5a224-ef67-4aa0-9854-baf63194f448",
   "metadata": {
    "tags": []
   },
   "outputs": [],
   "source": [
    "df_train['adb_preds'] = train_preds\n",
    "df_validation['adb_preds'] = validation_preds"
   ]
  },
  {
   "cell_type": "markdown",
   "id": "ee91befa-7bee-43a4-b022-59e0764f41ae",
   "metadata": {},
   "source": [
    "### Random Forest"
   ]
  },
  {
   "cell_type": "markdown",
   "id": "acdb17f4-3427-42f9-891e-aaf72aab2c34",
   "metadata": {},
   "source": [
    "Build a random forest model and evaluate its performance"
   ]
  },
  {
   "cell_type": "code",
   "execution_count": 22,
   "id": "d4440344-6f4c-488a-8e9a-0f96e1139bc5",
   "metadata": {
    "tags": []
   },
   "outputs": [],
   "source": [
    "from sklearn.ensemble import RandomForestRegressor"
   ]
  },
  {
   "cell_type": "code",
   "execution_count": 23,
   "id": "a5e6ae99-d2ac-4c0d-a572-11a73b0e7b3a",
   "metadata": {
    "tags": []
   },
   "outputs": [],
   "source": [
    "rf_pipe = Pipeline(\n",
    "    steps=[\n",
    "        ('preprocessor', preprocessor_pipe),\n",
    "        ('rf', RandomForestRegressor(random_state=8, n_estimators=25, max_depth=15, min_samples_leaf=3))\n",
    "    ]\n",
    ")"
   ]
  },
  {
   "cell_type": "code",
   "execution_count": 24,
   "id": "da985572-eb78-48eb-b589-9d7c48368006",
   "metadata": {
    "tags": []
   },
   "outputs": [
    {
     "name": "stdout",
     "output_type": "stream",
     "text": [
      "CPU times: total: 4min 19s\n",
      "Wall time: 16min 24s\n"
     ]
    },
    {
     "data": {
      "text/html": [
       "<style>#sk-container-id-3 {color: black;}#sk-container-id-3 pre{padding: 0;}#sk-container-id-3 div.sk-toggleable {background-color: white;}#sk-container-id-3 label.sk-toggleable__label {cursor: pointer;display: block;width: 100%;margin-bottom: 0;padding: 0.3em;box-sizing: border-box;text-align: center;}#sk-container-id-3 label.sk-toggleable__label-arrow:before {content: \"▸\";float: left;margin-right: 0.25em;color: #696969;}#sk-container-id-3 label.sk-toggleable__label-arrow:hover:before {color: black;}#sk-container-id-3 div.sk-estimator:hover label.sk-toggleable__label-arrow:before {color: black;}#sk-container-id-3 div.sk-toggleable__content {max-height: 0;max-width: 0;overflow: hidden;text-align: left;background-color: #f0f8ff;}#sk-container-id-3 div.sk-toggleable__content pre {margin: 0.2em;color: black;border-radius: 0.25em;background-color: #f0f8ff;}#sk-container-id-3 input.sk-toggleable__control:checked~div.sk-toggleable__content {max-height: 200px;max-width: 100%;overflow: auto;}#sk-container-id-3 input.sk-toggleable__control:checked~label.sk-toggleable__label-arrow:before {content: \"▾\";}#sk-container-id-3 div.sk-estimator input.sk-toggleable__control:checked~label.sk-toggleable__label {background-color: #d4ebff;}#sk-container-id-3 div.sk-label input.sk-toggleable__control:checked~label.sk-toggleable__label {background-color: #d4ebff;}#sk-container-id-3 input.sk-hidden--visually {border: 0;clip: rect(1px 1px 1px 1px);clip: rect(1px, 1px, 1px, 1px);height: 1px;margin: -1px;overflow: hidden;padding: 0;position: absolute;width: 1px;}#sk-container-id-3 div.sk-estimator {font-family: monospace;background-color: #f0f8ff;border: 1px dotted black;border-radius: 0.25em;box-sizing: border-box;margin-bottom: 0.5em;}#sk-container-id-3 div.sk-estimator:hover {background-color: #d4ebff;}#sk-container-id-3 div.sk-parallel-item::after {content: \"\";width: 100%;border-bottom: 1px solid gray;flex-grow: 1;}#sk-container-id-3 div.sk-label:hover label.sk-toggleable__label {background-color: #d4ebff;}#sk-container-id-3 div.sk-serial::before {content: \"\";position: absolute;border-left: 1px solid gray;box-sizing: border-box;top: 0;bottom: 0;left: 50%;z-index: 0;}#sk-container-id-3 div.sk-serial {display: flex;flex-direction: column;align-items: center;background-color: white;padding-right: 0.2em;padding-left: 0.2em;position: relative;}#sk-container-id-3 div.sk-item {position: relative;z-index: 1;}#sk-container-id-3 div.sk-parallel {display: flex;align-items: stretch;justify-content: center;background-color: white;position: relative;}#sk-container-id-3 div.sk-item::before, #sk-container-id-3 div.sk-parallel-item::before {content: \"\";position: absolute;border-left: 1px solid gray;box-sizing: border-box;top: 0;bottom: 0;left: 50%;z-index: -1;}#sk-container-id-3 div.sk-parallel-item {display: flex;flex-direction: column;z-index: 1;position: relative;background-color: white;}#sk-container-id-3 div.sk-parallel-item:first-child::after {align-self: flex-end;width: 50%;}#sk-container-id-3 div.sk-parallel-item:last-child::after {align-self: flex-start;width: 50%;}#sk-container-id-3 div.sk-parallel-item:only-child::after {width: 0;}#sk-container-id-3 div.sk-dashed-wrapped {border: 1px dashed gray;margin: 0 0.4em 0.5em 0.4em;box-sizing: border-box;padding-bottom: 0.4em;background-color: white;}#sk-container-id-3 div.sk-label label {font-family: monospace;font-weight: bold;display: inline-block;line-height: 1.2em;}#sk-container-id-3 div.sk-label-container {text-align: center;}#sk-container-id-3 div.sk-container {/* jupyter's `normalize.less` sets `[hidden] { display: none; }` but bootstrap.min.css set `[hidden] { display: none !important; }` so we also need the `!important` here to be able to override the default hidden behavior on the sphinx rendered scikit-learn.org. See: https://github.com/scikit-learn/scikit-learn/issues/21755 */display: inline-block !important;position: relative;}#sk-container-id-3 div.sk-text-repr-fallback {display: none;}</style><div id=\"sk-container-id-3\" class=\"sk-top-container\"><div class=\"sk-text-repr-fallback\"><pre>Pipeline(steps=[(&#x27;preprocessor&#x27;,\n",
       "                 Pipeline(steps=[(&#x27;preprocessor&#x27;,\n",
       "                                  ColumnTransformer(transformers=[(&#x27;num_cols&#x27;,\n",
       "                                                                   Pipeline(steps=[(&#x27;scaler&#x27;,\n",
       "                                                                                    StandardScaler())]),\n",
       "                                                                   [&#x27;wm_yr_wk&#x27;,\n",
       "                                                                    &#x27;sell_price&#x27;,\n",
       "                                                                    &#x27;num_date&#x27;,\n",
       "                                                                    &#x27;day_of_week&#x27;]),\n",
       "                                                                  (&#x27;cat_ohe_transformer&#x27;,\n",
       "                                                                   Pipeline(steps=[(&#x27;one_hot_encoder&#x27;,\n",
       "                                                                                    OneHotEncoder(drop=&#x27;first&#x27;,\n",
       "                                                                                                  handle_unknown=&#x27;ignore&#x27;,\n",
       "                                                                                                  sparse_output=False))]),\n",
       "                                                                   [&#x27;cat_id&#x27;,\n",
       "                                                                    &#x27;state_id&#x27;,\n",
       "                                                                    &#x27;event_type&#x27;]),\n",
       "                                                                  (&#x27;cat_tar_transformer&#x27;,\n",
       "                                                                   Pipeline(steps=[(&#x27;target_encoder&#x27;,\n",
       "                                                                                    TargetEncoder(random_state=8))]),\n",
       "                                                                   [&#x27;item_id&#x27;,\n",
       "                                                                    &#x27;dept_id&#x27;,\n",
       "                                                                    &#x27;store_id&#x27;])]))])),\n",
       "                (&#x27;rf&#x27;,\n",
       "                 RandomForestRegressor(max_depth=15, min_samples_leaf=3,\n",
       "                                       n_estimators=25, random_state=8))])</pre><b>In a Jupyter environment, please rerun this cell to show the HTML representation or trust the notebook. <br />On GitHub, the HTML representation is unable to render, please try loading this page with nbviewer.org.</b></div><div class=\"sk-container\" hidden><div class=\"sk-item sk-dashed-wrapped\"><div class=\"sk-label-container\"><div class=\"sk-label sk-toggleable\"><input class=\"sk-toggleable__control sk-hidden--visually\" id=\"sk-estimator-id-21\" type=\"checkbox\" ><label for=\"sk-estimator-id-21\" class=\"sk-toggleable__label sk-toggleable__label-arrow\">Pipeline</label><div class=\"sk-toggleable__content\"><pre>Pipeline(steps=[(&#x27;preprocessor&#x27;,\n",
       "                 Pipeline(steps=[(&#x27;preprocessor&#x27;,\n",
       "                                  ColumnTransformer(transformers=[(&#x27;num_cols&#x27;,\n",
       "                                                                   Pipeline(steps=[(&#x27;scaler&#x27;,\n",
       "                                                                                    StandardScaler())]),\n",
       "                                                                   [&#x27;wm_yr_wk&#x27;,\n",
       "                                                                    &#x27;sell_price&#x27;,\n",
       "                                                                    &#x27;num_date&#x27;,\n",
       "                                                                    &#x27;day_of_week&#x27;]),\n",
       "                                                                  (&#x27;cat_ohe_transformer&#x27;,\n",
       "                                                                   Pipeline(steps=[(&#x27;one_hot_encoder&#x27;,\n",
       "                                                                                    OneHotEncoder(drop=&#x27;first&#x27;,\n",
       "                                                                                                  handle_unknown=&#x27;ignore&#x27;,\n",
       "                                                                                                  sparse_output=False))]),\n",
       "                                                                   [&#x27;cat_id&#x27;,\n",
       "                                                                    &#x27;state_id&#x27;,\n",
       "                                                                    &#x27;event_type&#x27;]),\n",
       "                                                                  (&#x27;cat_tar_transformer&#x27;,\n",
       "                                                                   Pipeline(steps=[(&#x27;target_encoder&#x27;,\n",
       "                                                                                    TargetEncoder(random_state=8))]),\n",
       "                                                                   [&#x27;item_id&#x27;,\n",
       "                                                                    &#x27;dept_id&#x27;,\n",
       "                                                                    &#x27;store_id&#x27;])]))])),\n",
       "                (&#x27;rf&#x27;,\n",
       "                 RandomForestRegressor(max_depth=15, min_samples_leaf=3,\n",
       "                                       n_estimators=25, random_state=8))])</pre></div></div></div><div class=\"sk-serial\"><div class=\"sk-item\"><div class=\"sk-label-container\"><div class=\"sk-label sk-toggleable\"><input class=\"sk-toggleable__control sk-hidden--visually\" id=\"sk-estimator-id-22\" type=\"checkbox\" ><label for=\"sk-estimator-id-22\" class=\"sk-toggleable__label sk-toggleable__label-arrow\">preprocessor: Pipeline</label><div class=\"sk-toggleable__content\"><pre>Pipeline(steps=[(&#x27;preprocessor&#x27;,\n",
       "                 ColumnTransformer(transformers=[(&#x27;num_cols&#x27;,\n",
       "                                                  Pipeline(steps=[(&#x27;scaler&#x27;,\n",
       "                                                                   StandardScaler())]),\n",
       "                                                  [&#x27;wm_yr_wk&#x27;, &#x27;sell_price&#x27;,\n",
       "                                                   &#x27;num_date&#x27;, &#x27;day_of_week&#x27;]),\n",
       "                                                 (&#x27;cat_ohe_transformer&#x27;,\n",
       "                                                  Pipeline(steps=[(&#x27;one_hot_encoder&#x27;,\n",
       "                                                                   OneHotEncoder(drop=&#x27;first&#x27;,\n",
       "                                                                                 handle_unknown=&#x27;ignore&#x27;,\n",
       "                                                                                 sparse_output=False))]),\n",
       "                                                  [&#x27;cat_id&#x27;, &#x27;state_id&#x27;,\n",
       "                                                   &#x27;event_type&#x27;]),\n",
       "                                                 (&#x27;cat_tar_transformer&#x27;,\n",
       "                                                  Pipeline(steps=[(&#x27;target_encoder&#x27;,\n",
       "                                                                   TargetEncoder(random_state=8))]),\n",
       "                                                  [&#x27;item_id&#x27;, &#x27;dept_id&#x27;,\n",
       "                                                   &#x27;store_id&#x27;])]))])</pre></div></div></div><div class=\"sk-serial\"><div class=\"sk-item sk-dashed-wrapped\"><div class=\"sk-label-container\"><div class=\"sk-label sk-toggleable\"><input class=\"sk-toggleable__control sk-hidden--visually\" id=\"sk-estimator-id-23\" type=\"checkbox\" ><label for=\"sk-estimator-id-23\" class=\"sk-toggleable__label sk-toggleable__label-arrow\">preprocessor: ColumnTransformer</label><div class=\"sk-toggleable__content\"><pre>ColumnTransformer(transformers=[(&#x27;num_cols&#x27;,\n",
       "                                 Pipeline(steps=[(&#x27;scaler&#x27;, StandardScaler())]),\n",
       "                                 [&#x27;wm_yr_wk&#x27;, &#x27;sell_price&#x27;, &#x27;num_date&#x27;,\n",
       "                                  &#x27;day_of_week&#x27;]),\n",
       "                                (&#x27;cat_ohe_transformer&#x27;,\n",
       "                                 Pipeline(steps=[(&#x27;one_hot_encoder&#x27;,\n",
       "                                                  OneHotEncoder(drop=&#x27;first&#x27;,\n",
       "                                                                handle_unknown=&#x27;ignore&#x27;,\n",
       "                                                                sparse_output=False))]),\n",
       "                                 [&#x27;cat_id&#x27;, &#x27;state_id&#x27;, &#x27;event_type&#x27;]),\n",
       "                                (&#x27;cat_tar_transformer&#x27;,\n",
       "                                 Pipeline(steps=[(&#x27;target_encoder&#x27;,\n",
       "                                                  TargetEncoder(random_state=8))]),\n",
       "                                 [&#x27;item_id&#x27;, &#x27;dept_id&#x27;, &#x27;store_id&#x27;])])</pre></div></div></div><div class=\"sk-parallel\"><div class=\"sk-parallel-item\"><div class=\"sk-item\"><div class=\"sk-label-container\"><div class=\"sk-label sk-toggleable\"><input class=\"sk-toggleable__control sk-hidden--visually\" id=\"sk-estimator-id-24\" type=\"checkbox\" ><label for=\"sk-estimator-id-24\" class=\"sk-toggleable__label sk-toggleable__label-arrow\">num_cols</label><div class=\"sk-toggleable__content\"><pre>[&#x27;wm_yr_wk&#x27;, &#x27;sell_price&#x27;, &#x27;num_date&#x27;, &#x27;day_of_week&#x27;]</pre></div></div></div><div class=\"sk-serial\"><div class=\"sk-item\"><div class=\"sk-serial\"><div class=\"sk-item\"><div class=\"sk-estimator sk-toggleable\"><input class=\"sk-toggleable__control sk-hidden--visually\" id=\"sk-estimator-id-25\" type=\"checkbox\" ><label for=\"sk-estimator-id-25\" class=\"sk-toggleable__label sk-toggleable__label-arrow\">StandardScaler</label><div class=\"sk-toggleable__content\"><pre>StandardScaler()</pre></div></div></div></div></div></div></div></div><div class=\"sk-parallel-item\"><div class=\"sk-item\"><div class=\"sk-label-container\"><div class=\"sk-label sk-toggleable\"><input class=\"sk-toggleable__control sk-hidden--visually\" id=\"sk-estimator-id-26\" type=\"checkbox\" ><label for=\"sk-estimator-id-26\" class=\"sk-toggleable__label sk-toggleable__label-arrow\">cat_ohe_transformer</label><div class=\"sk-toggleable__content\"><pre>[&#x27;cat_id&#x27;, &#x27;state_id&#x27;, &#x27;event_type&#x27;]</pre></div></div></div><div class=\"sk-serial\"><div class=\"sk-item\"><div class=\"sk-serial\"><div class=\"sk-item\"><div class=\"sk-estimator sk-toggleable\"><input class=\"sk-toggleable__control sk-hidden--visually\" id=\"sk-estimator-id-27\" type=\"checkbox\" ><label for=\"sk-estimator-id-27\" class=\"sk-toggleable__label sk-toggleable__label-arrow\">OneHotEncoder</label><div class=\"sk-toggleable__content\"><pre>OneHotEncoder(drop=&#x27;first&#x27;, handle_unknown=&#x27;ignore&#x27;, sparse_output=False)</pre></div></div></div></div></div></div></div></div><div class=\"sk-parallel-item\"><div class=\"sk-item\"><div class=\"sk-label-container\"><div class=\"sk-label sk-toggleable\"><input class=\"sk-toggleable__control sk-hidden--visually\" id=\"sk-estimator-id-28\" type=\"checkbox\" ><label for=\"sk-estimator-id-28\" class=\"sk-toggleable__label sk-toggleable__label-arrow\">cat_tar_transformer</label><div class=\"sk-toggleable__content\"><pre>[&#x27;item_id&#x27;, &#x27;dept_id&#x27;, &#x27;store_id&#x27;]</pre></div></div></div><div class=\"sk-serial\"><div class=\"sk-item\"><div class=\"sk-serial\"><div class=\"sk-item\"><div class=\"sk-estimator sk-toggleable\"><input class=\"sk-toggleable__control sk-hidden--visually\" id=\"sk-estimator-id-29\" type=\"checkbox\" ><label for=\"sk-estimator-id-29\" class=\"sk-toggleable__label sk-toggleable__label-arrow\">TargetEncoder</label><div class=\"sk-toggleable__content\"><pre>TargetEncoder(random_state=8)</pre></div></div></div></div></div></div></div></div></div></div></div></div><div class=\"sk-item\"><div class=\"sk-estimator sk-toggleable\"><input class=\"sk-toggleable__control sk-hidden--visually\" id=\"sk-estimator-id-30\" type=\"checkbox\" ><label for=\"sk-estimator-id-30\" class=\"sk-toggleable__label sk-toggleable__label-arrow\">RandomForestRegressor</label><div class=\"sk-toggleable__content\"><pre>RandomForestRegressor(max_depth=15, min_samples_leaf=3, n_estimators=25,\n",
       "                      random_state=8)</pre></div></div></div></div></div></div></div>"
      ],
      "text/plain": [
       "Pipeline(steps=[('preprocessor',\n",
       "                 Pipeline(steps=[('preprocessor',\n",
       "                                  ColumnTransformer(transformers=[('num_cols',\n",
       "                                                                   Pipeline(steps=[('scaler',\n",
       "                                                                                    StandardScaler())]),\n",
       "                                                                   ['wm_yr_wk',\n",
       "                                                                    'sell_price',\n",
       "                                                                    'num_date',\n",
       "                                                                    'day_of_week']),\n",
       "                                                                  ('cat_ohe_transformer',\n",
       "                                                                   Pipeline(steps=[('one_hot_encoder',\n",
       "                                                                                    OneHotEncoder(drop='first',\n",
       "                                                                                                  handle_unknown='ignore',\n",
       "                                                                                                  sparse_output=False))]),\n",
       "                                                                   ['cat_id',\n",
       "                                                                    'state_id',\n",
       "                                                                    'event_type']),\n",
       "                                                                  ('cat_tar_transformer',\n",
       "                                                                   Pipeline(steps=[('target_encoder',\n",
       "                                                                                    TargetEncoder(random_state=8))]),\n",
       "                                                                   ['item_id',\n",
       "                                                                    'dept_id',\n",
       "                                                                    'store_id'])]))])),\n",
       "                ('rf',\n",
       "                 RandomForestRegressor(max_depth=15, min_samples_leaf=3,\n",
       "                                       n_estimators=25, random_state=8))])"
      ]
     },
     "execution_count": 24,
     "metadata": {},
     "output_type": "execute_result"
    }
   ],
   "source": [
    "%%time\n",
    "rf_pipe.fit(df_train, train_target)"
   ]
  },
  {
   "cell_type": "code",
   "execution_count": 25,
   "id": "128445ce-4fd6-4bfb-8c60-864d4fbaffd3",
   "metadata": {
    "tags": []
   },
   "outputs": [],
   "source": [
    "train_preds = rf_pipe.predict(df_train)"
   ]
  },
  {
   "cell_type": "code",
   "execution_count": 26,
   "id": "5eb44b5b-e84b-4ab6-8d46-87cd4c5ee5bc",
   "metadata": {
    "tags": []
   },
   "outputs": [],
   "source": [
    "validation_preds = rf_pipe.predict(df_validation)"
   ]
  },
  {
   "cell_type": "code",
   "execution_count": 27,
   "id": "4086938f-61be-4d03-8ca2-7d7b956eaa1b",
   "metadata": {
    "tags": []
   },
   "outputs": [
    {
     "name": "stdout",
     "output_type": "stream",
     "text": [
      "The Mean Absolute Error for training set is  4.643331423752109\n",
      "The Mean Absolute Error for validation set is  5.07869084682644\n",
      "The Root Mean Squared Error for training set is  8.218036165037551\n",
      "The Root Mean Squared Error for validation set is  10.353961009838791\n"
     ]
    }
   ],
   "source": [
    "evaluate_model(train_target, train_preds, validation_target, validation_preds)"
   ]
  },
  {
   "cell_type": "code",
   "execution_count": 28,
   "id": "cf1e3f71-9e09-4cbf-8102-596fadfb8175",
   "metadata": {},
   "outputs": [
    {
     "data": {
      "text/plain": [
       "['../../models/predictive/rf_pipe.joblib']"
      ]
     },
     "execution_count": 28,
     "metadata": {},
     "output_type": "execute_result"
    }
   ],
   "source": [
    "dump(rf_pipe, '../../models/predictive/rf_pipe.joblib', compress=3)"
   ]
  },
  {
   "cell_type": "code",
   "execution_count": 29,
   "id": "bd22a561-abb0-42b7-a6c2-56f6df0360e1",
   "metadata": {
    "tags": []
   },
   "outputs": [],
   "source": [
    "df_train['rf_preds'] = train_preds\n",
    "df_validation['rf_preds'] = validation_preds"
   ]
  },
  {
   "cell_type": "markdown",
   "id": "8f639ee9-f779-4315-a8d5-0bfb5a87be15",
   "metadata": {},
   "source": [
    "Let us have a quick look at a couple of predictions from all these models to decide which one performs best"
   ]
  },
  {
   "cell_type": "code",
   "execution_count": 30,
   "id": "dfc9d68e-36e9-460b-af7e-ebc9c3dca4bb",
   "metadata": {
    "tags": []
   },
   "outputs": [
    {
     "data": {
      "text/html": [
       "<div>\n",
       "<style scoped>\n",
       "    .dataframe tbody tr th:only-of-type {\n",
       "        vertical-align: middle;\n",
       "    }\n",
       "\n",
       "    .dataframe tbody tr th {\n",
       "        vertical-align: top;\n",
       "    }\n",
       "\n",
       "    .dataframe thead th {\n",
       "        text-align: right;\n",
       "    }\n",
       "</style>\n",
       "<table border=\"1\" class=\"dataframe\">\n",
       "  <thead>\n",
       "    <tr style=\"text-align: right;\">\n",
       "      <th></th>\n",
       "      <th>id</th>\n",
       "      <th>item_id</th>\n",
       "      <th>dept_id</th>\n",
       "      <th>cat_id</th>\n",
       "      <th>store_id</th>\n",
       "      <th>state_id</th>\n",
       "      <th>d</th>\n",
       "      <th>items_sold</th>\n",
       "      <th>date</th>\n",
       "      <th>wm_yr_wk</th>\n",
       "      <th>event_name</th>\n",
       "      <th>event_type</th>\n",
       "      <th>sell_price</th>\n",
       "      <th>num_date</th>\n",
       "      <th>day_of_week</th>\n",
       "      <th>sale_revenue</th>\n",
       "      <th>dtr_preds</th>\n",
       "      <th>adb_preds</th>\n",
       "      <th>rf_preds</th>\n",
       "    </tr>\n",
       "  </thead>\n",
       "  <tbody>\n",
       "    <tr>\n",
       "      <th>1421169</th>\n",
       "      <td>FOODS_2_289_TX_1_evaluation</td>\n",
       "      <td>FOODS_2_289</td>\n",
       "      <td>FOODS_2</td>\n",
       "      <td>FOODS</td>\n",
       "      <td>TX_1</td>\n",
       "      <td>TX</td>\n",
       "      <td>d_216</td>\n",
       "      <td>2</td>\n",
       "      <td>2011-09-01</td>\n",
       "      <td>11131</td>\n",
       "      <td>NaN</td>\n",
       "      <td>NaN</td>\n",
       "      <td>2.58</td>\n",
       "      <td>20110901</td>\n",
       "      <td>3</td>\n",
       "      <td>5.16</td>\n",
       "      <td>2.58</td>\n",
       "      <td>9.910228</td>\n",
       "      <td>5.710301</td>\n",
       "    </tr>\n",
       "    <tr>\n",
       "      <th>8287095</th>\n",
       "      <td>HOUSEHOLD_1_029_WI_3_evaluation</td>\n",
       "      <td>HOUSEHOLD_1_029</td>\n",
       "      <td>HOUSEHOLD_1</td>\n",
       "      <td>HOUSEHOLD</td>\n",
       "      <td>WI_3</td>\n",
       "      <td>WI</td>\n",
       "      <td>d_1007</td>\n",
       "      <td>2</td>\n",
       "      <td>2013-10-31</td>\n",
       "      <td>11340</td>\n",
       "      <td>Halloween</td>\n",
       "      <td>Cultural</td>\n",
       "      <td>6.48</td>\n",
       "      <td>20131031</td>\n",
       "      <td>3</td>\n",
       "      <td>12.96</td>\n",
       "      <td>6.48</td>\n",
       "      <td>17.304033</td>\n",
       "      <td>14.188916</td>\n",
       "    </tr>\n",
       "    <tr>\n",
       "      <th>714576</th>\n",
       "      <td>FOODS_3_328_TX_2_evaluation</td>\n",
       "      <td>FOODS_3_328</td>\n",
       "      <td>FOODS_3</td>\n",
       "      <td>FOODS</td>\n",
       "      <td>TX_2</td>\n",
       "      <td>TX</td>\n",
       "      <td>d_110</td>\n",
       "      <td>1</td>\n",
       "      <td>2011-05-18</td>\n",
       "      <td>11116</td>\n",
       "      <td>NaN</td>\n",
       "      <td>NaN</td>\n",
       "      <td>3.50</td>\n",
       "      <td>20110518</td>\n",
       "      <td>2</td>\n",
       "      <td>3.50</td>\n",
       "      <td>3.50</td>\n",
       "      <td>9.910228</td>\n",
       "      <td>6.041760</td>\n",
       "    </tr>\n",
       "    <tr>\n",
       "      <th>8768105</th>\n",
       "      <td>HOUSEHOLD_1_078_WI_2_evaluation</td>\n",
       "      <td>HOUSEHOLD_1_078</td>\n",
       "      <td>HOUSEHOLD_1</td>\n",
       "      <td>HOUSEHOLD</td>\n",
       "      <td>WI_2</td>\n",
       "      <td>WI</td>\n",
       "      <td>d_1056</td>\n",
       "      <td>1</td>\n",
       "      <td>2013-12-19</td>\n",
       "      <td>11347</td>\n",
       "      <td>NaN</td>\n",
       "      <td>NaN</td>\n",
       "      <td>2.84</td>\n",
       "      <td>20131219</td>\n",
       "      <td>3</td>\n",
       "      <td>2.84</td>\n",
       "      <td>10.41</td>\n",
       "      <td>9.910228</td>\n",
       "      <td>4.756225</td>\n",
       "    </tr>\n",
       "    <tr>\n",
       "      <th>2897194</th>\n",
       "      <td>HOUSEHOLD_2_437_CA_3_evaluation</td>\n",
       "      <td>HOUSEHOLD_2_437</td>\n",
       "      <td>HOUSEHOLD_2</td>\n",
       "      <td>HOUSEHOLD</td>\n",
       "      <td>CA_3</td>\n",
       "      <td>CA</td>\n",
       "      <td>d_417</td>\n",
       "      <td>4</td>\n",
       "      <td>2012-03-20</td>\n",
       "      <td>11208</td>\n",
       "      <td>NaN</td>\n",
       "      <td>NaN</td>\n",
       "      <td>7.67</td>\n",
       "      <td>20120320</td>\n",
       "      <td>1</td>\n",
       "      <td>30.68</td>\n",
       "      <td>17.94</td>\n",
       "      <td>17.304033</td>\n",
       "      <td>22.583930</td>\n",
       "    </tr>\n",
       "    <tr>\n",
       "      <th>8348546</th>\n",
       "      <td>FOODS_3_592_WI_1_evaluation</td>\n",
       "      <td>FOODS_3_592</td>\n",
       "      <td>FOODS_3</td>\n",
       "      <td>FOODS</td>\n",
       "      <td>WI_1</td>\n",
       "      <td>WI</td>\n",
       "      <td>d_1013</td>\n",
       "      <td>2</td>\n",
       "      <td>2013-11-06</td>\n",
       "      <td>11341</td>\n",
       "      <td>NaN</td>\n",
       "      <td>NaN</td>\n",
       "      <td>7.48</td>\n",
       "      <td>20131106</td>\n",
       "      <td>2</td>\n",
       "      <td>14.96</td>\n",
       "      <td>7.48</td>\n",
       "      <td>19.743875</td>\n",
       "      <td>16.043417</td>\n",
       "    </tr>\n",
       "    <tr>\n",
       "      <th>213964</th>\n",
       "      <td>FOODS_3_317_TX_2_evaluation</td>\n",
       "      <td>FOODS_3_317</td>\n",
       "      <td>FOODS_3</td>\n",
       "      <td>FOODS</td>\n",
       "      <td>TX_2</td>\n",
       "      <td>TX</td>\n",
       "      <td>d_34</td>\n",
       "      <td>3</td>\n",
       "      <td>2011-03-03</td>\n",
       "      <td>11105</td>\n",
       "      <td>NaN</td>\n",
       "      <td>NaN</td>\n",
       "      <td>1.18</td>\n",
       "      <td>20110303</td>\n",
       "      <td>3</td>\n",
       "      <td>3.54</td>\n",
       "      <td>3.54</td>\n",
       "      <td>8.840304</td>\n",
       "      <td>4.724436</td>\n",
       "    </tr>\n",
       "    <tr>\n",
       "      <th>6560377</th>\n",
       "      <td>HOUSEHOLD_1_177_TX_1_evaluation</td>\n",
       "      <td>HOUSEHOLD_1_177</td>\n",
       "      <td>HOUSEHOLD_1</td>\n",
       "      <td>HOUSEHOLD</td>\n",
       "      <td>TX_1</td>\n",
       "      <td>TX</td>\n",
       "      <td>d_835</td>\n",
       "      <td>2</td>\n",
       "      <td>2013-05-12</td>\n",
       "      <td>11316</td>\n",
       "      <td>Mother's day</td>\n",
       "      <td>Cultural</td>\n",
       "      <td>7.50</td>\n",
       "      <td>20130512</td>\n",
       "      <td>6</td>\n",
       "      <td>15.00</td>\n",
       "      <td>15.00</td>\n",
       "      <td>24.516894</td>\n",
       "      <td>17.980739</td>\n",
       "    </tr>\n",
       "    <tr>\n",
       "      <th>5485299</th>\n",
       "      <td>FOODS_2_074_CA_1_evaluation</td>\n",
       "      <td>FOODS_2_074</td>\n",
       "      <td>FOODS_2</td>\n",
       "      <td>FOODS</td>\n",
       "      <td>CA_1</td>\n",
       "      <td>CA</td>\n",
       "      <td>d_722</td>\n",
       "      <td>7</td>\n",
       "      <td>2013-01-19</td>\n",
       "      <td>11252</td>\n",
       "      <td>NaN</td>\n",
       "      <td>NaN</td>\n",
       "      <td>2.50</td>\n",
       "      <td>20130119</td>\n",
       "      <td>5</td>\n",
       "      <td>17.50</td>\n",
       "      <td>17.50</td>\n",
       "      <td>9.910228</td>\n",
       "      <td>8.754015</td>\n",
       "    </tr>\n",
       "    <tr>\n",
       "      <th>3929096</th>\n",
       "      <td>HOUSEHOLD_1_177_CA_4_evaluation</td>\n",
       "      <td>HOUSEHOLD_1_177</td>\n",
       "      <td>HOUSEHOLD_1</td>\n",
       "      <td>HOUSEHOLD</td>\n",
       "      <td>CA_4</td>\n",
       "      <td>CA</td>\n",
       "      <td>d_542</td>\n",
       "      <td>4</td>\n",
       "      <td>2012-07-23</td>\n",
       "      <td>11226</td>\n",
       "      <td>NaN</td>\n",
       "      <td>NaN</td>\n",
       "      <td>7.97</td>\n",
       "      <td>20120723</td>\n",
       "      <td>0</td>\n",
       "      <td>31.88</td>\n",
       "      <td>23.91</td>\n",
       "      <td>24.516894</td>\n",
       "      <td>15.377464</td>\n",
       "    </tr>\n",
       "  </tbody>\n",
       "</table>\n",
       "</div>"
      ],
      "text/plain": [
       "                                      id          item_id      dept_id   \n",
       "1421169      FOODS_2_289_TX_1_evaluation      FOODS_2_289      FOODS_2  \\\n",
       "8287095  HOUSEHOLD_1_029_WI_3_evaluation  HOUSEHOLD_1_029  HOUSEHOLD_1   \n",
       "714576       FOODS_3_328_TX_2_evaluation      FOODS_3_328      FOODS_3   \n",
       "8768105  HOUSEHOLD_1_078_WI_2_evaluation  HOUSEHOLD_1_078  HOUSEHOLD_1   \n",
       "2897194  HOUSEHOLD_2_437_CA_3_evaluation  HOUSEHOLD_2_437  HOUSEHOLD_2   \n",
       "8348546      FOODS_3_592_WI_1_evaluation      FOODS_3_592      FOODS_3   \n",
       "213964       FOODS_3_317_TX_2_evaluation      FOODS_3_317      FOODS_3   \n",
       "6560377  HOUSEHOLD_1_177_TX_1_evaluation  HOUSEHOLD_1_177  HOUSEHOLD_1   \n",
       "5485299      FOODS_2_074_CA_1_evaluation      FOODS_2_074      FOODS_2   \n",
       "3929096  HOUSEHOLD_1_177_CA_4_evaluation  HOUSEHOLD_1_177  HOUSEHOLD_1   \n",
       "\n",
       "            cat_id store_id state_id       d  items_sold        date   \n",
       "1421169      FOODS     TX_1       TX   d_216           2  2011-09-01  \\\n",
       "8287095  HOUSEHOLD     WI_3       WI  d_1007           2  2013-10-31   \n",
       "714576       FOODS     TX_2       TX   d_110           1  2011-05-18   \n",
       "8768105  HOUSEHOLD     WI_2       WI  d_1056           1  2013-12-19   \n",
       "2897194  HOUSEHOLD     CA_3       CA   d_417           4  2012-03-20   \n",
       "8348546      FOODS     WI_1       WI  d_1013           2  2013-11-06   \n",
       "213964       FOODS     TX_2       TX    d_34           3  2011-03-03   \n",
       "6560377  HOUSEHOLD     TX_1       TX   d_835           2  2013-05-12   \n",
       "5485299      FOODS     CA_1       CA   d_722           7  2013-01-19   \n",
       "3929096  HOUSEHOLD     CA_4       CA   d_542           4  2012-07-23   \n",
       "\n",
       "         wm_yr_wk    event_name event_type  sell_price  num_date  day_of_week   \n",
       "1421169     11131           NaN        NaN        2.58  20110901            3  \\\n",
       "8287095     11340     Halloween   Cultural        6.48  20131031            3   \n",
       "714576      11116           NaN        NaN        3.50  20110518            2   \n",
       "8768105     11347           NaN        NaN        2.84  20131219            3   \n",
       "2897194     11208           NaN        NaN        7.67  20120320            1   \n",
       "8348546     11341           NaN        NaN        7.48  20131106            2   \n",
       "213964      11105           NaN        NaN        1.18  20110303            3   \n",
       "6560377     11316  Mother's day   Cultural        7.50  20130512            6   \n",
       "5485299     11252           NaN        NaN        2.50  20130119            5   \n",
       "3929096     11226           NaN        NaN        7.97  20120723            0   \n",
       "\n",
       "         sale_revenue  dtr_preds  adb_preds   rf_preds  \n",
       "1421169          5.16       2.58   9.910228   5.710301  \n",
       "8287095         12.96       6.48  17.304033  14.188916  \n",
       "714576           3.50       3.50   9.910228   6.041760  \n",
       "8768105          2.84      10.41   9.910228   4.756225  \n",
       "2897194         30.68      17.94  17.304033  22.583930  \n",
       "8348546         14.96       7.48  19.743875  16.043417  \n",
       "213964           3.54       3.54   8.840304   4.724436  \n",
       "6560377         15.00      15.00  24.516894  17.980739  \n",
       "5485299         17.50      17.50   9.910228   8.754015  \n",
       "3929096         31.88      23.91  24.516894  15.377464  "
      ]
     },
     "execution_count": 30,
     "metadata": {},
     "output_type": "execute_result"
    }
   ],
   "source": [
    "df_train.sample(10)"
   ]
  },
  {
   "cell_type": "code",
   "execution_count": 31,
   "id": "3a0459a9-76fa-4263-9784-66df4834cc67",
   "metadata": {
    "tags": []
   },
   "outputs": [
    {
     "data": {
      "text/html": [
       "<div>\n",
       "<style scoped>\n",
       "    .dataframe tbody tr th:only-of-type {\n",
       "        vertical-align: middle;\n",
       "    }\n",
       "\n",
       "    .dataframe tbody tr th {\n",
       "        vertical-align: top;\n",
       "    }\n",
       "\n",
       "    .dataframe thead th {\n",
       "        text-align: right;\n",
       "    }\n",
       "</style>\n",
       "<table border=\"1\" class=\"dataframe\">\n",
       "  <thead>\n",
       "    <tr style=\"text-align: right;\">\n",
       "      <th></th>\n",
       "      <th>id</th>\n",
       "      <th>item_id</th>\n",
       "      <th>dept_id</th>\n",
       "      <th>cat_id</th>\n",
       "      <th>store_id</th>\n",
       "      <th>state_id</th>\n",
       "      <th>d</th>\n",
       "      <th>items_sold</th>\n",
       "      <th>date</th>\n",
       "      <th>wm_yr_wk</th>\n",
       "      <th>event_name</th>\n",
       "      <th>event_type</th>\n",
       "      <th>sell_price</th>\n",
       "      <th>num_date</th>\n",
       "      <th>day_of_week</th>\n",
       "      <th>sale_revenue</th>\n",
       "      <th>dtr_preds</th>\n",
       "      <th>adb_preds</th>\n",
       "      <th>rf_preds</th>\n",
       "    </tr>\n",
       "  </thead>\n",
       "  <tbody>\n",
       "    <tr>\n",
       "      <th>345715</th>\n",
       "      <td>FOODS_3_676_WI_2_evaluation</td>\n",
       "      <td>FOODS_3_676</td>\n",
       "      <td>FOODS_3</td>\n",
       "      <td>FOODS</td>\n",
       "      <td>WI_2</td>\n",
       "      <td>WI</td>\n",
       "      <td>d_1106</td>\n",
       "      <td>1</td>\n",
       "      <td>2014-02-07</td>\n",
       "      <td>11401</td>\n",
       "      <td>NaN</td>\n",
       "      <td>NaN</td>\n",
       "      <td>7.48</td>\n",
       "      <td>20140207</td>\n",
       "      <td>4</td>\n",
       "      <td>7.48</td>\n",
       "      <td>7.78</td>\n",
       "      <td>17.304033</td>\n",
       "      <td>13.872792</td>\n",
       "    </tr>\n",
       "    <tr>\n",
       "      <th>2095017</th>\n",
       "      <td>FOODS_3_717_TX_3_evaluation</td>\n",
       "      <td>FOODS_3_717</td>\n",
       "      <td>FOODS_3</td>\n",
       "      <td>FOODS</td>\n",
       "      <td>TX_3</td>\n",
       "      <td>TX</td>\n",
       "      <td>d_1269</td>\n",
       "      <td>1</td>\n",
       "      <td>2014-07-20</td>\n",
       "      <td>11425</td>\n",
       "      <td>NaN</td>\n",
       "      <td>NaN</td>\n",
       "      <td>1.98</td>\n",
       "      <td>20140720</td>\n",
       "      <td>6</td>\n",
       "      <td>1.98</td>\n",
       "      <td>10.00</td>\n",
       "      <td>8.840304</td>\n",
       "      <td>3.016835</td>\n",
       "    </tr>\n",
       "    <tr>\n",
       "      <th>1001108</th>\n",
       "      <td>HOUSEHOLD_2_225_CA_3_evaluation</td>\n",
       "      <td>HOUSEHOLD_2_225</td>\n",
       "      <td>HOUSEHOLD_2</td>\n",
       "      <td>HOUSEHOLD</td>\n",
       "      <td>CA_3</td>\n",
       "      <td>CA</td>\n",
       "      <td>d_1169</td>\n",
       "      <td>5</td>\n",
       "      <td>2014-04-11</td>\n",
       "      <td>11410</td>\n",
       "      <td>NaN</td>\n",
       "      <td>NaN</td>\n",
       "      <td>0.97</td>\n",
       "      <td>20140411</td>\n",
       "      <td>4</td>\n",
       "      <td>4.85</td>\n",
       "      <td>0.97</td>\n",
       "      <td>9.910228</td>\n",
       "      <td>1.281313</td>\n",
       "    </tr>\n",
       "    <tr>\n",
       "      <th>4297035</th>\n",
       "      <td>FOODS_3_406_CA_2_evaluation</td>\n",
       "      <td>FOODS_3_406</td>\n",
       "      <td>FOODS_3</td>\n",
       "      <td>FOODS</td>\n",
       "      <td>CA_2</td>\n",
       "      <td>CA</td>\n",
       "      <td>d_1471</td>\n",
       "      <td>7</td>\n",
       "      <td>2015-02-07</td>\n",
       "      <td>11502</td>\n",
       "      <td>NaN</td>\n",
       "      <td>NaN</td>\n",
       "      <td>0.80</td>\n",
       "      <td>20150207</td>\n",
       "      <td>5</td>\n",
       "      <td>5.60</td>\n",
       "      <td>8.80</td>\n",
       "      <td>9.910228</td>\n",
       "      <td>6.798206</td>\n",
       "    </tr>\n",
       "    <tr>\n",
       "      <th>656147</th>\n",
       "      <td>FOODS_3_271_TX_1_evaluation</td>\n",
       "      <td>FOODS_3_271</td>\n",
       "      <td>FOODS_3</td>\n",
       "      <td>FOODS</td>\n",
       "      <td>TX_1</td>\n",
       "      <td>TX</td>\n",
       "      <td>d_1136</td>\n",
       "      <td>1</td>\n",
       "      <td>2014-03-09</td>\n",
       "      <td>11406</td>\n",
       "      <td>NaN</td>\n",
       "      <td>NaN</td>\n",
       "      <td>4.48</td>\n",
       "      <td>20140309</td>\n",
       "      <td>6</td>\n",
       "      <td>4.48</td>\n",
       "      <td>8.96</td>\n",
       "      <td>11.869787</td>\n",
       "      <td>9.475766</td>\n",
       "    </tr>\n",
       "    <tr>\n",
       "      <th>63456</th>\n",
       "      <td>FOODS_3_144_TX_1_evaluation</td>\n",
       "      <td>FOODS_3_144</td>\n",
       "      <td>FOODS_3</td>\n",
       "      <td>FOODS</td>\n",
       "      <td>TX_1</td>\n",
       "      <td>TX</td>\n",
       "      <td>d_1078</td>\n",
       "      <td>1</td>\n",
       "      <td>2014-01-10</td>\n",
       "      <td>11350</td>\n",
       "      <td>NaN</td>\n",
       "      <td>NaN</td>\n",
       "      <td>1.88</td>\n",
       "      <td>20140110</td>\n",
       "      <td>4</td>\n",
       "      <td>1.88</td>\n",
       "      <td>1.88</td>\n",
       "      <td>8.840304</td>\n",
       "      <td>3.916210</td>\n",
       "    </tr>\n",
       "    <tr>\n",
       "      <th>2263428</th>\n",
       "      <td>FOODS_3_110_TX_1_evaluation</td>\n",
       "      <td>FOODS_3_110</td>\n",
       "      <td>FOODS_3</td>\n",
       "      <td>FOODS</td>\n",
       "      <td>TX_1</td>\n",
       "      <td>TX</td>\n",
       "      <td>d_1285</td>\n",
       "      <td>2</td>\n",
       "      <td>2014-08-05</td>\n",
       "      <td>11427</td>\n",
       "      <td>NaN</td>\n",
       "      <td>NaN</td>\n",
       "      <td>9.78</td>\n",
       "      <td>20140805</td>\n",
       "      <td>1</td>\n",
       "      <td>19.56</td>\n",
       "      <td>8.96</td>\n",
       "      <td>12.052176</td>\n",
       "      <td>14.537419</td>\n",
       "    </tr>\n",
       "    <tr>\n",
       "      <th>1739089</th>\n",
       "      <td>FOODS_3_441_WI_1_evaluation</td>\n",
       "      <td>FOODS_3_441</td>\n",
       "      <td>FOODS_3</td>\n",
       "      <td>FOODS</td>\n",
       "      <td>WI_1</td>\n",
       "      <td>WI</td>\n",
       "      <td>d_1236</td>\n",
       "      <td>6</td>\n",
       "      <td>2014-06-17</td>\n",
       "      <td>11420</td>\n",
       "      <td>NaN</td>\n",
       "      <td>NaN</td>\n",
       "      <td>6.48</td>\n",
       "      <td>20140617</td>\n",
       "      <td>1</td>\n",
       "      <td>38.88</td>\n",
       "      <td>6.48</td>\n",
       "      <td>33.879565</td>\n",
       "      <td>22.867141</td>\n",
       "    </tr>\n",
       "    <tr>\n",
       "      <th>2969802</th>\n",
       "      <td>FOODS_3_011_CA_2_evaluation</td>\n",
       "      <td>FOODS_3_011</td>\n",
       "      <td>FOODS_3</td>\n",
       "      <td>FOODS</td>\n",
       "      <td>CA_2</td>\n",
       "      <td>CA</td>\n",
       "      <td>d_1349</td>\n",
       "      <td>2</td>\n",
       "      <td>2014-10-08</td>\n",
       "      <td>11436</td>\n",
       "      <td>NaN</td>\n",
       "      <td>NaN</td>\n",
       "      <td>1.98</td>\n",
       "      <td>20141008</td>\n",
       "      <td>2</td>\n",
       "      <td>3.96</td>\n",
       "      <td>1.98</td>\n",
       "      <td>8.840304</td>\n",
       "      <td>4.670149</td>\n",
       "    </tr>\n",
       "    <tr>\n",
       "      <th>1091024</th>\n",
       "      <td>FOODS_3_785_TX_1_evaluation</td>\n",
       "      <td>FOODS_3_785</td>\n",
       "      <td>FOODS_3</td>\n",
       "      <td>FOODS</td>\n",
       "      <td>TX_1</td>\n",
       "      <td>TX</td>\n",
       "      <td>d_1177</td>\n",
       "      <td>4</td>\n",
       "      <td>2014-04-19</td>\n",
       "      <td>11412</td>\n",
       "      <td>NaN</td>\n",
       "      <td>NaN</td>\n",
       "      <td>3.00</td>\n",
       "      <td>20140419</td>\n",
       "      <td>5</td>\n",
       "      <td>12.00</td>\n",
       "      <td>13.50</td>\n",
       "      <td>24.516894</td>\n",
       "      <td>18.542888</td>\n",
       "    </tr>\n",
       "  </tbody>\n",
       "</table>\n",
       "</div>"
      ],
      "text/plain": [
       "                                      id          item_id      dept_id   \n",
       "345715       FOODS_3_676_WI_2_evaluation      FOODS_3_676      FOODS_3  \\\n",
       "2095017      FOODS_3_717_TX_3_evaluation      FOODS_3_717      FOODS_3   \n",
       "1001108  HOUSEHOLD_2_225_CA_3_evaluation  HOUSEHOLD_2_225  HOUSEHOLD_2   \n",
       "4297035      FOODS_3_406_CA_2_evaluation      FOODS_3_406      FOODS_3   \n",
       "656147       FOODS_3_271_TX_1_evaluation      FOODS_3_271      FOODS_3   \n",
       "63456        FOODS_3_144_TX_1_evaluation      FOODS_3_144      FOODS_3   \n",
       "2263428      FOODS_3_110_TX_1_evaluation      FOODS_3_110      FOODS_3   \n",
       "1739089      FOODS_3_441_WI_1_evaluation      FOODS_3_441      FOODS_3   \n",
       "2969802      FOODS_3_011_CA_2_evaluation      FOODS_3_011      FOODS_3   \n",
       "1091024      FOODS_3_785_TX_1_evaluation      FOODS_3_785      FOODS_3   \n",
       "\n",
       "            cat_id store_id state_id       d  items_sold        date   \n",
       "345715       FOODS     WI_2       WI  d_1106           1  2014-02-07  \\\n",
       "2095017      FOODS     TX_3       TX  d_1269           1  2014-07-20   \n",
       "1001108  HOUSEHOLD     CA_3       CA  d_1169           5  2014-04-11   \n",
       "4297035      FOODS     CA_2       CA  d_1471           7  2015-02-07   \n",
       "656147       FOODS     TX_1       TX  d_1136           1  2014-03-09   \n",
       "63456        FOODS     TX_1       TX  d_1078           1  2014-01-10   \n",
       "2263428      FOODS     TX_1       TX  d_1285           2  2014-08-05   \n",
       "1739089      FOODS     WI_1       WI  d_1236           6  2014-06-17   \n",
       "2969802      FOODS     CA_2       CA  d_1349           2  2014-10-08   \n",
       "1091024      FOODS     TX_1       TX  d_1177           4  2014-04-19   \n",
       "\n",
       "         wm_yr_wk event_name event_type  sell_price  num_date  day_of_week   \n",
       "345715      11401        NaN        NaN        7.48  20140207            4  \\\n",
       "2095017     11425        NaN        NaN        1.98  20140720            6   \n",
       "1001108     11410        NaN        NaN        0.97  20140411            4   \n",
       "4297035     11502        NaN        NaN        0.80  20150207            5   \n",
       "656147      11406        NaN        NaN        4.48  20140309            6   \n",
       "63456       11350        NaN        NaN        1.88  20140110            4   \n",
       "2263428     11427        NaN        NaN        9.78  20140805            1   \n",
       "1739089     11420        NaN        NaN        6.48  20140617            1   \n",
       "2969802     11436        NaN        NaN        1.98  20141008            2   \n",
       "1091024     11412        NaN        NaN        3.00  20140419            5   \n",
       "\n",
       "         sale_revenue  dtr_preds  adb_preds   rf_preds  \n",
       "345715           7.48       7.78  17.304033  13.872792  \n",
       "2095017          1.98      10.00   8.840304   3.016835  \n",
       "1001108          4.85       0.97   9.910228   1.281313  \n",
       "4297035          5.60       8.80   9.910228   6.798206  \n",
       "656147           4.48       8.96  11.869787   9.475766  \n",
       "63456            1.88       1.88   8.840304   3.916210  \n",
       "2263428         19.56       8.96  12.052176  14.537419  \n",
       "1739089         38.88       6.48  33.879565  22.867141  \n",
       "2969802          3.96       1.98   8.840304   4.670149  \n",
       "1091024         12.00      13.50  24.516894  18.542888  "
      ]
     },
     "execution_count": 31,
     "metadata": {},
     "output_type": "execute_result"
    }
   ],
   "source": [
    "df_validation.sample(10)"
   ]
  },
  {
   "cell_type": "markdown",
   "id": "4e145260-f4d5-404d-8d15-badcae4eb5de",
   "metadata": {},
   "source": [
    "## Evaluate the model on test_data"
   ]
  },
  {
   "cell_type": "markdown",
   "id": "4605334f-3c29-490e-ba0b-c4029bf8047c",
   "metadata": {},
   "source": [
    "Fetch and preprocess test data"
   ]
  },
  {
   "cell_type": "code",
   "execution_count": 32,
   "id": "a886e240-f550-4f7e-bdbb-0ecf0288b1e1",
   "metadata": {
    "tags": []
   },
   "outputs": [],
   "source": [
    "def fetch_test_data():\n",
    "    # Read files\n",
    "    df_train = pd.read_csv('../../data/raw/sales_train.csv')\n",
    "    df_test = pd.read_csv('../../data/raw/sales_test.csv')\n",
    "    df_calendar = pd.read_csv('../../data/raw/calendar.csv')\n",
    "    df_events = pd.read_csv('../../data/raw/calendar_events.csv')\n",
    "    df_sell_prices = pd.read_csv('../../data/raw/items_weekly_sell_prices.csv')\n",
    "    \n",
    "    # Concat the key fields from training dataset to test data\n",
    "    df_test = pd.concat([df_train[['id', 'item_id', 'dept_id', 'cat_id', 'store_id', 'state_id']], df_test], axis=1)\n",
    "    # Unpivot data\n",
    "    df_test = df_test.melt(id_vars=['id', 'item_id', 'dept_id', 'cat_id', 'store_id', 'state_id'], var_name='d', value_name='items_sold')\n",
    "    df_test = df_test[df_test['items_sold']!=0]\n",
    "    df_test.reset_index(drop=True, inplace=True)\n",
    "    # Join dates with events\n",
    "    df_calendar = df_calendar.join(df_events.set_index('date'), on='date').fillna('None')\n",
    "    df_test = df_test.join(df_calendar.set_index('d'), on='d')\n",
    "    # Join weekly sell prices with the items in the store\n",
    "    df_test = df_test.join(df_sell_prices.set_index(['store_id', 'item_id', 'wm_yr_wk']), on=['store_id', 'item_id', 'wm_yr_wk'])\n",
    "    # Fetch date features\n",
    "    df_test['date'] = pd.to_datetime(df_test['date'])\n",
    "    df_test['num_date'] = df_test['date'].dt.strftime('%Y%m%d')\n",
    "    df_test['day_of_week'] = df_test['date'].dt.dayofweek\n",
    "    df_test['sale_revenue'] = df_test['items_sold'] * df_test['sell_price']\n",
    "\n",
    "    return df_test\n"
   ]
  },
  {
   "cell_type": "code",
   "execution_count": 33,
   "id": "4dc91cea-a06a-4421-8d16-f12c4fefdb85",
   "metadata": {
    "tags": []
   },
   "outputs": [],
   "source": [
    "df_test = fetch_test_data()"
   ]
  },
  {
   "cell_type": "code",
   "execution_count": 34,
   "id": "450d1c22-7001-40ee-84c6-44f5e1ca84d3",
   "metadata": {},
   "outputs": [],
   "source": [
    "df_test.to_csv('../../data/processed/test_processed.csv', index=False)"
   ]
  },
  {
   "cell_type": "code",
   "execution_count": 35,
   "id": "f6ea7e4a-ece0-4cb5-8038-0da3b3db61d8",
   "metadata": {
    "tags": []
   },
   "outputs": [
    {
     "data": {
      "text/html": [
       "<div>\n",
       "<style scoped>\n",
       "    .dataframe tbody tr th:only-of-type {\n",
       "        vertical-align: middle;\n",
       "    }\n",
       "\n",
       "    .dataframe tbody tr th {\n",
       "        vertical-align: top;\n",
       "    }\n",
       "\n",
       "    .dataframe thead th {\n",
       "        text-align: right;\n",
       "    }\n",
       "</style>\n",
       "<table border=\"1\" class=\"dataframe\">\n",
       "  <thead>\n",
       "    <tr style=\"text-align: right;\">\n",
       "      <th></th>\n",
       "      <th>id</th>\n",
       "      <th>item_id</th>\n",
       "      <th>dept_id</th>\n",
       "      <th>cat_id</th>\n",
       "      <th>store_id</th>\n",
       "      <th>state_id</th>\n",
       "      <th>d</th>\n",
       "      <th>items_sold</th>\n",
       "      <th>date</th>\n",
       "      <th>wm_yr_wk</th>\n",
       "      <th>event_name</th>\n",
       "      <th>event_type</th>\n",
       "      <th>sell_price</th>\n",
       "      <th>num_date</th>\n",
       "      <th>day_of_week</th>\n",
       "      <th>sale_revenue</th>\n",
       "    </tr>\n",
       "  </thead>\n",
       "  <tbody>\n",
       "    <tr>\n",
       "      <th>0</th>\n",
       "      <td>HOBBIES_1_004_CA_1_evaluation</td>\n",
       "      <td>HOBBIES_1_004</td>\n",
       "      <td>HOBBIES_1</td>\n",
       "      <td>HOBBIES</td>\n",
       "      <td>CA_1</td>\n",
       "      <td>CA</td>\n",
       "      <td>d_1542</td>\n",
       "      <td>4</td>\n",
       "      <td>2015-04-19</td>\n",
       "      <td>11512</td>\n",
       "      <td>None</td>\n",
       "      <td>None</td>\n",
       "      <td>4.64</td>\n",
       "      <td>20150419</td>\n",
       "      <td>6</td>\n",
       "      <td>18.56</td>\n",
       "    </tr>\n",
       "    <tr>\n",
       "      <th>1</th>\n",
       "      <td>HOBBIES_1_005_CA_1_evaluation</td>\n",
       "      <td>HOBBIES_1_005</td>\n",
       "      <td>HOBBIES_1</td>\n",
       "      <td>HOBBIES</td>\n",
       "      <td>CA_1</td>\n",
       "      <td>CA</td>\n",
       "      <td>d_1542</td>\n",
       "      <td>3</td>\n",
       "      <td>2015-04-19</td>\n",
       "      <td>11512</td>\n",
       "      <td>None</td>\n",
       "      <td>None</td>\n",
       "      <td>2.88</td>\n",
       "      <td>20150419</td>\n",
       "      <td>6</td>\n",
       "      <td>8.64</td>\n",
       "    </tr>\n",
       "    <tr>\n",
       "      <th>2</th>\n",
       "      <td>HOBBIES_1_006_CA_1_evaluation</td>\n",
       "      <td>HOBBIES_1_006</td>\n",
       "      <td>HOBBIES_1</td>\n",
       "      <td>HOBBIES</td>\n",
       "      <td>CA_1</td>\n",
       "      <td>CA</td>\n",
       "      <td>d_1542</td>\n",
       "      <td>2</td>\n",
       "      <td>2015-04-19</td>\n",
       "      <td>11512</td>\n",
       "      <td>None</td>\n",
       "      <td>None</td>\n",
       "      <td>1.00</td>\n",
       "      <td>20150419</td>\n",
       "      <td>6</td>\n",
       "      <td>2.00</td>\n",
       "    </tr>\n",
       "    <tr>\n",
       "      <th>3</th>\n",
       "      <td>HOBBIES_1_007_CA_1_evaluation</td>\n",
       "      <td>HOBBIES_1_007</td>\n",
       "      <td>HOBBIES_1</td>\n",
       "      <td>HOBBIES</td>\n",
       "      <td>CA_1</td>\n",
       "      <td>CA</td>\n",
       "      <td>d_1542</td>\n",
       "      <td>1</td>\n",
       "      <td>2015-04-19</td>\n",
       "      <td>11512</td>\n",
       "      <td>None</td>\n",
       "      <td>None</td>\n",
       "      <td>7.88</td>\n",
       "      <td>20150419</td>\n",
       "      <td>6</td>\n",
       "      <td>7.88</td>\n",
       "    </tr>\n",
       "    <tr>\n",
       "      <th>4</th>\n",
       "      <td>HOBBIES_1_008_CA_1_evaluation</td>\n",
       "      <td>HOBBIES_1_008</td>\n",
       "      <td>HOBBIES_1</td>\n",
       "      <td>HOBBIES</td>\n",
       "      <td>CA_1</td>\n",
       "      <td>CA</td>\n",
       "      <td>d_1542</td>\n",
       "      <td>4</td>\n",
       "      <td>2015-04-19</td>\n",
       "      <td>11512</td>\n",
       "      <td>None</td>\n",
       "      <td>None</td>\n",
       "      <td>0.48</td>\n",
       "      <td>20150419</td>\n",
       "      <td>6</td>\n",
       "      <td>1.92</td>\n",
       "    </tr>\n",
       "  </tbody>\n",
       "</table>\n",
       "</div>"
      ],
      "text/plain": [
       "                              id        item_id    dept_id   cat_id store_id   \n",
       "0  HOBBIES_1_004_CA_1_evaluation  HOBBIES_1_004  HOBBIES_1  HOBBIES     CA_1  \\\n",
       "1  HOBBIES_1_005_CA_1_evaluation  HOBBIES_1_005  HOBBIES_1  HOBBIES     CA_1   \n",
       "2  HOBBIES_1_006_CA_1_evaluation  HOBBIES_1_006  HOBBIES_1  HOBBIES     CA_1   \n",
       "3  HOBBIES_1_007_CA_1_evaluation  HOBBIES_1_007  HOBBIES_1  HOBBIES     CA_1   \n",
       "4  HOBBIES_1_008_CA_1_evaluation  HOBBIES_1_008  HOBBIES_1  HOBBIES     CA_1   \n",
       "\n",
       "  state_id       d  items_sold       date  wm_yr_wk event_name event_type   \n",
       "0       CA  d_1542           4 2015-04-19     11512       None       None  \\\n",
       "1       CA  d_1542           3 2015-04-19     11512       None       None   \n",
       "2       CA  d_1542           2 2015-04-19     11512       None       None   \n",
       "3       CA  d_1542           1 2015-04-19     11512       None       None   \n",
       "4       CA  d_1542           4 2015-04-19     11512       None       None   \n",
       "\n",
       "   sell_price  num_date  day_of_week  sale_revenue  \n",
       "0        4.64  20150419            6         18.56  \n",
       "1        2.88  20150419            6          8.64  \n",
       "2        1.00  20150419            6          2.00  \n",
       "3        7.88  20150419            6          7.88  \n",
       "4        0.48  20150419            6          1.92  "
      ]
     },
     "execution_count": 35,
     "metadata": {},
     "output_type": "execute_result"
    }
   ],
   "source": [
    "df_test.head()"
   ]
  },
  {
   "cell_type": "markdown",
   "id": "eb7b5770-b10a-4cc2-b69c-e3d71df82afa",
   "metadata": {},
   "source": [
    "Store the target values in a separate variable"
   ]
  },
  {
   "cell_type": "code",
   "execution_count": 36,
   "id": "b5c283e5-e93d-4a14-8502-c2eb272a988c",
   "metadata": {
    "tags": []
   },
   "outputs": [],
   "source": [
    "test_target = df_test['sale_revenue']"
   ]
  },
  {
   "cell_type": "markdown",
   "id": "0fb76a52-d80f-4ca6-8e49-f918b1c58c7e",
   "metadata": {},
   "source": [
    "Use each model to predict on the test dataframe"
   ]
  },
  {
   "cell_type": "code",
   "execution_count": 37,
   "id": "b1439a38-e54d-4357-8dd7-48b92df39244",
   "metadata": {
    "tags": []
   },
   "outputs": [
    {
     "name": "stderr",
     "output_type": "stream",
     "text": [
      "C:\\Users\\rohan\\AppData\\Local\\pypoetry\\Cache\\virtualenvs\\adv-ml-asgn2-Ywkfmj9z-py3.11\\Lib\\site-packages\\sklearn\\preprocessing\\_encoders.py:228: UserWarning: Found unknown categories in columns [2] during transform. These unknown categories will be encoded as all zeros\n",
      "  warnings.warn(\n"
     ]
    }
   ],
   "source": [
    "test_preds_dtr = dtr_pipe.predict(df_test)"
   ]
  },
  {
   "cell_type": "code",
   "execution_count": 38,
   "id": "616d804f-66c1-4951-a118-f38048f81170",
   "metadata": {
    "tags": []
   },
   "outputs": [
    {
     "name": "stderr",
     "output_type": "stream",
     "text": [
      "C:\\Users\\rohan\\AppData\\Local\\pypoetry\\Cache\\virtualenvs\\adv-ml-asgn2-Ywkfmj9z-py3.11\\Lib\\site-packages\\sklearn\\preprocessing\\_encoders.py:228: UserWarning: Found unknown categories in columns [2] during transform. These unknown categories will be encoded as all zeros\n",
      "  warnings.warn(\n"
     ]
    }
   ],
   "source": [
    "test_preds_adb = adb_pipe.predict(df_test)"
   ]
  },
  {
   "cell_type": "code",
   "execution_count": 39,
   "id": "a7ebb337-b50d-4350-8191-95ffad6b1578",
   "metadata": {
    "tags": []
   },
   "outputs": [
    {
     "name": "stderr",
     "output_type": "stream",
     "text": [
      "C:\\Users\\rohan\\AppData\\Local\\pypoetry\\Cache\\virtualenvs\\adv-ml-asgn2-Ywkfmj9z-py3.11\\Lib\\site-packages\\sklearn\\preprocessing\\_encoders.py:228: UserWarning: Found unknown categories in columns [2] during transform. These unknown categories will be encoded as all zeros\n",
      "  warnings.warn(\n"
     ]
    }
   ],
   "source": [
    "test_preds_rf = rf_pipe.predict(df_test)"
   ]
  },
  {
   "cell_type": "code",
   "execution_count": 40,
   "id": "5afeb480-418e-4da3-9988-6199de91f2c4",
   "metadata": {
    "tags": []
   },
   "outputs": [
    {
     "name": "stdout",
     "output_type": "stream",
     "text": [
      "The Mean Absolute Error for Decision Tree on testing set is  7.2873548439964235\n",
      "The Root Mean Squared Error for Decision Tree on testing set is  16.34762653997853\n",
      "The Mean Absolute Error for Adaboost on testing set is  7.288600171923203\n",
      "The Root Mean Squared Error for Adaboost on testing set is  14.614817292419465\n",
      "The Mean Absolute Error for Random Forest on testing set is  5.395832585166629\n",
      "The Root Mean Squared Error for Random Forest on testing set is  12.853976589538565\n"
     ]
    }
   ],
   "source": [
    "from sklearn.metrics import mean_absolute_error, mean_squared_error\n",
    "print('The Mean Absolute Error for Decision Tree on testing set is ', mean_absolute_error(test_target, test_preds_dtr))\n",
    "print('The Root Mean Squared Error for Decision Tree on testing set is ', mean_squared_error(test_target, test_preds_dtr, squared=False))\n",
    "\n",
    "print('The Mean Absolute Error for Adaboost on testing set is ', mean_absolute_error(test_target, test_preds_adb))\n",
    "print('The Root Mean Squared Error for Adaboost on testing set is ', mean_squared_error(test_target, test_preds_adb, squared=False))\n",
    "\n",
    "print('The Mean Absolute Error for Random Forest on testing set is ', mean_absolute_error(test_target, test_preds_rf))\n",
    "print('The Root Mean Squared Error for Random Forest on testing set is ', mean_squared_error(test_target, test_preds_rf, squared=False))"
   ]
  },
  {
   "cell_type": "markdown",
   "id": "e2bc8ab0-bb3c-4f81-83a1-9db003f58255",
   "metadata": {},
   "source": [
    "**Conclusion:** Looking at the mean absolute error, root mean squared error and some sample predictions, Random Forest seems to be performing the best compared to all others. We will be using it to make predictions."
   ]
  }
 ],
 "metadata": {
  "kernelspec": {
   "display_name": "Python 3 (ipykernel)",
   "language": "python",
   "name": "python3"
  },
  "language_info": {
   "codemirror_mode": {
    "name": "ipython",
    "version": 3
   },
   "file_extension": ".py",
   "mimetype": "text/x-python",
   "name": "python",
   "nbconvert_exporter": "python",
   "pygments_lexer": "ipython3",
   "version": "3.11.4"
  }
 },
 "nbformat": 4,
 "nbformat_minor": 5
}
